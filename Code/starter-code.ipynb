{
 "cells": [
  {
   "cell_type": "markdown",
   "metadata": {
    "focus": false,
    "id": "69b9a648-bcc7-490d-9f9b-ea244d156bd6"
   },
   "source": [
    "# Predicting Which Subreddit A Post Comes From"
   ]
  },
  {
   "cell_type": "markdown",
   "metadata": {
    "ExecuteTime": {
     "end_time": "2017-10-23T19:28:02.619411Z",
     "start_time": "2017-10-23T19:28:02.600856Z"
    }
   },
   "source": [
    "One of the most polarizing issues that has dominated headlines over the past year or so is Robert Mueller's investigation into connections between the 2016 Trump campaign and Russia. There has been a ton of discussion on cable news networks, in newspaper articles, and online about the investigation and all of the updates going along with it. For this project, I wanted to invesigate how this discussion was playing out across the website [reddit](http://www.reddit.com). Specifically, I wanted to look at the the subreddits [r/The_Donald](http://the_donald.reddit.com) and [r/The_Mueller](http://the_mueller.reddit.com) as I assumed that these two subreddits would represent different sides of the same issue. "
   ]
  },
  {
   "cell_type": "markdown",
   "metadata": {},
   "source": [
    "## Step 1: Defining the Problem\n",
    "\n",
    "The problem here is twofold:\n",
    "1. What are the most important features in predicting the subreddit that a post is from?\n",
    "2. What is the most accurate prediction model that I can build to identify which subreddit a post is from?\n"
   ]
  },
  {
   "cell_type": "markdown",
   "metadata": {
    "focus": false,
    "id": "a948d79c-5527-4c0d-ab23-f5d43ce72056"
   },
   "source": [
    "## Step 2: Gathering Data\n",
    "### Scraping Thread Info from Reddit.com"
   ]
  },
  {
   "cell_type": "code",
   "execution_count": 1,
   "metadata": {},
   "outputs": [],
   "source": [
    "import requests\n",
    "import json\n",
    "import praw\n",
    "import time\n",
    "import pandas as pd\n",
    "import numpy as np"
   ]
  },
  {
   "cell_type": "code",
   "execution_count": 2,
   "metadata": {},
   "outputs": [],
   "source": [
    "# Create both URLs for the subreddits\n",
    "URL1 = \"https://www.reddit.com/r/The_Mueller/top.json\"\n",
    "URL2 = \"https://www.reddit.com/r/The_Donald/top.json\""
   ]
  },
  {
   "cell_type": "code",
   "execution_count": 3,
   "metadata": {},
   "outputs": [],
   "source": [
    "# Create payload with parameters and request results for both URLs\n",
    "payload = {'t': 'year'}\n",
    "res1 = requests.get(URL1, headers={\"User-agent\": \"Zeke Bot 0.1\"}, params= payload)\n",
    "res2 = requests.get(URL2, headers={\"User-agent\": \"Zeke Bot 0.1\"}, params= payload)"
   ]
  },
  {
   "cell_type": "markdown",
   "metadata": {},
   "source": [
    "#### Use `res.json()` to convert the response into a dictionary format and set this to a variable. "
   ]
  },
  {
   "cell_type": "code",
   "execution_count": 4,
   "metadata": {},
   "outputs": [],
   "source": [
    "data1 = res1.json()\n",
    "data2 = res2.json()"
   ]
  },
  {
   "cell_type": "code",
   "execution_count": 5,
   "metadata": {},
   "outputs": [],
   "source": [
    "# Create instance of reddit with details for scraper script I set up in reddit\n",
    "reddit = praw.Reddit(user_agent='Comment Extraction',\n",
    "                     client_id='7WcXxxBHvnT7cA', client_secret=\"ZJOOdCaK3jG4zYvX3KcABjZ4xxk\",\n",
    "                     username= 'reddit_scraper_dsi', password = 'Scraper!')\n",
    "\n",
    "# Set reddit to read only to avoid accidentally posting\n",
    "reddit.read_only = True"
   ]
  },
  {
   "cell_type": "code",
   "execution_count": 6,
   "metadata": {
    "scrolled": true
   },
   "outputs": [
    {
     "data": {
      "text/html": [
       "<div>\n",
       "<style scoped>\n",
       "    .dataframe tbody tr th:only-of-type {\n",
       "        vertical-align: middle;\n",
       "    }\n",
       "\n",
       "    .dataframe tbody tr th {\n",
       "        vertical-align: top;\n",
       "    }\n",
       "\n",
       "    .dataframe thead th {\n",
       "        text-align: right;\n",
       "    }\n",
       "</style>\n",
       "<table border=\"1\" class=\"dataframe\">\n",
       "  <thead>\n",
       "    <tr style=\"text-align: right;\">\n",
       "      <th></th>\n",
       "      <th>approved_at_utc</th>\n",
       "      <th>approved_by</th>\n",
       "      <th>archived</th>\n",
       "      <th>author</th>\n",
       "      <th>author_flair_background_color</th>\n",
       "      <th>author_flair_css_class</th>\n",
       "      <th>author_flair_richtext</th>\n",
       "      <th>author_flair_template_id</th>\n",
       "      <th>author_flair_text</th>\n",
       "      <th>author_flair_text_color</th>\n",
       "      <th>...</th>\n",
       "      <th>thumbnail_height</th>\n",
       "      <th>thumbnail_width</th>\n",
       "      <th>title</th>\n",
       "      <th>ups</th>\n",
       "      <th>url</th>\n",
       "      <th>user_reports</th>\n",
       "      <th>view_count</th>\n",
       "      <th>visited</th>\n",
       "      <th>whitelist_status</th>\n",
       "      <th>wls</th>\n",
       "    </tr>\n",
       "  </thead>\n",
       "  <tbody>\n",
       "    <tr>\n",
       "      <th>0</th>\n",
       "      <td>None</td>\n",
       "      <td>None</td>\n",
       "      <td>False</td>\n",
       "      <td>timmyJACK</td>\n",
       "      <td>None</td>\n",
       "      <td>None</td>\n",
       "      <td>[]</td>\n",
       "      <td>None</td>\n",
       "      <td>None</td>\n",
       "      <td>None</td>\n",
       "      <td>...</td>\n",
       "      <td>140.0</td>\n",
       "      <td>140.0</td>\n",
       "      <td>Traitor. Upvote this so that people see it whe...</td>\n",
       "      <td>139149</td>\n",
       "      <td>https://i.redd.it/96l7405etea11.jpg</td>\n",
       "      <td>[]</td>\n",
       "      <td>None</td>\n",
       "      <td>False</td>\n",
       "      <td>house_only</td>\n",
       "      <td>1</td>\n",
       "    </tr>\n",
       "    <tr>\n",
       "      <th>1</th>\n",
       "      <td>None</td>\n",
       "      <td>None</td>\n",
       "      <td>True</td>\n",
       "      <td>mbp4295</td>\n",
       "      <td>None</td>\n",
       "      <td>None</td>\n",
       "      <td>[]</td>\n",
       "      <td>None</td>\n",
       "      <td>None</td>\n",
       "      <td>None</td>\n",
       "      <td>...</td>\n",
       "      <td>131.0</td>\n",
       "      <td>140.0</td>\n",
       "      <td>The rest hid like cowards!</td>\n",
       "      <td>20255</td>\n",
       "      <td>https://i.redd.it/jrskryzmtvnz.jpg</td>\n",
       "      <td>[]</td>\n",
       "      <td>None</td>\n",
       "      <td>False</td>\n",
       "      <td>house_only</td>\n",
       "      <td>1</td>\n",
       "    </tr>\n",
       "    <tr>\n",
       "      <th>2</th>\n",
       "      <td>None</td>\n",
       "      <td>None</td>\n",
       "      <td>True</td>\n",
       "      <td>npor</td>\n",
       "      <td>None</td>\n",
       "      <td>None</td>\n",
       "      <td>[]</td>\n",
       "      <td>None</td>\n",
       "      <td>None</td>\n",
       "      <td>None</td>\n",
       "      <td>...</td>\n",
       "      <td>140.0</td>\n",
       "      <td>140.0</td>\n",
       "      <td>Let's give this American the upvotes he deserves</td>\n",
       "      <td>91308</td>\n",
       "      <td>https://i.redd.it/ufiypfh52zuz.jpg</td>\n",
       "      <td>[]</td>\n",
       "      <td>None</td>\n",
       "      <td>False</td>\n",
       "      <td>house_only</td>\n",
       "      <td>1</td>\n",
       "    </tr>\n",
       "    <tr>\n",
       "      <th>3</th>\n",
       "      <td>None</td>\n",
       "      <td>None</td>\n",
       "      <td>True</td>\n",
       "      <td>PepeTheRacistFrog</td>\n",
       "      <td>None</td>\n",
       "      <td>None</td>\n",
       "      <td>[]</td>\n",
       "      <td>None</td>\n",
       "      <td>None</td>\n",
       "      <td>None</td>\n",
       "      <td>...</td>\n",
       "      <td>140.0</td>\n",
       "      <td>140.0</td>\n",
       "      <td>This Is Not A Partisan Issue. 300,000,000 Amer...</td>\n",
       "      <td>19882</td>\n",
       "      <td>https://i.redd.it/ofa6sxay2tpz.jpg</td>\n",
       "      <td>[]</td>\n",
       "      <td>None</td>\n",
       "      <td>False</td>\n",
       "      <td>house_only</td>\n",
       "      <td>1</td>\n",
       "    </tr>\n",
       "    <tr>\n",
       "      <th>4</th>\n",
       "      <td>None</td>\n",
       "      <td>None</td>\n",
       "      <td>False</td>\n",
       "      <td>stupidstupidreddit</td>\n",
       "      <td>None</td>\n",
       "      <td>None</td>\n",
       "      <td>[]</td>\n",
       "      <td>None</td>\n",
       "      <td>None</td>\n",
       "      <td>None</td>\n",
       "      <td>...</td>\n",
       "      <td>93.0</td>\n",
       "      <td>140.0</td>\n",
       "      <td>It would be a shame if the newly obtained phot...</td>\n",
       "      <td>89392</td>\n",
       "      <td>https://i.redd.it/qkpp4jnc85e11.jpg</td>\n",
       "      <td>[]</td>\n",
       "      <td>None</td>\n",
       "      <td>False</td>\n",
       "      <td>house_only</td>\n",
       "      <td>1</td>\n",
       "    </tr>\n",
       "  </tbody>\n",
       "</table>\n",
       "<p>5 rows × 97 columns</p>\n",
       "</div>"
      ],
      "text/plain": [
       "  approved_at_utc approved_by  archived              author  \\\n",
       "0            None        None     False           timmyJACK   \n",
       "1            None        None      True             mbp4295   \n",
       "2            None        None      True                npor   \n",
       "3            None        None      True   PepeTheRacistFrog   \n",
       "4            None        None     False  stupidstupidreddit   \n",
       "\n",
       "  author_flair_background_color author_flair_css_class author_flair_richtext  \\\n",
       "0                          None                   None                    []   \n",
       "1                          None                   None                    []   \n",
       "2                          None                   None                    []   \n",
       "3                          None                   None                    []   \n",
       "4                          None                   None                    []   \n",
       "\n",
       "  author_flair_template_id author_flair_text author_flair_text_color ...  \\\n",
       "0                     None              None                    None ...   \n",
       "1                     None              None                    None ...   \n",
       "2                     None              None                    None ...   \n",
       "3                     None              None                    None ...   \n",
       "4                     None              None                    None ...   \n",
       "\n",
       "  thumbnail_height thumbnail_width  \\\n",
       "0            140.0           140.0   \n",
       "1            131.0           140.0   \n",
       "2            140.0           140.0   \n",
       "3            140.0           140.0   \n",
       "4             93.0           140.0   \n",
       "\n",
       "                                               title     ups  \\\n",
       "0  Traitor. Upvote this so that people see it whe...  139149   \n",
       "1                         The rest hid like cowards!   20255   \n",
       "2   Let's give this American the upvotes he deserves   91308   \n",
       "3  This Is Not A Partisan Issue. 300,000,000 Amer...   19882   \n",
       "4  It would be a shame if the newly obtained phot...   89392   \n",
       "\n",
       "                                   url  user_reports view_count  visited  \\\n",
       "0  https://i.redd.it/96l7405etea11.jpg            []       None    False   \n",
       "1   https://i.redd.it/jrskryzmtvnz.jpg            []       None    False   \n",
       "2   https://i.redd.it/ufiypfh52zuz.jpg            []       None    False   \n",
       "3   https://i.redd.it/ofa6sxay2tpz.jpg            []       None    False   \n",
       "4  https://i.redd.it/qkpp4jnc85e11.jpg            []       None    False   \n",
       "\n",
       "  whitelist_status wls  \n",
       "0       house_only   1  \n",
       "1       house_only   1  \n",
       "2       house_only   1  \n",
       "3       house_only   1  \n",
       "4       house_only   1  \n",
       "\n",
       "[5 rows x 97 columns]"
      ]
     },
     "execution_count": 6,
     "metadata": {},
     "output_type": "execute_result"
    }
   ],
   "source": [
    "post_list = []\n",
    "\n",
    "for i in range(25):\n",
    "    my_dict1 = data1['data']['children'][i]['data']\n",
    "    my_dict2 = data2['data']['children'][i]['data']\n",
    "        \n",
    "    # Create instance of submission\n",
    "    submission1 = reddit.submission(id = data1['data']['children'][i]['data']['id'])\n",
    "    submission2 = reddit.submission(id = data2['data']['children'][i]['data']['id'])\n",
    "\n",
    "    # Remove all MoreComments objects from the list of comments\n",
    "    submission1.comments.replace_more(limit=0)\n",
    "    submission2.comments.replace_more(limit=0)\n",
    "\n",
    "    # Create a list of all top level comments\n",
    "    comment_text1 = [top_level_comment.body for top_level_comment in submission1.comments \n",
    "                     if top_level_comment.author != 'AutoModerator']\n",
    "    comment_text2 = [top_level_comment.body for top_level_comment in submission2.comments \n",
    "                     if top_level_comment.author != 'AutoModerator']\n",
    "\n",
    "    # Add comments to dictionary\n",
    "    my_dict1['comments'] = comment_text1\n",
    "    my_dict2['comments'] = comment_text2\n",
    "\n",
    "    # Append dictionary to post_list\n",
    "    post_list.append(my_dict1)\n",
    "    post_list.append(my_dict2)\n",
    "\n",
    "df = pd.DataFrame(post_list)\n",
    "df.head()"
   ]
  },
  {
   "cell_type": "code",
   "execution_count": 7,
   "metadata": {
    "scrolled": true
   },
   "outputs": [
    {
     "name": "stdout",
     "output_type": "stream",
     "text": [
      "<class 'pandas.core.frame.DataFrame'>\n",
      "RangeIndex: 50 entries, 0 to 49\n",
      "Data columns (total 97 columns):\n",
      "approved_at_utc                  0 non-null object\n",
      "approved_by                      0 non-null object\n",
      "archived                         50 non-null bool\n",
      "author                           50 non-null object\n",
      "author_flair_background_color    25 non-null object\n",
      "author_flair_css_class           20 non-null object\n",
      "author_flair_richtext            46 non-null object\n",
      "author_flair_template_id         7 non-null object\n",
      "author_flair_text                21 non-null object\n",
      "author_flair_text_color          25 non-null object\n",
      "author_flair_type                46 non-null object\n",
      "author_fullname                  46 non-null object\n",
      "banned_at_utc                    0 non-null object\n",
      "banned_by                        0 non-null object\n",
      "can_gild                         50 non-null bool\n",
      "can_mod_post                     50 non-null bool\n",
      "category                         0 non-null object\n",
      "clicked                          50 non-null bool\n",
      "comments                         50 non-null object\n",
      "content_categories               0 non-null object\n",
      "contest_mode                     50 non-null bool\n",
      "created                          50 non-null float64\n",
      "created_utc                      50 non-null float64\n",
      "crosspost_parent                 1 non-null object\n",
      "crosspost_parent_list            1 non-null object\n",
      "distinguished                    0 non-null object\n",
      "domain                           50 non-null object\n",
      "downs                            50 non-null int64\n",
      "edited                           50 non-null bool\n",
      "gilded                           50 non-null int64\n",
      "hidden                           50 non-null bool\n",
      "hide_score                       50 non-null bool\n",
      "id                               50 non-null object\n",
      "is_crosspostable                 50 non-null bool\n",
      "is_meta                          50 non-null bool\n",
      "is_original_content              50 non-null bool\n",
      "is_reddit_media_domain           50 non-null bool\n",
      "is_self                          50 non-null bool\n",
      "is_video                         50 non-null bool\n",
      "likes                            0 non-null object\n",
      "link_flair_background_color      50 non-null object\n",
      "link_flair_css_class             23 non-null object\n",
      "link_flair_richtext              50 non-null object\n",
      "link_flair_template_id           11 non-null object\n",
      "link_flair_text                  23 non-null object\n",
      "link_flair_text_color            50 non-null object\n",
      "link_flair_type                  50 non-null object\n",
      "locked                           50 non-null bool\n",
      "media                            2 non-null object\n",
      "media_embed                      50 non-null object\n",
      "media_only                       50 non-null bool\n",
      "mod_note                         0 non-null object\n",
      "mod_reason_by                    0 non-null object\n",
      "mod_reason_title                 0 non-null object\n",
      "mod_reports                      50 non-null object\n",
      "name                             50 non-null object\n",
      "no_follow                        50 non-null bool\n",
      "num_comments                     50 non-null int64\n",
      "num_crossposts                   50 non-null int64\n",
      "num_reports                      0 non-null object\n",
      "over_18                          50 non-null bool\n",
      "parent_whitelist_status          50 non-null object\n",
      "permalink                        50 non-null object\n",
      "pinned                           50 non-null bool\n",
      "post_hint                        49 non-null object\n",
      "preview                          49 non-null object\n",
      "previous_visits                  1 non-null object\n",
      "pwls                             50 non-null int64\n",
      "quarantine                       50 non-null bool\n",
      "removal_reason                   0 non-null object\n",
      "report_reasons                   0 non-null object\n",
      "saved                            50 non-null bool\n",
      "score                            50 non-null int64\n",
      "secure_media                     2 non-null object\n",
      "secure_media_embed               50 non-null object\n",
      "selftext                         50 non-null object\n",
      "selftext_html                    0 non-null object\n",
      "send_replies                     50 non-null bool\n",
      "spoiler                          50 non-null bool\n",
      "stickied                         50 non-null bool\n",
      "subreddit                        50 non-null object\n",
      "subreddit_id                     50 non-null object\n",
      "subreddit_name_prefixed          50 non-null object\n",
      "subreddit_subscribers            50 non-null int64\n",
      "subreddit_type                   50 non-null object\n",
      "suggested_sort                   0 non-null object\n",
      "thumbnail                        50 non-null object\n",
      "thumbnail_height                 49 non-null float64\n",
      "thumbnail_width                  49 non-null float64\n",
      "title                            50 non-null object\n",
      "ups                              50 non-null int64\n",
      "url                              50 non-null object\n",
      "user_reports                     50 non-null object\n",
      "view_count                       0 non-null object\n",
      "visited                          50 non-null bool\n",
      "whitelist_status                 50 non-null object\n",
      "wls                              50 non-null int64\n",
      "dtypes: bool(25), float64(4), int64(9), object(59)\n",
      "memory usage: 29.4+ KB\n"
     ]
    }
   ],
   "source": [
    "df.info()"
   ]
  },
  {
   "cell_type": "code",
   "execution_count": 8,
   "metadata": {},
   "outputs": [],
   "source": [
    "df.to_csv('raw_reddit_scrape.csv')"
   ]
  },
  {
   "cell_type": "markdown",
   "metadata": {},
   "source": [
    "#### Getting more results\n",
    "\n",
    "By default, Reddit will give you the top 25 posts. The cell below uses a for loop to collect as much data as possible. The subreddit [r/The_Mueller](http://the_mueller.reddit.com) had fewer than 1000 posts for me to collect, so I instead collected 975. To keep the classes balanced, I collected the same number of posts from [r/The_Donald](http://the_donald.reddit.com)"
   ]
  },
  {
   "cell_type": "code",
   "execution_count": 9,
   "metadata": {},
   "outputs": [
    {
     "name": "stderr",
     "output_type": "stream",
     "text": [
      "/anaconda3/lib/python3.6/site-packages/ipykernel_launcher.py:70: FutureWarning: Sorting because non-concatenation axis is not aligned. A future version\n",
      "of pandas will change to not sort by default.\n",
      "\n",
      "To accept the future behavior, pass 'sort=True'.\n",
      "\n",
      "To retain the current behavior and silence the warning, pass sort=False\n",
      "\n"
     ]
    },
    {
     "name": "stdout",
     "output_type": "stream",
     "text": [
      "Loop Number: 1 df shape: (100, 97)\n",
      "Loop Number: 2 df shape: (150, 98)\n",
      "Loop Number: 3 df shape: (200, 98)\n",
      "Loop Number: 4 df shape: (250, 98)\n",
      "Loop Number: 5 df shape: (300, 98)\n",
      "Loop Number: 6 df shape: (350, 98)\n",
      "Loop Number: 7 df shape: (400, 98)\n",
      "Loop Number: 8 df shape: (450, 98)\n",
      "Loop Number: 9 df shape: (500, 98)\n",
      "Loop Number: 10 df shape: (550, 98)\n",
      "Loop Number: 11 df shape: (600, 98)\n",
      "Loop Number: 12 df shape: (650, 98)\n",
      "Loop Number: 13 df shape: (700, 98)\n",
      "Loop Number: 14 df shape: (750, 98)\n",
      "Loop Number: 15 df shape: (800, 98)\n",
      "Loop Number: 16 df shape: (850, 98)\n",
      "Loop Number: 17 df shape: (900, 98)\n",
      "Loop Number: 18 df shape: (950, 98)\n",
      "Loop Number: 19 df shape: (1000, 98)\n",
      "Loop Number: 20 df shape: (1050, 98)\n",
      "Loop Number: 21 df shape: (1100, 98)\n",
      "Loop Number: 22 df shape: (1150, 98)\n",
      "Loop Number: 23 df shape: (1200, 98)\n",
      "Loop Number: 24 df shape: (1250, 98)\n",
      "Loop Number: 25 df shape: (1300, 98)\n",
      "Loop Number: 26 df shape: (1350, 98)\n",
      "Loop Number: 27 df shape: (1400, 98)\n",
      "Loop Number: 28 df shape: (1450, 98)\n",
      "Loop Number: 29 df shape: (1500, 98)\n",
      "Loop Number: 30 df shape: (1550, 98)\n",
      "Loop Number: 31 df shape: (1600, 98)\n",
      "Loop Number: 32 df shape: (1650, 98)\n",
      "Loop Number: 33 df shape: (1700, 98)\n",
      "Loop Number: 34 df shape: (1750, 98)\n",
      "Loop Number: 35 df shape: (1800, 98)\n",
      "Loop Number: 36 df shape: (1850, 98)\n",
      "Loop Number: 37 df shape: (1900, 98)\n",
      "Loop Number: 38 df shape: (1950, 98)\n"
     ]
    }
   ],
   "source": [
    "for j in range(1, 39):\n",
    "    # Create empty list of dictionaries to append to dataframe\n",
    "    post_list = []\n",
    "    \n",
    "    # Find the afters for each of the urls\n",
    "    after1 = data1['data']['after']\n",
    "    after2 = data2['data']['after']\n",
    "    \n",
    "    # Create parameter dictionaries for both urls\n",
    "    payload1 = {'t': 'year', 'after': after1}\n",
    "    payload2 = {'t': 'year', 'after': after2}\n",
    "    \n",
    "    # Create both urls\n",
    "    url_temp1 = 'https://www.reddit.com/r/The_Mueller/top.json'\n",
    "    url_temp2 = 'https://www.reddit.com/r/The_Donald/top.json'\n",
    "    \n",
    "    # Get with requests from both urls\n",
    "    res1 = requests.get(url_temp1, headers={'User-agent': 'Zeke Bot 0.1'}, params = payload1)\n",
    "    res2 = requests.get(url_temp2, headers={'User-agent': 'Zeke Bot 0.1'}, params = payload2)\n",
    "    \n",
    "    # Replace values of data1 and data2\n",
    "    data1, data2 = res1.json(), res2.json()\n",
    "    \n",
    "    # Iterate through all children of first subreddit (posts)\n",
    "    for i in range(len(data1['data']['children'])):\n",
    "        \n",
    "        # Create dictionaries from json\n",
    "        my_dict1 = data1['data']['children'][i]['data']\n",
    "        \n",
    "        # Create instance of submission\n",
    "        submission1 = reddit.submission(id = data1['data']['children'][i]['data']['id'])\n",
    "        \n",
    "        # Remove all MoreComments objects from the list of comments\n",
    "        submission1.comments.replace_more(limit=0)\n",
    "        \n",
    "        # Create a list of all top level comments\n",
    "        comment_text1 = [top_level_comment.body for top_level_comment in submission1.comments \n",
    "                         if top_level_comment.author != 'AutoModerator']\n",
    "        \n",
    "        # Add comments to dictionary\n",
    "        my_dict1['comments'] = comment_text1\n",
    "        \n",
    "        # Append dictionary to post_list\n",
    "        post_list.append(my_dict1)\n",
    "\n",
    "    # Iterate through all children of second subreddit (posts)\n",
    "    for i in range(len(data2['data']['children'])):\n",
    "        \n",
    "        # Create dictionaries from json\n",
    "        my_dict2 = data2['data']['children'][i]['data']\n",
    "        \n",
    "        # Create instance of submission\n",
    "        submission2 = reddit.submission(id = data2['data']['children'][i]['data']['id'])\n",
    "        \n",
    "        # Remove all MoreComments objects from the list of comments\n",
    "        submission2.comments.replace_more(limit=0)\n",
    "        \n",
    "        # Create a list of all top level comments\n",
    "        comment_text2 = [top_level_comment.body for top_level_comment in submission2.comments \n",
    "                         if top_level_comment.author != 'AutoModerator']\n",
    "        \n",
    "        # Add comments to dictionary\n",
    "        my_dict2['comments'] = comment_text2\n",
    "        \n",
    "        # Append dictionary to post_list\n",
    "        post_list.append(my_dict2)\n",
    "\n",
    "    # Add post list to dataframe and save dataframe after each set of 25 posts has been processed\n",
    "    temp_df = pd.DataFrame(post_list)\n",
    "    df = pd.concat([df, temp_df], axis=0, ignore_index=True)\n",
    "    df.to_csv('../Data/raw_reddit_scrape.csv')\n",
    "        \n",
    "    print('Loop Number:', j, 'df shape:', df.shape)    \n",
    "    time.sleep(3)"
   ]
  },
  {
   "cell_type": "markdown",
   "metadata": {
    "focus": false,
    "id": "43e71edd-210e-42b1-9336-70a931f048af"
   },
   "source": [
    "### Save the results as a CSV"
   ]
  },
  {
   "cell_type": "code",
   "execution_count": 10,
   "metadata": {
    "focus": false,
    "id": "783fd153-28ac-47ab-bfca-27e7c1de95b4"
   },
   "outputs": [],
   "source": [
    "# Export to csv\n",
    "df.to_csv('../Data/raw_reddit_scrape.csv')"
   ]
  },
  {
   "cell_type": "code",
   "execution_count": 11,
   "metadata": {},
   "outputs": [
    {
     "data": {
      "text/plain": [
       "(1950, 98)"
      ]
     },
     "execution_count": 11,
     "metadata": {},
     "output_type": "execute_result"
    }
   ],
   "source": [
    "df.shape"
   ]
  },
  {
   "cell_type": "markdown",
   "metadata": {},
   "source": [
    "## Step 3: EDA and Data Cleaning"
   ]
  },
  {
   "cell_type": "code",
   "execution_count": 12,
   "metadata": {},
   "outputs": [
    {
     "data": {
      "text/plain": [
       "view_count                       1950\n",
       "num_reports                      1950\n",
       "approved_by                      1950\n",
       "banned_at_utc                    1950\n",
       "banned_by                        1950\n",
       "category                         1950\n",
       "content_categories               1950\n",
       "mod_note                         1950\n",
       "mod_reason_by                    1950\n",
       "mod_reason_title                 1950\n",
       "likes                            1950\n",
       "approved_at_utc                  1950\n",
       "removal_reason                   1950\n",
       "report_reasons                   1950\n",
       "distinguished                    1944\n",
       "author_cakeday                   1936\n",
       "suggested_sort                   1933\n",
       "selftext_html                    1929\n",
       "crosspost_parent_list            1909\n",
       "crosspost_parent                 1909\n",
       "previous_visits                  1887\n",
       "secure_media                     1881\n",
       "media                            1881\n",
       "author_flair_template_id         1679\n",
       "link_flair_template_id           1461\n",
       "link_flair_css_class             1175\n",
       "link_flair_text                  1175\n",
       "author_flair_css_class           1157\n",
       "author_flair_text                1094\n",
       "author_flair_text_color          1055\n",
       "author_flair_background_color    1055\n",
       "thumbnail_width                    60\n",
       "thumbnail_height                   60\n",
       "preview                            51\n",
       "post_hint                          51\n",
       "author_fullname                    38\n",
       "author_flair_type                  38\n",
       "author_flair_richtext              38\n",
       "dtype: int64"
      ]
     },
     "execution_count": 12,
     "metadata": {},
     "output_type": "execute_result"
    }
   ],
   "source": [
    "# Check for null values\n",
    "df.isnull().sum()[df.isnull().sum() > 0].sort_values(ascending=False)"
   ]
  },
  {
   "cell_type": "code",
   "execution_count": 20,
   "metadata": {},
   "outputs": [],
   "source": [
    "# Make a copy of df to manipulate\n",
    "red_df = df.copy()"
   ]
  },
  {
   "cell_type": "code",
   "execution_count": 21,
   "metadata": {},
   "outputs": [],
   "source": [
    "# Drop all columns that contain only null values\n",
    "null_cols = red_df.isnull().sum()[red_df.isnull().sum() == 1950].keys().tolist()\n",
    "red_df.drop(labels = null_cols, axis=1, inplace=True)"
   ]
  },
  {
   "cell_type": "code",
   "execution_count": 22,
   "metadata": {},
   "outputs": [],
   "source": [
    "# Drop all unwanted columns\n",
    "unwanted_cols = ['preview', 'thumbnail_width', 'thumbnail_height', 'link_flair_template_id','author_cakeday',\n",
    "                 'suggested_sort', 'media', 'secure_media', 'crosspost_parent_list', 'author_flair_template_id',\n",
    "                 'author_flair_css_class', 'link_flair_css_class', 'author_flair_background_color',\n",
    "                 'author_flair_type', 'author_flair_richtext', 'whitelist_status', 'wls',\n",
    "                 'visited', 'subreddit_id', 'subreddit_subscribers', 'subreddit_name_prefixed', 'can_gild',\n",
    "                 'author_fullname', 'author_flair_text_color', 'can_mod_post', 'clicked', 'contest_mode',\n",
    "                 'created', 'created_utc', 'crosspost_parent', 'distinguished', 'hidden', 'edited',\n",
    "                 'hide_score', 'is_crosspostable', 'is_meta', 'is_original_content', 'link_flair_background_color',\n",
    "                 'link_flair_text_color', 'link_flair_type', 'link_flair_richtext', 'locked', 'media_only',\n",
    "                 'no_follow', 'over_18', 'parent_whitelist_status', 'permalink', 'pinned', 'pwls',\n",
    "                 'quarantine', 'saved', 'secure_media_embed', 'spoiler', 'stickied', 'subreddit_type', \n",
    "                 'user_reports', 'mod_reports', 'previous_visits', 'selftext_html', 'media_embed', 'thumbnail']\n",
    "red_df.drop(labels=unwanted_cols, axis=1, inplace=True)"
   ]
  },
  {
   "cell_type": "code",
   "execution_count": 23,
   "metadata": {},
   "outputs": [
    {
     "data": {
      "text/plain": [
       "Index(['archived', 'author', 'author_flair_text', 'comments', 'domain',\n",
       "       'downs', 'gilded', 'id', 'is_reddit_media_domain', 'is_self',\n",
       "       'is_video', 'link_flair_text', 'name', 'num_comments', 'num_crossposts',\n",
       "       'post_hint', 'score', 'selftext', 'send_replies', 'subreddit', 'title',\n",
       "       'ups', 'url'],\n",
       "      dtype='object')"
      ]
     },
     "execution_count": 23,
     "metadata": {},
     "output_type": "execute_result"
    }
   ],
   "source": [
    "# Check to make sure correct columns remain\n",
    "red_df.columns"
   ]
  },
  {
   "cell_type": "code",
   "execution_count": 24,
   "metadata": {
    "scrolled": true
   },
   "outputs": [
    {
     "data": {
      "text/plain": [
       "(1950, 23)"
      ]
     },
     "execution_count": 24,
     "metadata": {},
     "output_type": "execute_result"
    }
   ],
   "source": [
    "red_df.shape"
   ]
  },
  {
   "cell_type": "code",
   "execution_count": 25,
   "metadata": {},
   "outputs": [
    {
     "data": {
      "text/plain": [
       "archived                    bool\n",
       "author                    object\n",
       "author_flair_text         object\n",
       "comments                  object\n",
       "domain                    object\n",
       "downs                      int64\n",
       "gilded                     int64\n",
       "id                        object\n",
       "is_reddit_media_domain      bool\n",
       "is_self                     bool\n",
       "is_video                    bool\n",
       "link_flair_text           object\n",
       "name                      object\n",
       "num_comments               int64\n",
       "num_crossposts             int64\n",
       "post_hint                 object\n",
       "score                      int64\n",
       "selftext                  object\n",
       "send_replies                bool\n",
       "subreddit                 object\n",
       "title                     object\n",
       "ups                        int64\n",
       "url                       object\n",
       "dtype: object"
      ]
     },
     "execution_count": 25,
     "metadata": {},
     "output_type": "execute_result"
    }
   ],
   "source": [
    "red_df.dtypes"
   ]
  },
  {
   "cell_type": "code",
   "execution_count": 26,
   "metadata": {},
   "outputs": [],
   "source": [
    "# Remap True/False to 1/0 for boolean columns\n",
    "bool_dict = {True: 1, False: 0}\n",
    "\n",
    "bool_cols = ['archived', 'is_reddit_media_domain', 'is_self', 'is_video', 'send_replies']\n",
    "for col in bool_cols:\n",
    "    red_df[col] = red_df[col].map(bool_dict)"
   ]
  },
  {
   "cell_type": "code",
   "execution_count": 27,
   "metadata": {
    "scrolled": true
   },
   "outputs": [
    {
     "data": {
      "text/plain": [
       "The_Mueller    975\n",
       "The_Donald     975\n",
       "Name: subreddit, dtype: int64"
      ]
     },
     "execution_count": 27,
     "metadata": {},
     "output_type": "execute_result"
    }
   ],
   "source": [
    "# Double check to make sure classes are balanced\n",
    "red_df['subreddit'].value_counts()"
   ]
  },
  {
   "cell_type": "code",
   "execution_count": 28,
   "metadata": {},
   "outputs": [
    {
     "data": {
      "text/plain": [
       "1    975\n",
       "0    975\n",
       "Name: subreddit, dtype: int64"
      ]
     },
     "execution_count": 28,
     "metadata": {},
     "output_type": "execute_result"
    }
   ],
   "source": [
    "# Remap subreddits to 1 and 0, distinction between positive and negative class is arbitrary\n",
    "red_df['subreddit'] = red_df['subreddit'].map(lambda cell: 1 if cell == 'The_Mueller' else 0)\n",
    "\n",
    "red_df['subreddit'].value_counts()"
   ]
  },
  {
   "cell_type": "code",
   "execution_count": 35,
   "metadata": {},
   "outputs": [],
   "source": [
    "# Replace null values in both flair text caterogies with empty strings\n",
    "red_df['author_flair_text'].fillna('', inplace=True)\n",
    "\n",
    "red_df['link_flair_text'].fillna('', inplace=True)"
   ]
  },
  {
   "cell_type": "code",
   "execution_count": 45,
   "metadata": {},
   "outputs": [],
   "source": [
    "# Combine two flair text features into one and then drop original features\n",
    "red_df['flair_text'] = red_df['author_flair_text'] + red_df['link_flair_text']\n",
    "red_df.drop(['author_flair_text', 'link_flair_text'], axis=1, inplace=True)"
   ]
  },
  {
   "cell_type": "code",
   "execution_count": 41,
   "metadata": {},
   "outputs": [
    {
     "data": {
      "text/plain": [
       "1061"
      ]
     },
     "execution_count": 41,
     "metadata": {},
     "output_type": "execute_result"
    }
   ],
   "source": [
    "len(list(red_df['author'].unique()))"
   ]
  },
  {
   "cell_type": "markdown",
   "metadata": {},
   "source": [
    "Several features are no longer helpful:\n",
    "- There are over 1000 unique authors in a dataset comprised of fewer than 2000 posts, so I will not use this feature. \n",
    "- The id and name features are also unhelfpul as they are just unique identifiers for each post. \n",
    "- The information I'm most interested in from the url feature is captured in the domain feature.\n",
    "\n",
    "All three features are dropped in the cell below"
   ]
  },
  {
   "cell_type": "code",
   "execution_count": 43,
   "metadata": {},
   "outputs": [],
   "source": [
    "red_df.drop(['author', 'id', 'url', 'name'], axis=1, inplace=True)"
   ]
  },
  {
   "cell_type": "code",
   "execution_count": 50,
   "metadata": {
    "scrolled": true
   },
   "outputs": [
    {
     "data": {
      "text/plain": [
       "archived                   int64\n",
       "comments                  object\n",
       "domain                    object\n",
       "downs                      int64\n",
       "gilded                     int64\n",
       "is_reddit_media_domain     int64\n",
       "is_self                    int64\n",
       "is_video                   int64\n",
       "num_comments               int64\n",
       "num_crossposts             int64\n",
       "post_hint                 object\n",
       "score                      int64\n",
       "selftext                  object\n",
       "send_replies               int64\n",
       "subreddit                  int64\n",
       "title                     object\n",
       "ups                        int64\n",
       "flair_text                object\n",
       "dtype: object"
      ]
     },
     "execution_count": 50,
     "metadata": {},
     "output_type": "execute_result"
    }
   ],
   "source": [
    "red_df.dtypes"
   ]
  },
  {
   "cell_type": "markdown",
   "metadata": {},
   "source": [
    "The last bit of data cleaning to do before moving into NLP is to dummy the post_hint variable. This is done below."
   ]
  },
  {
   "cell_type": "code",
   "execution_count": 53,
   "metadata": {},
   "outputs": [],
   "source": [
    "red_df = pd.get_dummies(red_df, columns=['post_hint'], drop_first=True)"
   ]
  },
  {
   "cell_type": "markdown",
   "metadata": {},
   "source": [
    "Now the data is ready to be processed using NLP methods"
   ]
  },
  {
   "cell_type": "code",
   "execution_count": 320,
   "metadata": {},
   "outputs": [],
   "source": [
    "red_df.to_csv('../Data/reddit_scrape_cleaned.csv')"
   ]
  },
  {
   "cell_type": "markdown",
   "metadata": {
    "focus": false,
    "id": "db045898-1d2d-4af2-8e79-437c4c7546b4"
   },
   "source": [
    "## Step 4: Modeling\n",
    "\n",
    "#### Import necessary modeling and NLP packages"
   ]
  },
  {
   "cell_type": "code",
   "execution_count": 767,
   "metadata": {},
   "outputs": [],
   "source": [
    "from sklearn.model_selection import cross_val_score, train_test_split, GridSearchCV\n",
    "from sklearn.feature_extraction.text import CountVectorizer, TfidfVectorizer, ENGLISH_STOP_WORDS\n",
    "from sklearn.linear_model import LogisticRegression\n",
    "from sklearn.naive_bayes import MultinomialNB\n",
    "from sklearn.base import BaseEstimator, TransformerMixin\n",
    "from sklearn.preprocessing import StandardScaler\n",
    "from sklearn.pipeline import Pipeline, FeatureUnion\n",
    "from sklearn.ensemble import BaggingClassifier, RandomForestClassifier, ExtraTreesClassifier  \n",
    "from nltk.tokenize import RegexpTokenizer\n",
    "from nltk.corpus import stopwords\n",
    "from sklearn.tree import DecisionTreeClassifier\n",
    "\n",
    "import seaborn as sns\n",
    "import matplotlib.pyplot as plt\n",
    "import matplotlib.patches as mpatches\n",
    "%matplotlib inline"
   ]
  },
  {
   "cell_type": "markdown",
   "metadata": {},
   "source": [
    "## First Model: title + selftext"
   ]
  },
  {
   "cell_type": "code",
   "execution_count": 54,
   "metadata": {},
   "outputs": [],
   "source": [
    "# Create X and y and then train/test split\n",
    "X1 = red_df['title'] + red_df['selftext']\n",
    "y1 = red_df['subreddit']\n",
    "\n",
    "X1_train, X1_test, y1_train, y1_test = train_test_split(X1, y1, random_state=8)"
   ]
  },
  {
   "cell_type": "code",
   "execution_count": 321,
   "metadata": {
    "scrolled": true
   },
   "outputs": [],
   "source": [
    "# Instanstiate count vectorizer object and transform X data\n",
    "cvect = CountVectorizer(stop_words='english')\n",
    "\n",
    "X1_train_cvect = cvect.fit_transform(X1_train)\n",
    "X1_test_cvect = cvect.transform(X1_test)"
   ]
  },
  {
   "cell_type": "code",
   "execution_count": 322,
   "metadata": {},
   "outputs": [],
   "source": [
    "# Instantiate 2 different classifier models\n",
    "logreg = LogisticRegression()\n",
    "nb = MultinomialNB()"
   ]
  },
  {
   "cell_type": "code",
   "execution_count": 323,
   "metadata": {},
   "outputs": [
    {
     "name": "stdout",
     "output_type": "stream",
     "text": [
      "[0.70491803 0.73921971 0.74332649]\n",
      "0.7291547446729728\n"
     ]
    }
   ],
   "source": [
    "nb_score = cross_val_score(nb, X1_train_cvect, y1_train)\n",
    "print(nb_score)\n",
    "print(nb_score.mean())"
   ]
  },
  {
   "cell_type": "code",
   "execution_count": 324,
   "metadata": {},
   "outputs": [
    {
     "name": "stderr",
     "output_type": "stream",
     "text": [
      "/anaconda3/lib/python3.6/site-packages/sklearn/utils/validation.py:475: DataConversionWarning: Data with input dtype int64 was converted to float64 by StandardScaler.\n",
      "  warnings.warn(msg, DataConversionWarning)\n"
     ]
    }
   ],
   "source": [
    "# Scale data before using logistic regression\n",
    "ss = StandardScaler()\n",
    "X1_train_scaled = ss.fit_transform(X1_train_cvect.todense())\n",
    "X1_test_scaled = ss.transform(X1_test_cvect.todense())"
   ]
  },
  {
   "cell_type": "code",
   "execution_count": 325,
   "metadata": {},
   "outputs": [
    {
     "name": "stdout",
     "output_type": "stream",
     "text": [
      "[0.68442623 0.69609856 0.65297741]\n",
      "0.6778340682891799\n"
     ]
    }
   ],
   "source": [
    "logreg_score = cross_val_score(logreg, X1_train_scaled, y1_train)\n",
    "print(logreg_score)\n",
    "print(logreg_score.mean())"
   ]
  },
  {
   "cell_type": "markdown",
   "metadata": {},
   "source": [
    "After creating 2 simple models, a logistic regression and a multinomial naive bayes, it seems the naive bayes had a slightly better fit. Both models still have a lot of room for improvement. Below I will check for overfit on each model."
   ]
  },
  {
   "cell_type": "code",
   "execution_count": 788,
   "metadata": {},
   "outputs": [
    {
     "name": "stdout",
     "output_type": "stream",
     "text": [
      "Train Score: 0.981532147742818\n",
      "Test Score: 0.7028688524590164\n"
     ]
    }
   ],
   "source": [
    "logreg.fit(X1_train_cvect, y1_train)\n",
    "m1_log_score = logreg.score(X1_test_scaled, y1_test)\n",
    "log_scores = [m1_log_score]\n",
    "print('Train Score:', logreg.score(X1_train_scaled, y1_train))\n",
    "print('Test Score:', logreg.score(X1_test_scaled, y1_test))"
   ]
  },
  {
   "cell_type": "code",
   "execution_count": 789,
   "metadata": {},
   "outputs": [
    {
     "name": "stdout",
     "output_type": "stream",
     "text": [
      "Train Score: 0.9411764705882353\n",
      "Test Score: 0.7438524590163934\n"
     ]
    }
   ],
   "source": [
    "nb.fit(X1_train_cvect, y1_train)\n",
    "m1_nb_score = nb.score(X1_test_cvect, y1_test)\n",
    "nb_scores = [m1_nb_score]\n",
    "print('Train Score:', nb.score(X1_train_cvect, y1_train))\n",
    "print('Test Score:', nb.score(X1_test_cvect, y1_test))"
   ]
  },
  {
   "cell_type": "code",
   "execution_count": 328,
   "metadata": {},
   "outputs": [
    {
     "data": {
      "text/plain": [
       "5688"
      ]
     },
     "execution_count": 328,
     "metadata": {},
     "output_type": "execute_result"
    }
   ],
   "source": [
    "len(cvect.get_feature_names())"
   ]
  },
  {
   "cell_type": "code",
   "execution_count": 329,
   "metadata": {},
   "outputs": [
    {
     "name": "stdout",
     "output_type": "stream",
     "text": [
      "20.466153846153848\n"
     ]
    }
   ],
   "source": [
    "word_count = 0\n",
    "for i in X1.index:\n",
    "    word_count += len(X1[i].split())\n",
    "print(word_count/1950)"
   ]
  },
  {
   "cell_type": "markdown",
   "metadata": {},
   "source": [
    "I will attempt this again with a TfidfVectorizer instead of a count vectorizer"
   ]
  },
  {
   "cell_type": "code",
   "execution_count": 716,
   "metadata": {},
   "outputs": [],
   "source": [
    "tvect = TfidfVectorizer()\n",
    "tvect.fit(X1_train)\n",
    "\n",
    "X1_train_tvect = tvect.transform(X1_train)\n",
    "X1_test_tvect = tvect.transform(X1_test)"
   ]
  },
  {
   "cell_type": "code",
   "execution_count": 717,
   "metadata": {},
   "outputs": [],
   "source": [
    "logreg_t = LogisticRegression()\n",
    "nb_t = MultinomialNB()"
   ]
  },
  {
   "cell_type": "code",
   "execution_count": 718,
   "metadata": {},
   "outputs": [
    {
     "name": "stdout",
     "output_type": "stream",
     "text": [
      "0.7418032786885246\n"
     ]
    }
   ],
   "source": [
    "nb_t.fit(X1_train_tvect, y1_train)\n",
    "m1_nbt_score = nb_t.score(X1_test_tvect, y1_test)\n",
    "print(m1_nbt_score)"
   ]
  },
  {
   "cell_type": "code",
   "execution_count": 720,
   "metadata": {},
   "outputs": [],
   "source": [
    "ss_t = StandardScaler()\n",
    "X1_train_t_scaled = ss_t.fit_transform(X1_train_tvect.todense())\n",
    "X1_test_t_scaled = ss_t.transform(X1_test_tvect.todense())"
   ]
  },
  {
   "cell_type": "code",
   "execution_count": 721,
   "metadata": {},
   "outputs": [
    {
     "name": "stdout",
     "output_type": "stream",
     "text": [
      "0.6885245901639344\n"
     ]
    }
   ],
   "source": [
    "logreg_t.fit(X1_train_t_scaled, y1_train)\n",
    "m1_logt_score = logreg_t.score(X1_test_t_scaled, y1_test)\n",
    "print(m1_logt_score)"
   ]
  },
  {
   "cell_type": "code",
   "execution_count": 726,
   "metadata": {},
   "outputs": [
    {
     "data": {
      "text/html": [
       "<div>\n",
       "<style scoped>\n",
       "    .dataframe tbody tr th:only-of-type {\n",
       "        vertical-align: middle;\n",
       "    }\n",
       "\n",
       "    .dataframe tbody tr th {\n",
       "        vertical-align: top;\n",
       "    }\n",
       "\n",
       "    .dataframe thead th {\n",
       "        text-align: right;\n",
       "    }\n",
       "</style>\n",
       "<table border=\"1\" class=\"dataframe\">\n",
       "  <thead>\n",
       "    <tr style=\"text-align: right;\">\n",
       "      <th></th>\n",
       "      <th>classifier</th>\n",
       "      <th>score</th>\n",
       "      <th>vectorizer</th>\n",
       "    </tr>\n",
       "  </thead>\n",
       "  <tbody>\n",
       "    <tr>\n",
       "      <th>0</th>\n",
       "      <td>LogisticRegression</td>\n",
       "      <td>0.702869</td>\n",
       "      <td>CountVectorizer</td>\n",
       "    </tr>\n",
       "    <tr>\n",
       "      <th>1</th>\n",
       "      <td>MultinomialNB</td>\n",
       "      <td>0.743852</td>\n",
       "      <td>CountVectorizer</td>\n",
       "    </tr>\n",
       "    <tr>\n",
       "      <th>2</th>\n",
       "      <td>LogisticRegression</td>\n",
       "      <td>0.688525</td>\n",
       "      <td>TfidfVectorizer</td>\n",
       "    </tr>\n",
       "    <tr>\n",
       "      <th>3</th>\n",
       "      <td>MultinomialNB</td>\n",
       "      <td>0.741803</td>\n",
       "      <td>TfidfVectorizer</td>\n",
       "    </tr>\n",
       "  </tbody>\n",
       "</table>\n",
       "</div>"
      ],
      "text/plain": [
       "           classifier     score       vectorizer\n",
       "0  LogisticRegression  0.702869  CountVectorizer\n",
       "1       MultinomialNB  0.743852  CountVectorizer\n",
       "2  LogisticRegression  0.688525  TfidfVectorizer\n",
       "3       MultinomialNB  0.741803  TfidfVectorizer"
      ]
     },
     "execution_count": 726,
     "metadata": {},
     "output_type": "execute_result"
    }
   ],
   "source": [
    "m1_scores = [\n",
    "    {'score':m1_log_score, \n",
    "     'vectorizer': 'CountVectorizer',\n",
    "     'classifier': 'LogisticRegression'\n",
    "    },\n",
    "    {'score':m1_nb_score, \n",
    "     'vectorizer': 'CountVectorizer',\n",
    "     'classifier': 'MultinomialNB'\n",
    "    },\n",
    "    {'score':m1_logt_score, \n",
    "     'vectorizer': 'TfidfVectorizer',\n",
    "     'classifier': 'LogisticRegression'\n",
    "    },\n",
    "    {'score':m1_nbt_score, \n",
    "     'vectorizer': 'TfidfVectorizer',\n",
    "     'classifier': 'MultinomialNB'\n",
    "    }]\n",
    "m1_scores=pd.DataFrame(m1_scores)\n",
    "m1_scores\n"
   ]
  },
  {
   "cell_type": "code",
   "execution_count": 927,
   "metadata": {},
   "outputs": [
    {
     "data": {
      "image/png": "[encoded data removed]",
      "text/plain": [
       "<Figure size 720x720 with 1 Axes>"
      ]
     },
     "metadata": {},
     "output_type": "display_data"
    }
   ],
   "source": [
    "plt.figure(figsize=(10,10))\n",
    "plt.barh([0, .8, 2.0, 2.8],\n",
    "         m1_scores['score'],\n",
    "         color = ['b', 'g', 'b', 'g'],\n",
    "         alpha = 0.8,\n",
    "         label=m1_scores['classifier'])\n",
    "plt.yticks([])\n",
    "plt.xticks([])\n",
    "plt.title(\"Models Based on Title and Self Text Were Weak Learners\", size=20, ha='left', position=(0,1))\n",
    "ax = plt.gca()\n",
    "sides = ['left', 'right', 'top', 'bottom']\n",
    "for side in sides:\n",
    "    ax.spines[side].set_visible(False)\n",
    "plt.yticks([0.4, 2.4], ['Count Vectorizer', 'Tf-IDF Vectorizer'], size=18, alpha=0.7)\n",
    "blue_patch = mpatches.Patch(color='b', label='Logistic Regression')\n",
    "green_patch = mpatches.Patch(color='g', label='Multinomial Naive Bayes')\n",
    "plt.legend(handles=[blue_patch, green_patch], bbox_to_anchor=(1,0.95), prop={'size': 14})\n",
    "barh_y_vals = [0, .8, 2.0, 2.8]\n",
    "for i in range(4):\n",
    "    plt.text(m1_scores.loc[i,'score']-.05,\n",
    "             barh_y_vals[i],\n",
    "             str(round(m1_scores.loc[i,'score'],3)),\n",
    "             color='w',\n",
    "             size=18,\n",
    "             ha='right')\n",
    "plt.savefig('./Assets/model_1.png', bbox_inches='tight')"
   ]
  },
  {
   "cell_type": "markdown",
   "metadata": {},
   "source": [
    "Both models were severely overfit, performing significantly better on training data than on testing data. This may be because of the small amount of information being used for each prediction relative to the number of features. There are over 5500 features in the prediction matrix, while the average number of words being evaluated for each post is only about 20. In order to make this model more accurate, I will try introducing more data."
   ]
  },
  {
   "cell_type": "markdown",
   "metadata": {},
   "source": [
    "## Model 2: Add all numeric metadata"
   ]
  },
  {
   "cell_type": "code",
   "execution_count": 135,
   "metadata": {},
   "outputs": [],
   "source": [
    "X2 = pd.concat([red_df.select_dtypes('int64'), red_df['title'] + red_df['selftext']], axis=1).drop('subreddit', axis=1)\n",
    "y2 = red_df['subreddit']"
   ]
  },
  {
   "cell_type": "code",
   "execution_count": 136,
   "metadata": {},
   "outputs": [],
   "source": [
    "X2_train, X2_test, y2_train, y2_test = train_test_split(X2, y2, random_state=42)"
   ]
  },
  {
   "cell_type": "code",
   "execution_count": 137,
   "metadata": {},
   "outputs": [],
   "source": [
    "cvect2 = CountVectorizer(stop_words='english')\n",
    "\n",
    "cvect2.fit(X2_train[0])\n",
    "X2_train_cv = pd.DataFrame(cvect2.transform(X2_train[0]).todense(), columns=cvect2.get_feature_names(), index=X2_train.index)\n",
    "X2_test_cv =  pd.DataFrame(cvect2.transform(X2_test[0]).todense(), columns=cvect2.get_feature_names(), index=X2_test.index)"
   ]
  },
  {
   "cell_type": "code",
   "execution_count": 138,
   "metadata": {},
   "outputs": [],
   "source": [
    "X2_train = pd.concat([X2_train.drop(0, axis=1), X2_train_cv], axis=1)\n",
    "X2_test = pd.concat([X2_test.drop(0, axis=1), X2_test_cv], axis=1)"
   ]
  },
  {
   "cell_type": "code",
   "execution_count": 139,
   "metadata": {},
   "outputs": [],
   "source": [
    "logreg2 = LogisticRegression()\n",
    "nb2 = MultinomialNB()"
   ]
  },
  {
   "cell_type": "code",
   "execution_count": 140,
   "metadata": {},
   "outputs": [
    {
     "name": "stdout",
     "output_type": "stream",
     "text": [
      "[0.79918033 0.79098361 0.73045267]\n",
      "0.7735388697744496\n"
     ]
    }
   ],
   "source": [
    "nb2_score = cross_val_score(nb2, X2_train, y2_train)\n",
    "print(nb2_score)\n",
    "print(nb2_score.mean())"
   ]
  },
  {
   "cell_type": "code",
   "execution_count": 141,
   "metadata": {},
   "outputs": [],
   "source": [
    "ss2 = StandardScaler()\n",
    "\n",
    "X2_train_scaled = ss2.fit_transform(X2_train)\n",
    "X2_test_scaled = ss2.transform(X2_test)"
   ]
  },
  {
   "cell_type": "code",
   "execution_count": 142,
   "metadata": {},
   "outputs": [
    {
     "name": "stdout",
     "output_type": "stream",
     "text": [
      "[0.78483607 0.71516393 0.76337449]\n",
      "0.7544581618655694\n"
     ]
    }
   ],
   "source": [
    "logreg2_score = cross_val_score(logreg2, X2_train_scaled, y2_train)\n",
    "print(logreg2_score)\n",
    "print(logreg2_score.mean())"
   ]
  },
  {
   "cell_type": "markdown",
   "metadata": {},
   "source": [
    "Including this information made both models stronger. I will check both models on the testing data below to see how they perform."
   ]
  },
  {
   "cell_type": "code",
   "execution_count": 791,
   "metadata": {},
   "outputs": [
    {
     "name": "stdout",
     "output_type": "stream",
     "text": [
      "Train score: 0.9986320109439124\n",
      "Test score: 0.7745901639344263\n"
     ]
    }
   ],
   "source": [
    "logreg2.fit(X2_train_scaled, y2_train)\n",
    "log_scores.append(logreg2.score(X2_test_scaled, y2_test))\n",
    "print('Train score:', logreg2.score(X2_train_scaled, y2_train))\n",
    "print('Test score:', logreg2.score(X2_test_scaled, y2_test))"
   ]
  },
  {
   "cell_type": "code",
   "execution_count": 790,
   "metadata": {},
   "outputs": [
    {
     "name": "stdout",
     "output_type": "stream",
     "text": [
      "Train score: 0.8242134062927496\n",
      "Test score: 0.7479508196721312\n"
     ]
    }
   ],
   "source": [
    "nb2.fit(X2_train, y2_train)\n",
    "nb_scores.append(nb2.score(X2_test, y2_test))\n",
    "print('Train score:', nb2.score(X2_train, y2_train))\n",
    "print('Test score:', nb2.score(X2_test, y2_test))"
   ]
  },
  {
   "cell_type": "markdown",
   "metadata": {},
   "source": [
    "### Model 3: Add Flair Text and Domain dummies"
   ]
  },
  {
   "cell_type": "code",
   "execution_count": 146,
   "metadata": {},
   "outputs": [
    {
     "data": {
      "text/plain": [
       "Index([              'archived',                  'downs',\n",
       "                       'gilded', 'is_reddit_media_domain',\n",
       "                      'is_self',               'is_video',\n",
       "                 'num_comments',         'num_crossposts',\n",
       "                        'score',           'send_replies',\n",
       "                          'ups',                        0],\n",
       "      dtype='object')"
      ]
     },
     "execution_count": 146,
     "metadata": {},
     "output_type": "execute_result"
    }
   ],
   "source": [
    "X2.columns"
   ]
  },
  {
   "cell_type": "code",
   "execution_count": 252,
   "metadata": {},
   "outputs": [],
   "source": [
    "tokenizer = RegexpTokenizer(r'(\\w+)\\.\\w{2}\\.\\w{2}|\\w+\\.(\\w+)\\.\\S*|(\\w+)\\.\\S*')"
   ]
  },
  {
   "cell_type": "code",
   "execution_count": 253,
   "metadata": {},
   "outputs": [],
   "source": [
    "def domain_tokenizer(x):\n",
    "    tokens = tokenizer.tokenize(x)\n",
    "    token = [a for a in tokens[0] if a != '']\n",
    "    return token[0]"
   ]
  },
  {
   "cell_type": "code",
   "execution_count": 255,
   "metadata": {},
   "outputs": [
    {
     "data": {
      "text/plain": [
       "0                 redd\n",
       "1                 redd\n",
       "2                 redd\n",
       "3                 redd\n",
       "4                 redd\n",
       "5              foxnews\n",
       "6                 redd\n",
       "7              magaimg\n",
       "8                imgur\n",
       "9              twitter\n",
       "10            newsweek\n",
       "11             twitter\n",
       "12                redd\n",
       "13                redd\n",
       "14                redd\n",
       "15               imgur\n",
       "16               imgur\n",
       "17                redd\n",
       "18               imgur\n",
       "19              nypost\n",
       "20                redd\n",
       "21                redd\n",
       "22                redd\n",
       "23                redd\n",
       "24         motherjones\n",
       "25             archive\n",
       "26                redd\n",
       "27              nypost\n",
       "28                redd\n",
       "29                redd\n",
       "             ...      \n",
       "1920          theonion\n",
       "1921           twitter\n",
       "1922          chicago2\n",
       "1923             imgur\n",
       "1924    chicagotribune\n",
       "1925           thehill\n",
       "1926              self\n",
       "1927             imgur\n",
       "1928              redd\n",
       "1929              redd\n",
       "1930              redd\n",
       "1931           archive\n",
       "1932             imgur\n",
       "1933              redd\n",
       "1934              redd\n",
       "1935           magaimg\n",
       "1936              redd\n",
       "1937           twitter\n",
       "1938              redd\n",
       "1939              redd\n",
       "1940             imgur\n",
       "1941             imgur\n",
       "1942           nytimes\n",
       "1943              redd\n",
       "1944           reuters\n",
       "1945             imgur\n",
       "1946           twitter\n",
       "1947           magaimg\n",
       "1948              redd\n",
       "1949              redd\n",
       "Name: domain, Length: 1950, dtype: object"
      ]
     },
     "execution_count": 255,
     "metadata": {},
     "output_type": "execute_result"
    }
   ],
   "source": [
    "red_df['domain'] = red_df['domain'].map(domain_tokenizer)"
   ]
  },
  {
   "cell_type": "code",
   "execution_count": 224,
   "metadata": {},
   "outputs": [],
   "source": [
    "X3 = pd.concat([X2, red_df['flair_text'], pd.get_dummies(red_df['domain'], prefix='domain', drop_first=True)], axis=1)\n",
    "y3 = red_df['subreddit']"
   ]
  },
  {
   "cell_type": "code",
   "execution_count": 332,
   "metadata": {},
   "outputs": [
    {
     "data": {
      "text/plain": [
       "(318, 179)"
      ]
     },
     "execution_count": 332,
     "metadata": {},
     "output_type": "execute_result"
    }
   ],
   "source": [
    "# Create custom stop words from nltk and sklearn stop words together\n",
    "s1 = set(ENGLISH_STOP_WORDS)\n",
    "s2 = set(stopwords.words('english'))\n",
    "len(s1), len(s2)"
   ]
  },
  {
   "cell_type": "code",
   "execution_count": 334,
   "metadata": {},
   "outputs": [
    {
     "data": {
      "text/plain": [
       "378"
      ]
     },
     "execution_count": 334,
     "metadata": {},
     "output_type": "execute_result"
    }
   ],
   "source": [
    "# Combine both sets of stopwords into a set\n",
    "stops = s1.union(s2)\n",
    "len(stops)"
   ]
  },
  {
   "cell_type": "code",
   "execution_count": 350,
   "metadata": {},
   "outputs": [],
   "source": [
    "# Create count vectorizers for each text feature\n",
    "cv3_title = CountVectorizer(stop_words=stops)\n",
    "cv3_flair = CountVectorizer(stop_words=stops)"
   ]
  },
  {
   "cell_type": "code",
   "execution_count": 351,
   "metadata": {},
   "outputs": [],
   "source": [
    "# Train test split data\n",
    "X3_train, X3_test, y3_train, y3_test = train_test_split(X3, y3, random_state=42)"
   ]
  },
  {
   "cell_type": "code",
   "execution_count": 352,
   "metadata": {},
   "outputs": [],
   "source": [
    "# Transform the train and test data from the title column (labeled 0)\n",
    "# Make the transformed sparse matrix into a dataframe with appropriate feature names\n",
    "cv3_title.fit(X3_train[0])\n",
    "X3_train_title_vect = pd.DataFrame(cv3_title.transform(X3_train[0]).todense(),\n",
    "                                   columns = cv3_title.get_feature_names(),\n",
    "                                   index = X3_train.index)\n",
    "X3_test_title_vect = pd.DataFrame(cv3_title.transform(X3_test[0]).todense(),\n",
    "                                  columns = cv3_title.get_feature_names(),\n",
    "                                  index = X3_test.index)"
   ]
  },
  {
   "cell_type": "code",
   "execution_count": 353,
   "metadata": {},
   "outputs": [],
   "source": [
    "# Transform the train and test data from the flair_text column \n",
    "# Make the transformed sparse matrix into a dataframe with appropriate feature names\n",
    "cv3_flair.fit(X3_train['flair_text'])\n",
    "X3_train_flair_vect = pd.DataFrame(cv3_flair.transform(X3_train['flair_text']).todense(),\n",
    "                                   columns = cv3_flair.get_feature_names(),\n",
    "                                   index = X3_train.index)\n",
    "X3_test_flair_vect = pd.DataFrame(cv3_flair.transform(X3_test['flair_text']).todense(),\n",
    "                                  columns = cv3_flair.get_feature_names(),\n",
    "                                  index = X3_test.index)"
   ]
  },
  {
   "cell_type": "code",
   "execution_count": 354,
   "metadata": {},
   "outputs": [
    {
     "data": {
      "text/plain": [
       "((1462, 5351), (1462, 498))"
      ]
     },
     "execution_count": 354,
     "metadata": {},
     "output_type": "execute_result"
    }
   ],
   "source": [
    "X3_train_title_vect.shape, X3_train_flair_vect.shape"
   ]
  },
  {
   "cell_type": "code",
   "execution_count": 355,
   "metadata": {},
   "outputs": [],
   "source": [
    "X3_title_sets = [X3_train_title_vect, X3_test_title_vect]\n",
    "X3_flair_sets = [X3_train_flair_vect, X3_test_flair_vect]\n",
    "\n",
    "# Append newly created dataframes from vectorized columns back to original dataframes\n",
    "# Also drop original columns that have been vectorized\n",
    "for s in X3_title_sets:\n",
    "    \n",
    "    # Discard all vectorized features that were purely numeric\n",
    "    cols = [col for col in cv3_title.get_feature_names() if not col.isnumeric()]\n",
    "    \n",
    "    # Prepend 'title_self__' to columns from vectorized title and selftext\n",
    "    col_names = ['title+self__' + col for col in cols]\n",
    "    s = s[cols]\n",
    "    s.columns = col_names\n",
    "    if s.shape[0] ==1462:\n",
    "        X3_train = pd.concat([X3_train.drop(0, axis=1), s], axis=1)\n",
    "    else:\n",
    "        X3_test = pd.concat([X3_test.drop(0, axis=1), s], axis=1)\n",
    "\n",
    "for f in X3_flair_sets:\n",
    "    \n",
    "    # Discard all vectorized features that were purely numeric\n",
    "    flair_cols = [col for col in cv3_flair.get_feature_names() if not col.isnumeric()]\n",
    "    \n",
    "    # Prepend 'flair__' to columns from vectorized flair text\n",
    "    flair_col_names = ['flair__' + col for col in flair_cols]\n",
    "    f = f[flair_cols]\n",
    "    f.columns = flair_col_names\n",
    "    if f.shape[0] ==1462:\n",
    "        X3_train = pd.concat([X3_train.drop('flair_text', axis=1), f], axis=1)\n",
    "    else:\n",
    "        X3_test = pd.concat([X3_test.drop('flair_text', axis=1), f], axis=1)"
   ]
  },
  {
   "cell_type": "code",
   "execution_count": 356,
   "metadata": {},
   "outputs": [
    {
     "data": {
      "text/plain": [
       "((1462, 6038), (488, 6038))"
      ]
     },
     "execution_count": 356,
     "metadata": {},
     "output_type": "execute_result"
    }
   ],
   "source": [
    "X3_train.shape, X3_test.shape"
   ]
  },
  {
   "cell_type": "code",
   "execution_count": 357,
   "metadata": {},
   "outputs": [
    {
     "name": "stdout",
     "output_type": "stream",
     "text": [
      "Fitting 3 folds for each of 10 candidates, totalling 30 fits\n"
     ]
    },
    {
     "name": "stderr",
     "output_type": "stream",
     "text": [
      "[Parallel(n_jobs=1)]: Done  30 out of  30 | elapsed:   29.2s finished\n"
     ]
    },
    {
     "data": {
      "text/plain": [
       "GridSearchCV(cv=None, error_score='raise',\n",
       "       estimator=Pipeline(memory=None,\n",
       "     steps=[('ss', StandardScaler(copy=True, with_mean=True, with_std=True)), ('logreg', LogisticRegression(C=1.0, class_weight=None, dual=False, fit_intercept=True,\n",
       "          intercept_scaling=1, max_iter=100, multi_class='ovr', n_jobs=1,\n",
       "          penalty='l2', random_state=None, solver='liblinear', tol=0.0001,\n",
       "          verbose=0, warm_start=False))]),\n",
       "       fit_params=None, iid=True, n_jobs=1,\n",
       "       param_grid={'logreg__penalty': ('l1', 'l2'), 'logreg__C': (0.15, 0.2, 0.25, 0.3, 0.35)},\n",
       "       pre_dispatch='2*n_jobs', refit=True, return_train_score='warn',\n",
       "       scoring=None, verbose=1)"
      ]
     },
     "execution_count": 357,
     "metadata": {},
     "output_type": "execute_result"
    }
   ],
   "source": [
    "# Use gridsearchCV to find best parameters for the logistic regression\n",
    "\n",
    "pipe3 = Pipeline([\n",
    "    ('ss', StandardScaler()),\n",
    "    ('logreg', LogisticRegression())\n",
    "])\n",
    "\n",
    "grid_params3 = {\n",
    "    'logreg__penalty': ('l1', 'l2'), \n",
    "    'logreg__C': (0.15, 0.20, 0.25, 0.30, 0.35)\n",
    "}\n",
    "gs3 = GridSearchCV(pipe3, grid_params3, verbose=1)\n",
    "\n",
    "gs3.fit(X3_train, y3_train)"
   ]
  },
  {
   "cell_type": "markdown",
   "metadata": {},
   "source": [
    "The cells below represent the best scores with stop_words = union of nltk and sklearn stop words"
   ]
  },
  {
   "cell_type": "code",
   "execution_count": 344,
   "metadata": {},
   "outputs": [
    {
     "data": {
      "text/plain": [
       "0.896032831737346"
      ]
     },
     "execution_count": 344,
     "metadata": {},
     "output_type": "execute_result"
    }
   ],
   "source": [
    "gs3.best_score_"
   ]
  },
  {
   "cell_type": "code",
   "execution_count": 345,
   "metadata": {},
   "outputs": [
    {
     "data": {
      "text/plain": [
       "{'logreg__C': 0.25, 'logreg__penalty': 'l1'}"
      ]
     },
     "execution_count": 345,
     "metadata": {},
     "output_type": "execute_result"
    }
   ],
   "source": [
    "gs3.best_params_"
   ]
  },
  {
   "cell_type": "code",
   "execution_count": 346,
   "metadata": {},
   "outputs": [
    {
     "data": {
      "text/plain": [
       "0.9057377049180327"
      ]
     },
     "execution_count": 346,
     "metadata": {},
     "output_type": "execute_result"
    }
   ],
   "source": [
    "gs3.score(X3_test, y3_test)"
   ]
  },
  {
   "cell_type": "code",
   "execution_count": 792,
   "metadata": {},
   "outputs": [],
   "source": [
    "log_scores.append(gs3.score(X3_test, y3_test))"
   ]
  },
  {
   "cell_type": "markdown",
   "metadata": {},
   "source": [
    "I also want to try the logistic regression with only scaling the originially numeric features and not any of the one-hot-encoded columns"
   ]
  },
  {
   "cell_type": "code",
   "execution_count": 387,
   "metadata": {},
   "outputs": [],
   "source": [
    "dummy_cols3 = X3_train.select_dtypes('uint8').columns"
   ]
  },
  {
   "cell_type": "markdown",
   "metadata": {},
   "source": [
    "Scale all features that are not dummy variables"
   ]
  },
  {
   "cell_type": "code",
   "execution_count": 368,
   "metadata": {},
   "outputs": [
    {
     "name": "stdout",
     "output_type": "stream",
     "text": [
      "<class 'pandas.core.frame.DataFrame'>\n",
      "Int64Index: 1462 entries, 1863 to 1126\n",
      "Columns: 6038 entries, archived to flair__россия\n",
      "dtypes: int64(5860), uint8(178)\n",
      "memory usage: 65.6 MB\n"
     ]
    }
   ],
   "source": [
    "X3_train.info()"
   ]
  },
  {
   "cell_type": "code",
   "execution_count": 388,
   "metadata": {},
   "outputs": [],
   "source": [
    "scaling_cols3 = [col for col in X3_train.columns if col not in dummy_cols3]"
   ]
  },
  {
   "cell_type": "code",
   "execution_count": 389,
   "metadata": {},
   "outputs": [],
   "source": [
    "X3_train_scale_all = X3_train[scaling_cols3].copy()\n",
    "X3_test_scale_all = X3_test[scaling_cols3].copy()"
   ]
  },
  {
   "cell_type": "code",
   "execution_count": 398,
   "metadata": {},
   "outputs": [],
   "source": [
    "ss3_all = StandardScaler()\n",
    "ss3_all.fit(X3_train_scale_all)\n",
    "X3_train_scale_all_t = pd.DataFrame(ss3_all.transform(X3_train_scale_all),\n",
    "                                    columns=X3_train_scale_all.columns,\n",
    "                                    index=X3_train.index)\n",
    "X3_test_scale_all_t = pd.DataFrame(ss3_all.transform(X3_test_scale_all),\n",
    "                                   columns=X3_test_scale_all.columns,\n",
    "                                   index=X3_test.index)"
   ]
  },
  {
   "cell_type": "code",
   "execution_count": 400,
   "metadata": {
    "scrolled": true
   },
   "outputs": [],
   "source": [
    "X3_train_scaled_all = pd.concat([X3_train.drop(scaling_cols3, axis=1), X3_train_scale_all_t], axis=1)\n",
    "X3_test_scaled_all = pd.concat([X3_test.drop(scaling_cols3, axis=1), X3_test_scale_all_t], axis=1)"
   ]
  },
  {
   "cell_type": "code",
   "execution_count": 401,
   "metadata": {},
   "outputs": [
    {
     "name": "stdout",
     "output_type": "stream",
     "text": [
      "Fitting 3 folds for each of 12 candidates, totalling 36 fits\n"
     ]
    },
    {
     "name": "stderr",
     "output_type": "stream",
     "text": [
      "[Parallel(n_jobs=1)]: Done  36 out of  36 | elapsed:   33.3s finished\n"
     ]
    },
    {
     "data": {
      "text/plain": [
       "GridSearchCV(cv=None, error_score='raise',\n",
       "       estimator=LogisticRegression(C=1.0, class_weight=None, dual=False, fit_intercept=True,\n",
       "          intercept_scaling=1, max_iter=100, multi_class='ovr', n_jobs=1,\n",
       "          penalty='l2', random_state=None, solver='liblinear', tol=0.0001,\n",
       "          verbose=0, warm_start=False),\n",
       "       fit_params=None, iid=True, n_jobs=1,\n",
       "       param_grid={'penalty': ('l1', 'l2'), 'C': (0.01, 0.05, 0.1, 0.25, 0.5, 1)},\n",
       "       pre_dispatch='2*n_jobs', refit=True, return_train_score='warn',\n",
       "       scoring=None, verbose=1)"
      ]
     },
     "execution_count": 401,
     "metadata": {},
     "output_type": "execute_result"
    }
   ],
   "source": [
    "gs3_a = GridSearchCV(\n",
    "    LogisticRegression(),\n",
    "    {\n",
    "        'penalty': ('l1', 'l2'),\n",
    "        'C': (0.01, 0.05, 0.1, 0.25, 0.5, 1)\n",
    "    },\n",
    "    verbose=1\n",
    ")\n",
    "\n",
    "gs3_a.fit(X3_train_scaled_all, y3_train)"
   ]
  },
  {
   "cell_type": "code",
   "execution_count": 402,
   "metadata": {},
   "outputs": [
    {
     "data": {
      "text/plain": [
       "0.8830369357045144"
      ]
     },
     "execution_count": 402,
     "metadata": {},
     "output_type": "execute_result"
    }
   ],
   "source": [
    "gs3_a.best_score_"
   ]
  },
  {
   "cell_type": "code",
   "execution_count": 403,
   "metadata": {},
   "outputs": [
    {
     "data": {
      "text/plain": [
       "{'C': 0.1, 'penalty': 'l1'}"
      ]
     },
     "execution_count": 403,
     "metadata": {},
     "output_type": "execute_result"
    }
   ],
   "source": [
    "gs3_a.best_params_"
   ]
  },
  {
   "cell_type": "code",
   "execution_count": 404,
   "metadata": {},
   "outputs": [
    {
     "data": {
      "text/plain": [
       "0.9016393442622951"
      ]
     },
     "execution_count": 404,
     "metadata": {},
     "output_type": "execute_result"
    }
   ],
   "source": [
    "gs3_a.score(X3_test_scaled_all, y3_test)"
   ]
  },
  {
   "cell_type": "code",
   "execution_count": 405,
   "metadata": {},
   "outputs": [
    {
     "data": {
      "text/plain": [
       "11"
      ]
     },
     "execution_count": 405,
     "metadata": {},
     "output_type": "execute_result"
    }
   ],
   "source": [
    "text_feat_cols = [col for col in X3_train.columns if \"__\" in col]\n",
    "scaling_cols3_b = [col for col in X3_train.columns if col not in text_feat_cols and col not in dummy_cols3]\n",
    "len(scaling_cols3_b)"
   ]
  },
  {
   "cell_type": "code",
   "execution_count": 406,
   "metadata": {},
   "outputs": [],
   "source": [
    "X3_train_scale_some = X3_train[scaling_cols3_b].copy()\n",
    "X3_test_scale_some = X3_test[scaling_cols3_b].copy()"
   ]
  },
  {
   "cell_type": "code",
   "execution_count": 407,
   "metadata": {},
   "outputs": [],
   "source": [
    "ss3_some = StandardScaler()\n",
    "ss3_some.fit(X3_train_scale_some)\n",
    "X3_train_scale_some_t = pd.DataFrame(ss3_some.transform(X3_train_scale_some),\n",
    "                                    columns=X3_train_scale_some.columns,\n",
    "                                    index=X3_train.index)\n",
    "X3_test_scale_some_t = pd.DataFrame(ss3_some.transform(X3_test_scale_some),\n",
    "                                   columns=X3_test_scale_some.columns,\n",
    "                                   index=X3_test.index)"
   ]
  },
  {
   "cell_type": "code",
   "execution_count": 408,
   "metadata": {},
   "outputs": [],
   "source": [
    "X3_train_scaled_some = pd.concat([X3_train.drop(scaling_cols3_b, axis=1), X3_train_scale_some_t], axis=1)\n",
    "X3_test_scaled_some = pd.concat([X3_test.drop(scaling_cols3_b, axis=1), X3_test_scale_some_t], axis=1)"
   ]
  },
  {
   "cell_type": "code",
   "execution_count": 411,
   "metadata": {},
   "outputs": [
    {
     "name": "stdout",
     "output_type": "stream",
     "text": [
      "Fitting 3 folds for each of 12 candidates, totalling 36 fits\n"
     ]
    },
    {
     "name": "stderr",
     "output_type": "stream",
     "text": [
      "[Parallel(n_jobs=1)]: Done  36 out of  36 | elapsed:    4.3s finished\n"
     ]
    },
    {
     "data": {
      "text/plain": [
       "GridSearchCV(cv=None, error_score='raise',\n",
       "       estimator=LogisticRegression(C=1.0, class_weight=None, dual=False, fit_intercept=True,\n",
       "          intercept_scaling=1, max_iter=100, multi_class='ovr', n_jobs=1,\n",
       "          penalty='l2', random_state=None, solver='liblinear', tol=0.0001,\n",
       "          verbose=0, warm_start=False),\n",
       "       fit_params=None, iid=True, n_jobs=1,\n",
       "       param_grid={'penalty': ('l1', 'l2'), 'C': (0.01, 0.05, 0.1, 0.25, 0.5, 1)},\n",
       "       pre_dispatch='2*n_jobs', refit=True, return_train_score='warn',\n",
       "       scoring=None, verbose=1)"
      ]
     },
     "execution_count": 411,
     "metadata": {},
     "output_type": "execute_result"
    }
   ],
   "source": [
    "gs3_b = GridSearchCV(\n",
    "    LogisticRegression(),\n",
    "    {\n",
    "        'penalty': ('l1', 'l2'),\n",
    "        'C': (0.01, 0.05, 0.1, 0.25, 0.5, 1)\n",
    "    },\n",
    "    verbose=1\n",
    ")\n",
    "\n",
    "gs3_b.fit(X3_train_scaled_some, y3_train)"
   ]
  },
  {
   "cell_type": "code",
   "execution_count": 412,
   "metadata": {},
   "outputs": [
    {
     "data": {
      "text/plain": [
       "0.8980848153214774"
      ]
     },
     "execution_count": 412,
     "metadata": {},
     "output_type": "execute_result"
    }
   ],
   "source": [
    "gs3_b.best_score_"
   ]
  },
  {
   "cell_type": "code",
   "execution_count": 413,
   "metadata": {},
   "outputs": [
    {
     "data": {
      "text/plain": [
       "{'C': 0.5, 'penalty': 'l2'}"
      ]
     },
     "execution_count": 413,
     "metadata": {},
     "output_type": "execute_result"
    }
   ],
   "source": [
    "gs3_b.best_params_"
   ]
  },
  {
   "cell_type": "code",
   "execution_count": 415,
   "metadata": {},
   "outputs": [
    {
     "data": {
      "text/plain": [
       "0.9139344262295082"
      ]
     },
     "execution_count": 415,
     "metadata": {},
     "output_type": "execute_result"
    }
   ],
   "source": [
    "gs3_b.score(X3_test_scaled_some, y3_test)"
   ]
  },
  {
   "cell_type": "markdown",
   "metadata": {},
   "source": [
    "Scaling only the columns that were not one-hot-encoded or from a count vectorizer resulted in a slightly stronger prediction from the model."
   ]
  },
  {
   "cell_type": "markdown",
   "metadata": {},
   "source": [
    "At this point, the logistic regression is the best performing model with this information. Below I will try using some naive bayes"
   ]
  },
  {
   "cell_type": "code",
   "execution_count": 416,
   "metadata": {},
   "outputs": [],
   "source": [
    "nb3 = MultinomialNB()"
   ]
  },
  {
   "cell_type": "code",
   "execution_count": 417,
   "metadata": {},
   "outputs": [
    {
     "name": "stdout",
     "output_type": "stream",
     "text": [
      "Cross-val Scores: [0.82786885 0.82377049 0.74897119]\n",
      "Avg Cross-val Score: 0.8002035125593109\n"
     ]
    }
   ],
   "source": [
    "nb3_scores = cross_val_score(nb3, X3_train, y3_train)\n",
    "print('Cross-val Scores:', nb3_scores)\n",
    "print('Avg Cross-val Score:', nb3_scores.mean())"
   ]
  },
  {
   "cell_type": "code",
   "execution_count": 418,
   "metadata": {},
   "outputs": [
    {
     "name": "stdout",
     "output_type": "stream",
     "text": [
      "0.8454172366621067\n",
      "0.7848360655737705\n"
     ]
    }
   ],
   "source": [
    "nb3.fit(X3_train, y3_train)\n",
    "print(nb3.score(X3_train, y3_train))\n",
    "print(nb3.score(X3_test, y3_test))"
   ]
  },
  {
   "cell_type": "code",
   "execution_count": 793,
   "metadata": {},
   "outputs": [],
   "source": [
    "nb_scores.append(nb3.score(X3_test, y3_test))"
   ]
  },
  {
   "cell_type": "markdown",
   "metadata": {},
   "source": [
    "The naive bayes has improved, but is still overfit and is not nearly as strong as the logistic regression model. This is likely because there are more than just text features in the data and there is no regularization being used in naive bayes. Since there are so many features, this is becoming a high variance model, but since the accuracy is so low, decreasing bias by increasing variance does not seem worth it."
   ]
  },
  {
   "cell_type": "code",
   "execution_count": 808,
   "metadata": {},
   "outputs": [
    {
     "data": {
      "text/html": [
       "<div>\n",
       "<style scoped>\n",
       "    .dataframe tbody tr th:only-of-type {\n",
       "        vertical-align: middle;\n",
       "    }\n",
       "\n",
       "    .dataframe tbody tr th {\n",
       "        vertical-align: top;\n",
       "    }\n",
       "\n",
       "    .dataframe thead th {\n",
       "        text-align: right;\n",
       "    }\n",
       "</style>\n",
       "<table border=\"1\" class=\"dataframe\">\n",
       "  <thead>\n",
       "    <tr style=\"text-align: right;\">\n",
       "      <th></th>\n",
       "      <th>Naive Bayes</th>\n",
       "      <th>Logistic Regression</th>\n",
       "    </tr>\n",
       "  </thead>\n",
       "  <tbody>\n",
       "    <tr>\n",
       "      <th>Model 1</th>\n",
       "      <td>0.743852</td>\n",
       "      <td>0.702869</td>\n",
       "    </tr>\n",
       "    <tr>\n",
       "      <th>Model 2</th>\n",
       "      <td>0.747951</td>\n",
       "      <td>0.774590</td>\n",
       "    </tr>\n",
       "    <tr>\n",
       "      <th>Model 3</th>\n",
       "      <td>0.784836</td>\n",
       "      <td>0.905738</td>\n",
       "    </tr>\n",
       "  </tbody>\n",
       "</table>\n",
       "</div>"
      ],
      "text/plain": [
       "         Naive Bayes  Logistic Regression\n",
       "Model 1     0.743852             0.702869\n",
       "Model 2     0.747951             0.774590\n",
       "Model 3     0.784836             0.905738"
      ]
     },
     "execution_count": 808,
     "metadata": {},
     "output_type": "execute_result"
    }
   ],
   "source": [
    "model_scores = pd.DataFrame([nb_scores, log_scores],\n",
    "             index=['Naive Bayes', 'Logistic Regression'],\n",
    "             columns=['Model 1', 'Model 2', 'Model 3'])\n",
    "model_scores = model_scores.T\n",
    "model_scores"
   ]
  },
  {
   "cell_type": "code",
   "execution_count": 810,
   "metadata": {},
   "outputs": [],
   "source": [
    "model_scores['Naive Bayes Net'] = [0,\n",
    "                                   model_scores.iloc[1,0] - model_scores.iloc[0,0],\n",
    "                                   model_scores.iloc[2,0] - model_scores.iloc[1,0]]\n",
    "\n",
    "model_scores['Logistic Regression Net'] = [0,\n",
    "                                           model_scores.iloc[1,1]-model_scores.iloc[0,1],\n",
    "                                           model_scores.iloc[2,1]-model_scores.iloc[1,1]]"
   ]
  },
  {
   "cell_type": "code",
   "execution_count": 813,
   "metadata": {},
   "outputs": [],
   "source": [
    "model_scores.to_csv('./Assets/model_scores.csv')"
   ]
  },
  {
   "cell_type": "code",
   "execution_count": 833,
   "metadata": {},
   "outputs": [],
   "source": [
    "model_scores['nb_water'] = [0, model_scores.iloc[0,0], model_scores.iloc[1, 0]]\n",
    "model_scores['nb_water_top'] = [model_scores.iloc[0,0], model_scores.iloc[1, 2], model_scores.iloc[2,2]]"
   ]
  },
  {
   "cell_type": "code",
   "execution_count": 834,
   "metadata": {},
   "outputs": [
    {
     "data": {
      "text/html": [
       "<div>\n",
       "<style scoped>\n",
       "    .dataframe tbody tr th:only-of-type {\n",
       "        vertical-align: middle;\n",
       "    }\n",
       "\n",
       "    .dataframe tbody tr th {\n",
       "        vertical-align: top;\n",
       "    }\n",
       "\n",
       "    .dataframe thead th {\n",
       "        text-align: right;\n",
       "    }\n",
       "</style>\n",
       "<table border=\"1\" class=\"dataframe\">\n",
       "  <thead>\n",
       "    <tr style=\"text-align: right;\">\n",
       "      <th></th>\n",
       "      <th>Naive Bayes</th>\n",
       "      <th>Logistic Regression</th>\n",
       "      <th>Naive Bayes Net</th>\n",
       "      <th>Logistic Regression Net</th>\n",
       "      <th>nb_water</th>\n",
       "      <th>nb_water_top</th>\n",
       "    </tr>\n",
       "  </thead>\n",
       "  <tbody>\n",
       "    <tr>\n",
       "      <th>Model 1</th>\n",
       "      <td>0.743852</td>\n",
       "      <td>0.702869</td>\n",
       "      <td>0.000000</td>\n",
       "      <td>0.000000</td>\n",
       "      <td>0.000000</td>\n",
       "      <td>0.743852</td>\n",
       "    </tr>\n",
       "    <tr>\n",
       "      <th>Model 2</th>\n",
       "      <td>0.747951</td>\n",
       "      <td>0.774590</td>\n",
       "      <td>0.004098</td>\n",
       "      <td>0.071721</td>\n",
       "      <td>0.743852</td>\n",
       "      <td>0.004098</td>\n",
       "    </tr>\n",
       "    <tr>\n",
       "      <th>Model 3</th>\n",
       "      <td>0.784836</td>\n",
       "      <td>0.905738</td>\n",
       "      <td>0.036885</td>\n",
       "      <td>0.131148</td>\n",
       "      <td>0.747951</td>\n",
       "      <td>0.036885</td>\n",
       "    </tr>\n",
       "  </tbody>\n",
       "</table>\n",
       "</div>"
      ],
      "text/plain": [
       "         Naive Bayes  Logistic Regression  Naive Bayes Net  \\\n",
       "Model 1     0.743852             0.702869         0.000000   \n",
       "Model 2     0.747951             0.774590         0.004098   \n",
       "Model 3     0.784836             0.905738         0.036885   \n",
       "\n",
       "         Logistic Regression Net  nb_water  nb_water_top  \n",
       "Model 1                 0.000000  0.000000      0.743852  \n",
       "Model 2                 0.071721  0.743852      0.004098  \n",
       "Model 3                 0.131148  0.747951      0.036885  "
      ]
     },
     "execution_count": 834,
     "metadata": {},
     "output_type": "execute_result"
    }
   ],
   "source": [
    "model_scores"
   ]
  },
  {
   "cell_type": "code",
   "execution_count": 904,
   "metadata": {},
   "outputs": [
    {
     "data": {
      "image/png": "[encoded data removed]",
      "text/plain": [
       "<Figure size 720x720 with 1 Axes>"
      ]
     },
     "metadata": {},
     "output_type": "display_data"
    }
   ],
   "source": [
    "fig, ax = plt.subplots()\n",
    "model_scores[['nb_water', 'nb_water_top']].plot(kind='bar', stacked=True, legend=False, ax=ax,\n",
    "                                                figsize=(10,10), color = ['w', 'blue'], alpha=0.6,\n",
    "                                                title=\"Naive Bayes Showed Minimal Improvement with New Features\",\n",
    "                                                layout='tight')\n",
    "plt.xticks(size=15, alpha=0.7)\n",
    "plt.yticks([])\n",
    "plt.title('Naive Bayes Showed Minimal Improvement', size=22, position=(0,1), ha='left')\n",
    "for item in ['left', 'right', 'top', 'bottom']:\n",
    "    ax.spines[item].set_visible(False)\n",
    "plt.plot([0, 1], [model_scores.loc['Model 1','Naive Bayes'],model_scores.loc['Model 1','Naive Bayes']],\n",
    "         'r', lw=1.5, alpha=0.5)\n",
    "plt.plot([1, 2], [model_scores.loc['Model 2','Naive Bayes'],model_scores.loc['Model 2','Naive Bayes']],\n",
    "         'r', lw=1.5, alpha=0.5)\n",
    "for i in range(3):\n",
    "    plt.text(i, model_scores.iloc[i, 0]+.02, str(round(100*model_scores.iloc[i,0],1))+'%', ha='center', size=18)\n",
    "\n",
    "plt.text(0.5, 0.7, '+' + str(round(100*model_scores.iloc[1,2],2)) + '%', size=12, alpha=0.7, ha='center')\n",
    "plt.text(1.5, 0.71, '+' + str(round(100*model_scores.iloc[2,2],2)) + '%', size=12, alpha=0.7, ha='center')\n",
    "plt.savefig('./Assets/nb_waterfall.png', bbox_inches='tight')"
   ]
  },
  {
   "cell_type": "code",
   "execution_count": 895,
   "metadata": {},
   "outputs": [],
   "source": [
    "model_scores['log_water'] = [0, model_scores.iloc[0,1], model_scores.iloc[1, 1]]\n",
    "model_scores['log_water_top'] = [model_scores.iloc[0,1], model_scores.iloc[1, 3], model_scores.iloc[2,3]]"
   ]
  },
  {
   "cell_type": "code",
   "execution_count": 905,
   "metadata": {},
   "outputs": [
    {
     "data": {
      "image/png": "[encoded data removed]",
      "text/plain": [
       "<Figure size 720x720 with 1 Axes>"
      ]
     },
     "metadata": {},
     "output_type": "display_data"
    }
   ],
   "source": [
    "fig, ax = plt.subplots()\n",
    "model_scores[['log_water', 'log_water_top']].plot(kind='bar', stacked=True, legend=False, ax=ax,\n",
    "                                                figsize=(10,10), color = ['w', 'green'], alpha=0.6,\n",
    "                                                layout='tight')\n",
    "plt.xticks(size=15, alpha=0.7)\n",
    "plt.yticks([])\n",
    "plt.title('Logistic Regression Helped by Numerical Features', size=22, position=(0,1), ha='left')\n",
    "for item in ['left', 'right', 'top', 'bottom']:\n",
    "    ax.spines[item].set_visible(False)\n",
    "plt.plot([0, 1], [model_scores.loc['Model 1','Logistic Regression'],model_scores.loc['Model 1','Logistic Regression']],\n",
    "         'r', lw=1.5, alpha=0.5)\n",
    "plt.plot([1, 2], [model_scores.loc['Model 2','Logistic Regression'],model_scores.loc['Model 2','Logistic Regression']],\n",
    "         'r', lw=1.5, alpha=0.5)\n",
    "for i in range(3):\n",
    "    plt.text(i, model_scores.iloc[i, 1]+.02, str(round(100*model_scores.iloc[i,1],1))+'%', ha='center', size=18)\n",
    "\n",
    "plt.text(0.5, 0.67, '+' + str(round(100*model_scores.iloc[1,3],2)) + '%', size=12, alpha=0.7, ha='center')\n",
    "plt.text(1.5, 0.74, '+' + str(round(100*model_scores.iloc[2,3],2)) + '%', size=12, alpha=0.7, ha='center')\n",
    "plt.savefig('./Assets/logreg_waterfall.png', bbox_inches='tight')"
   ]
  },
  {
   "cell_type": "markdown",
   "metadata": {},
   "source": [
    "### Model 4: everything except comments"
   ]
  },
  {
   "cell_type": "code",
   "execution_count": 504,
   "metadata": {},
   "outputs": [
    {
     "data": {
      "text/plain": [
       "Index(['archived', 'comments', 'domain', 'downs', 'gilded',\n",
       "       'is_reddit_media_domain', 'is_self', 'is_video', 'num_comments',\n",
       "       'num_crossposts', 'score', 'selftext', 'send_replies', 'subreddit',\n",
       "       'title', 'ups', 'flair_text', 'post_hint_image', 'post_hint_link',\n",
       "       'post_hint_rich:video', 'post_hint_self'],\n",
       "      dtype='object')"
      ]
     },
     "execution_count": 504,
     "metadata": {},
     "output_type": "execute_result"
    }
   ],
   "source": [
    "red_df.columns"
   ]
  },
  {
   "cell_type": "code",
   "execution_count": 506,
   "metadata": {},
   "outputs": [
    {
     "data": {
      "text/plain": [
       "['archived',\n",
       " 'domain',\n",
       " 'downs',\n",
       " 'gilded',\n",
       " 'is_reddit_media_domain',\n",
       " 'is_self',\n",
       " 'is_video',\n",
       " 'num_comments',\n",
       " 'num_crossposts',\n",
       " 'score',\n",
       " 'selftext',\n",
       " 'send_replies',\n",
       " 'title',\n",
       " 'ups',\n",
       " 'flair_text',\n",
       " 'post_hint_image',\n",
       " 'post_hint_link',\n",
       " 'post_hint_rich:video',\n",
       " 'post_hint_self']"
      ]
     },
     "execution_count": 506,
     "metadata": {},
     "output_type": "execute_result"
    }
   ],
   "source": [
    "features4 = [col for col in red_df.columns if col not in ['comments', 'subreddit']]\n",
    "features4"
   ]
  },
  {
   "cell_type": "code",
   "execution_count": 507,
   "metadata": {},
   "outputs": [],
   "source": [
    "X4 = red_df[features4]\n",
    "y4 = red_df['subreddit']"
   ]
  },
  {
   "cell_type": "code",
   "execution_count": 508,
   "metadata": {},
   "outputs": [],
   "source": [
    "X4 = pd.concat([X4.drop('domain', axis=1), pd.get_dummies(X4['domain'], prefix='domain_', drop_first=True)],\n",
    "          axis=1)"
   ]
  },
  {
   "cell_type": "code",
   "execution_count": 509,
   "metadata": {},
   "outputs": [
    {
     "data": {
      "text/plain": [
       "Index(['archived', 'downs', 'gilded', 'is_reddit_media_domain', 'is_self',\n",
       "       'is_video', 'num_comments', 'num_crossposts', 'score', 'selftext',\n",
       "       ...\n",
       "       'domain__whitehouse', 'domain__wikimedia', 'domain__wikipedia',\n",
       "       'domain__wpengine', 'domain__wsj', 'domain__yahoo', 'domain__youtu',\n",
       "       'domain__youtube', 'domain__zerohedge', 'domain__zimbio'],\n",
       "      dtype='object', length=196)"
      ]
     },
     "execution_count": 509,
     "metadata": {},
     "output_type": "execute_result"
    }
   ],
   "source": [
    "X4.columns"
   ]
  },
  {
   "cell_type": "markdown",
   "metadata": {},
   "source": [
    "For this model, there are multiple columns that I would like to vectorize. Instead of manually doing this, I will use the classes in the next two cells as well as the FeatureUnion class in order to create a pipeline that will programatically deal with this"
   ]
  },
  {
   "cell_type": "code",
   "execution_count": 510,
   "metadata": {},
   "outputs": [],
   "source": [
    "class SampleExtractor(BaseEstimator, TransformerMixin):\n",
    "\n",
    "    def __init__(self, vars):\n",
    "        self.vars = vars  # e.g. pass in a column names to extract\n",
    "\n",
    "    def transform(self, X, y=None):\n",
    "        if len(self.vars) > 1:\n",
    "            return pd.DataFrame(X[self.vars]) # where the actual feature extraction happens\n",
    "        else:\n",
    "            return pd.Series(X[self.vars[0]])\n",
    "\n",
    "    def fit(self, X, y=None):\n",
    "        return self  # generally does nothing\n",
    "\n",
    "class DenseTransformer(BaseEstimator,TransformerMixin):\n",
    "\n",
    "    def transform(self, X, y=None, **fit_params):\n",
    "#         print X.todense()\n",
    "        return X.todense()\n",
    "\n",
    "    def fit_transform(self, X, y=None, **fit_params):\n",
    "        self.fit(X, y, **fit_params)\n",
    "        return self.transform(X)\n",
    "\n",
    "    def fit(self, X, y=None, **fit_params):\n",
    "        return self"
   ]
  },
  {
   "cell_type": "code",
   "execution_count": 511,
   "metadata": {},
   "outputs": [
    {
     "data": {
      "text/plain": [
       "Index(['selftext', 'title', 'flair_text'], dtype='object')"
      ]
     },
     "execution_count": 511,
     "metadata": {},
     "output_type": "execute_result"
    }
   ],
   "source": [
    "X4.select_dtypes('object').columns"
   ]
  },
  {
   "cell_type": "code",
   "execution_count": 512,
   "metadata": {},
   "outputs": [
    {
     "data": {
      "text/plain": [
       "{'archived': 'feature_archived',\n",
       " 'downs': 'feature_downs',\n",
       " 'gilded': 'feature_gilded',\n",
       " 'is_reddit_media_domain': 'feature_is_reddit_media_domain',\n",
       " 'is_self': 'feature_is_self',\n",
       " 'is_video': 'feature_is_video',\n",
       " 'num_comments': 'feature_num_comments',\n",
       " 'num_crossposts': 'feature_num_crossposts',\n",
       " 'score': 'feature_score',\n",
       " 'send_replies': 'feature_send_replies',\n",
       " 'ups': 'feature_ups'}"
      ]
     },
     "execution_count": 512,
     "metadata": {},
     "output_type": "execute_result"
    }
   ],
   "source": [
    "col_renamer = {}\n",
    "for col in X4.select_dtypes(\"int64\").columns:\n",
    "    col_renamer[col] = 'feature_' + col\n",
    "\n",
    "col_renamer"
   ]
  },
  {
   "cell_type": "code",
   "execution_count": 513,
   "metadata": {},
   "outputs": [],
   "source": [
    "X4.rename(mapper=col_renamer, axis=1, inplace=True)"
   ]
  },
  {
   "cell_type": "code",
   "execution_count": 514,
   "metadata": {},
   "outputs": [
    {
     "data": {
      "text/plain": [
       "Index(['feature_archived', 'feature_downs', 'feature_gilded',\n",
       "       'feature_is_reddit_media_domain', 'feature_is_self', 'feature_is_video',\n",
       "       'feature_num_comments', 'feature_num_crossposts', 'feature_score',\n",
       "       'selftext',\n",
       "       ...\n",
       "       'domain__whitehouse', 'domain__wikimedia', 'domain__wikipedia',\n",
       "       'domain__wpengine', 'domain__wsj', 'domain__yahoo', 'domain__youtu',\n",
       "       'domain__youtube', 'domain__zerohedge', 'domain__zimbio'],\n",
       "      dtype='object', length=196)"
      ]
     },
     "execution_count": 514,
     "metadata": {},
     "output_type": "execute_result"
    }
   ],
   "source": [
    "X4.columns"
   ]
  },
  {
   "cell_type": "code",
   "execution_count": 515,
   "metadata": {},
   "outputs": [],
   "source": [
    "# Create train/test split\n",
    "X4_train, X4_test, y4_train, y4_test = train_test_split(X4, y4, random_state=42)"
   ]
  },
  {
   "cell_type": "code",
   "execution_count": 516,
   "metadata": {},
   "outputs": [],
   "source": [
    "other_cols = [col for col in X4.columns if col not in ['selftext', 'title', 'flair_text']]"
   ]
  },
  {
   "cell_type": "code",
   "execution_count": 460,
   "metadata": {},
   "outputs": [],
   "source": [
    "# Create initial pipeline\n",
    "pipe4 = Pipeline([\n",
    "    \n",
    "    # First step is feature union. This will concatenate the dataframes returned below\n",
    "    ('features', FeatureUnion([\n",
    "        \n",
    "        # Create pipeline for selftext column\n",
    "        ('selftext', Pipeline([\n",
    "            \n",
    "            # Pull out just the selftext column\n",
    "            ('text', SampleExtractor(['selftext'])),\n",
    "            \n",
    "            # Count vectorize just the selftext column\n",
    "            ('cv', CountVectorizer(stop_words='english')),\n",
    "            \n",
    "            # Convert sparse matrix to dense matrix\n",
    "            ('dense', DenseTransformer())\n",
    "        ])),\n",
    "        \n",
    "        # Create pipeline for title column and follow same steps as above\n",
    "        ('title', Pipeline([\n",
    "            ('text', SampleExtractor(['title'])),\n",
    "            ('cv', CountVectorizer(stop_words='english')),\n",
    "            ('dense', DenseTransformer())\n",
    "        ])),\n",
    "        \n",
    "        # Create pipeline for flair_text column and follow same steps as above\n",
    "        ('flair_text', Pipeline([\n",
    "            ('text', SampleExtractor(['flair_text'])),\n",
    "            ('cv', CountVectorizer(stop_words='english')),\n",
    "            ('dense', DenseTransformer())\n",
    "        ])),\n",
    "        \n",
    "        # Create pipeline for all other columns and just select the variables\n",
    "        ('other', Pipeline([\n",
    "            ('text', SampleExtractor(other_cols))\n",
    "        ]))\n",
    "        \n",
    "    ])),\n",
    "    ('ss', StandardScaler()),\n",
    "    ('logreg', LogisticRegression())\n",
    "])"
   ]
  },
  {
   "cell_type": "code",
   "execution_count": 479,
   "metadata": {},
   "outputs": [],
   "source": [
    "grid_params4 = {\n",
    "    'logreg__penalty': ('l1', 'l2'),\n",
    "    'logreg__C': (0.25, 0.275, 0.3)\n",
    "}\n",
    "\n",
    "gs4 = GridSearchCV(pipe4, grid_params4, verbose=1)"
   ]
  },
  {
   "cell_type": "code",
   "execution_count": 480,
   "metadata": {},
   "outputs": [
    {
     "name": "stdout",
     "output_type": "stream",
     "text": [
      "Fitting 3 folds for each of 6 candidates, totalling 18 fits\n"
     ]
    },
    {
     "name": "stderr",
     "output_type": "stream",
     "text": [
      "/anaconda3/lib/python3.6/site-packages/sklearn/utils/validation.py:475: DataConversionWarning: Data with input dtype int64 was converted to float64 by StandardScaler.\n",
      "  warnings.warn(msg, DataConversionWarning)\n",
      "/anaconda3/lib/python3.6/site-packages/sklearn/utils/validation.py:475: DataConversionWarning: Data with input dtype int64 was converted to float64 by StandardScaler.\n",
      "  warnings.warn(msg, DataConversionWarning)\n",
      "/anaconda3/lib/python3.6/site-packages/sklearn/utils/validation.py:475: DataConversionWarning: Data with input dtype int64 was converted to float64 by StandardScaler.\n",
      "  warnings.warn(msg, DataConversionWarning)\n",
      "/anaconda3/lib/python3.6/site-packages/sklearn/utils/validation.py:475: DataConversionWarning: Data with input dtype int64 was converted to float64 by StandardScaler.\n",
      "  warnings.warn(msg, DataConversionWarning)\n",
      "/anaconda3/lib/python3.6/site-packages/sklearn/utils/validation.py:475: DataConversionWarning: Data with input dtype int64 was converted to float64 by StandardScaler.\n",
      "  warnings.warn(msg, DataConversionWarning)\n",
      "/anaconda3/lib/python3.6/site-packages/sklearn/utils/validation.py:475: DataConversionWarning: Data with input dtype int64 was converted to float64 by StandardScaler.\n",
      "  warnings.warn(msg, DataConversionWarning)\n",
      "/anaconda3/lib/python3.6/site-packages/sklearn/utils/validation.py:475: DataConversionWarning: Data with input dtype int64 was converted to float64 by StandardScaler.\n",
      "  warnings.warn(msg, DataConversionWarning)\n",
      "/anaconda3/lib/python3.6/site-packages/sklearn/utils/validation.py:475: DataConversionWarning: Data with input dtype int64 was converted to float64 by StandardScaler.\n",
      "  warnings.warn(msg, DataConversionWarning)\n",
      "/anaconda3/lib/python3.6/site-packages/sklearn/utils/validation.py:475: DataConversionWarning: Data with input dtype int64 was converted to float64 by StandardScaler.\n",
      "  warnings.warn(msg, DataConversionWarning)\n",
      "/anaconda3/lib/python3.6/site-packages/sklearn/utils/validation.py:475: DataConversionWarning: Data with input dtype int64 was converted to float64 by StandardScaler.\n",
      "  warnings.warn(msg, DataConversionWarning)\n",
      "/anaconda3/lib/python3.6/site-packages/sklearn/utils/validation.py:475: DataConversionWarning: Data with input dtype int64 was converted to float64 by StandardScaler.\n",
      "  warnings.warn(msg, DataConversionWarning)\n",
      "/anaconda3/lib/python3.6/site-packages/sklearn/utils/validation.py:475: DataConversionWarning: Data with input dtype int64 was converted to float64 by StandardScaler.\n",
      "  warnings.warn(msg, DataConversionWarning)\n",
      "/anaconda3/lib/python3.6/site-packages/sklearn/utils/validation.py:475: DataConversionWarning: Data with input dtype int64 was converted to float64 by StandardScaler.\n",
      "  warnings.warn(msg, DataConversionWarning)\n",
      "/anaconda3/lib/python3.6/site-packages/sklearn/utils/validation.py:475: DataConversionWarning: Data with input dtype int64 was converted to float64 by StandardScaler.\n",
      "  warnings.warn(msg, DataConversionWarning)\n",
      "/anaconda3/lib/python3.6/site-packages/sklearn/utils/validation.py:475: DataConversionWarning: Data with input dtype int64 was converted to float64 by StandardScaler.\n",
      "  warnings.warn(msg, DataConversionWarning)\n",
      "/anaconda3/lib/python3.6/site-packages/sklearn/utils/validation.py:475: DataConversionWarning: Data with input dtype int64 was converted to float64 by StandardScaler.\n",
      "  warnings.warn(msg, DataConversionWarning)\n",
      "/anaconda3/lib/python3.6/site-packages/sklearn/utils/validation.py:475: DataConversionWarning: Data with input dtype int64 was converted to float64 by StandardScaler.\n",
      "  warnings.warn(msg, DataConversionWarning)\n",
      "/anaconda3/lib/python3.6/site-packages/sklearn/utils/validation.py:475: DataConversionWarning: Data with input dtype int64 was converted to float64 by StandardScaler.\n",
      "  warnings.warn(msg, DataConversionWarning)\n",
      "[Parallel(n_jobs=1)]: Done  18 out of  18 | elapsed:   19.9s finished\n",
      "/anaconda3/lib/python3.6/site-packages/sklearn/utils/validation.py:475: DataConversionWarning: Data with input dtype int64 was converted to float64 by StandardScaler.\n",
      "  warnings.warn(msg, DataConversionWarning)\n"
     ]
    },
    {
     "data": {
      "text/plain": [
       "GridSearchCV(cv=None, error_score='raise',\n",
       "       estimator=Pipeline(memory=None,\n",
       "     steps=[('features', FeatureUnion(n_jobs=1,\n",
       "       transformer_list=[('selftext', Pipeline(memory=None,\n",
       "     steps=[('text', SampleExtractor(vars=['selftext'])), ('cv', CountVectorizer(analyzer='word', binary=False, decode_error='strict',\n",
       "        dtype=<class 'numpy.int64'>, encoding='utf-8', input='...ty='l2', random_state=None, solver='liblinear', tol=0.0001,\n",
       "          verbose=0, warm_start=False))]),\n",
       "       fit_params=None, iid=True, n_jobs=1,\n",
       "       param_grid={'logreg__penalty': ('l1', 'l2'), 'logreg__C': (0.25, 0.275, 0.3)},\n",
       "       pre_dispatch='2*n_jobs', refit=True, return_train_score='warn',\n",
       "       scoring=None, verbose=1)"
      ]
     },
     "execution_count": 480,
     "metadata": {},
     "output_type": "execute_result"
    }
   ],
   "source": [
    "gs4.fit(X4_train, y4_train)"
   ]
  },
  {
   "cell_type": "code",
   "execution_count": 481,
   "metadata": {
    "scrolled": true
   },
   "outputs": [
    {
     "data": {
      "text/plain": [
       "0.896032831737346"
      ]
     },
     "execution_count": 481,
     "metadata": {},
     "output_type": "execute_result"
    }
   ],
   "source": [
    "gs4.best_score_"
   ]
  },
  {
   "cell_type": "code",
   "execution_count": 482,
   "metadata": {},
   "outputs": [
    {
     "data": {
      "text/plain": [
       "{'logreg__C': 0.25, 'logreg__penalty': 'l1'}"
      ]
     },
     "execution_count": 482,
     "metadata": {},
     "output_type": "execute_result"
    }
   ],
   "source": [
    "gs4.best_params_"
   ]
  },
  {
   "cell_type": "code",
   "execution_count": 483,
   "metadata": {
    "scrolled": true
   },
   "outputs": [
    {
     "name": "stderr",
     "output_type": "stream",
     "text": [
      "/anaconda3/lib/python3.6/site-packages/sklearn/utils/validation.py:475: DataConversionWarning: Data with input dtype int64 was converted to float64 by StandardScaler.\n",
      "  warnings.warn(msg, DataConversionWarning)\n"
     ]
    },
    {
     "data": {
      "text/plain": [
       "0.9972640218878249"
      ]
     },
     "execution_count": 483,
     "metadata": {},
     "output_type": "execute_result"
    }
   ],
   "source": [
    "gs4.score(X4_train, y4_train)"
   ]
  },
  {
   "cell_type": "code",
   "execution_count": 484,
   "metadata": {},
   "outputs": [
    {
     "name": "stderr",
     "output_type": "stream",
     "text": [
      "/anaconda3/lib/python3.6/site-packages/sklearn/utils/validation.py:475: DataConversionWarning: Data with input dtype int64 was converted to float64 by StandardScaler.\n",
      "  warnings.warn(msg, DataConversionWarning)\n"
     ]
    },
    {
     "data": {
      "text/plain": [
       "0.9118852459016393"
      ]
     },
     "execution_count": 484,
     "metadata": {},
     "output_type": "execute_result"
    }
   ],
   "source": [
    "gs4.score(X4_test, y4_test)"
   ]
  },
  {
   "cell_type": "markdown",
   "metadata": {},
   "source": [
    "Interestingly, adding the additional infomration did not seem to help. I'm going to try doing this again by only scaling those features which are not 1 hot encoded and also not from the vectorizers"
   ]
  },
  {
   "cell_type": "code",
   "execution_count": 518,
   "metadata": {},
   "outputs": [
    {
     "data": {
      "text/plain": [
       "182"
      ]
     },
     "execution_count": 518,
     "metadata": {},
     "output_type": "execute_result"
    }
   ],
   "source": [
    "dummy_cols4 = list(X4.select_dtypes('uint8').columns)\n",
    "len(dummy_cols4)"
   ]
  },
  {
   "cell_type": "code",
   "execution_count": 519,
   "metadata": {},
   "outputs": [
    {
     "data": {
      "text/plain": [
       "196"
      ]
     },
     "execution_count": 519,
     "metadata": {},
     "output_type": "execute_result"
    }
   ],
   "source": [
    "len(X4.columns)"
   ]
  },
  {
   "cell_type": "code",
   "execution_count": 520,
   "metadata": {},
   "outputs": [
    {
     "data": {
      "text/plain": [
       "['feature_archived',\n",
       " 'feature_downs',\n",
       " 'feature_gilded',\n",
       " 'feature_is_reddit_media_domain',\n",
       " 'feature_is_self',\n",
       " 'feature_is_video',\n",
       " 'feature_num_comments',\n",
       " 'feature_num_crossposts',\n",
       " 'feature_score',\n",
       " 'selftext',\n",
       " 'feature_send_replies',\n",
       " 'title',\n",
       " 'feature_ups',\n",
       " 'flair_text']"
      ]
     },
     "execution_count": 520,
     "metadata": {},
     "output_type": "execute_result"
    }
   ],
   "source": [
    "[col for col in X4.columns if col not in dummy_cols4]"
   ]
  },
  {
   "cell_type": "code",
   "execution_count": 521,
   "metadata": {},
   "outputs": [],
   "source": [
    "scale_cols4 = ['feature_archived', 'feature_downs', 'feature_gilded', 'feature_num_comments', \n",
    "               'feature_num_crossposts', 'feature_score', 'feature_ups']"
   ]
  },
  {
   "cell_type": "code",
   "execution_count": 522,
   "metadata": {},
   "outputs": [],
   "source": [
    "remainder_cols = [col for col in other_cols if col not in scale_cols4]"
   ]
  },
  {
   "cell_type": "code",
   "execution_count": 647,
   "metadata": {},
   "outputs": [],
   "source": [
    "pipe4_some_scale =  Pipeline([\n",
    "    ('features', FeatureUnion([\n",
    "        # Create pipeline for selftext column\n",
    "        ('selftext', Pipeline([\n",
    "\n",
    "            # Pull out just the selftext column\n",
    "            ('text', SampleExtractor(['selftext'])),\n",
    "\n",
    "            # Count vectorize just the selftext column\n",
    "            ('cv', CountVectorizer(stop_words='english')),\n",
    "\n",
    "            # Convert sparse matrix to dense matrix\n",
    "            ('dense', DenseTransformer())\n",
    "        ])),\n",
    "\n",
    "        # Create pipeline for title column and follow same steps as above\n",
    "        ('title', Pipeline([\n",
    "            ('text', SampleExtractor(['title'])),\n",
    "            ('cv', CountVectorizer(stop_words='english')),\n",
    "            ('dense', DenseTransformer())\n",
    "        ])),\n",
    "\n",
    "        # Create pipeline for flair_text column and follow same steps as above\n",
    "        ('flair_text', Pipeline([\n",
    "            ('text', SampleExtractor(['flair_text'])),\n",
    "            ('cv', CountVectorizer(stop_words='english')),\n",
    "            ('dense', DenseTransformer())\n",
    "        ])),\n",
    "\n",
    "        # Create pipeline for the remaining columns\n",
    "        ('remaining', Pipeline([\n",
    "            ('text', SampleExtractor(remainder_cols))\n",
    "        ])),\n",
    "        \n",
    "        ('scale', Pipeline([\n",
    "            ('text', SampleExtractor(scale_cols4)),\n",
    "            ('ss', StandardScaler())\n",
    "        ]))\n",
    "    ])),\n",
    "    ('logreg', LogisticRegression(verbose=1))\n",
    "])"
   ]
  },
  {
   "cell_type": "code",
   "execution_count": 648,
   "metadata": {},
   "outputs": [
    {
     "name": "stdout",
     "output_type": "stream",
     "text": [
      "Fitting 3 folds for each of 180 candidates, totalling 540 fits\n",
      "[LibLinear][LibLinear][LibLinear][LibLinear][LibLinear][LibLinear][LibLinear][LibLinear][LibLinear][LibLinear][LibLinear][LibLinear][LibLinear][LibLinear][LibLinear][LibLinear][LibLinear][LibLinear][LibLinear][LibLinear][LibLinear][LibLinear][LibLinear][LibLinear][LibLinear][LibLinear][LibLinear][LibLinear][LibLinear][LibLinear][LibLinear][LibLinear][LibLinear][LibLinear][LibLinear][LibLinear][LibLinear][LibLinear][LibLinear][LibLinear][LibLinear][LibLinear][LibLinear][LibLinear][LibLinear][LibLinear][LibLinear][LibLinear][LibLinear][LibLinear][LibLinear][LibLinear][LibLinear][LibLinear][LibLinear][LibLinear][LibLinear][LibLinear][LibLinear][LibLinear][LibLinear][LibLinear][LibLinear][LibLinear][LibLinear][LibLinear][LibLinear][LibLinear][LibLinear][LibLinear][LibLinear][LibLinear][LibLinear][LibLinear][LibLinear][LibLinear][LibLinear][LibLinear][LibLinear][LibLinear][LibLinear][LibLinear][LibLinear][LibLinear][LibLinear][LibLinear][LibLinear][LibLinear][LibLinear][LibLinear][LibLinear][LibLinear][LibLinear][LibLinear][LibLinear][LibLinear][LibLinear][LibLinear][LibLinear][LibLinear][LibLinear][LibLinear][LibLinear][LibLinear][LibLinear][LibLinear][LibLinear][LibLinear][LibLinear][LibLinear][LibLinear][LibLinear][LibLinear][LibLinear][LibLinear][LibLinear][LibLinear][LibLinear][LibLinear][LibLinear][LibLinear][LibLinear][LibLinear][LibLinear][LibLinear][LibLinear][LibLinear][LibLinear][LibLinear][LibLinear][LibLinear][LibLinear][LibLinear][LibLinear][LibLinear][LibLinear][LibLinear][LibLinear][LibLinear][LibLinear][LibLinear][LibLinear][LibLinear][LibLinear][LibLinear][LibLinear][LibLinear][LibLinear][LibLinear][LibLinear][LibLinear][LibLinear][LibLinear][LibLinear][LibLinear][LibLinear][LibLinear][LibLinear][LibLinear][LibLinear][LibLinear][LibLinear][LibLinear][LibLinear][LibLinear][LibLinear][LibLinear][LibLinear][LibLinear][LibLinear][LibLinear][LibLinear][LibLinear][LibLinear][LibLinear][LibLinear][LibLinear][LibLinear][LibLinear][LibLinear][LibLinear][LibLinear][LibLinear][LibLinear][LibLinear][LibLinear][LibLinear][LibLinear][LibLinear][LibLinear][LibLinear][LibLinear][LibLinear][LibLinear][LibLinear][LibLinear][LibLinear][LibLinear][LibLinear][LibLinear][LibLinear][LibLinear][LibLinear][LibLinear][LibLinear][LibLinear][LibLinear][LibLinear][LibLinear][LibLinear][LibLinear][LibLinear][LibLinear][LibLinear][LibLinear][LibLinear][LibLinear][LibLinear][LibLinear][LibLinear][LibLinear][LibLinear][LibLinear][LibLinear][LibLinear][LibLinear][LibLinear][LibLinear][LibLinear][LibLinear][LibLinear][LibLinear][LibLinear][LibLinear][LibLinear][LibLinear][LibLinear][LibLinear][LibLinear][LibLinear][LibLinear][LibLinear][LibLinear][LibLinear][LibLinear][LibLinear][LibLinear][LibLinear][LibLinear][LibLinear][LibLinear][LibLinear][LibLinear][LibLinear][LibLinear][LibLinear][LibLinear][LibLinear][LibLinear][LibLinear][LibLinear][LibLinear][LibLinear][LibLinear][LibLinear][LibLinear][LibLinear][LibLinear][LibLinear][LibLinear][LibLinear][LibLinear][LibLinear][LibLinear][LibLinear][LibLinear][LibLinear][LibLinear][LibLinear][LibLinear][LibLinear][LibLinear][LibLinear][LibLinear][LibLinear][LibLinear][LibLinear][LibLinear][LibLinear][LibLinear][LibLinear][LibLinear][LibLinear][LibLinear][LibLinear][LibLinear][LibLinear][LibLinear][LibLinear][LibLinear][LibLinear][LibLinear][LibLinear][LibLinear][LibLinear][LibLinear][LibLinear][LibLinear][LibLinear][LibLinear][LibLinear][LibLinear][LibLinear][LibLinear][LibLinear][LibLinear][LibLinear][LibLinear][LibLinear][LibLinear][LibLinear][LibLinear][LibLinear][LibLinear][LibLinear][LibLinear][LibLinear][LibLinear][LibLinear][LibLinear][LibLinear][LibLinear][LibLinear][LibLinear][LibLinear][LibLinear][LibLinear][LibLinear][LibLinear][LibLinear][LibLinear][LibLinear][LibLinear][LibLinear][LibLinear][LibLinear][LibLinear][LibLinear][LibLinear][LibLinear][LibLinear][LibLinear][LibLinear][LibLinear][LibLinear][LibLinear][LibLinear][LibLinear][LibLinear][LibLinear][LibLinear][LibLinear][LibLinear][LibLinear][LibLinear][LibLinear][LibLinear][LibLinear][LibLinear][LibLinear][LibLinear][LibLinear][LibLinear][LibLinear][LibLinear][LibLinear][LibLinear][LibLinear][LibLinear][LibLinear][LibLinear][LibLinear][LibLinear][LibLinear][LibLinear][LibLinear][LibLinear][LibLinear][LibLinear][LibLinear][LibLinear][LibLinear][LibLinear][LibLinear][LibLinear][LibLinear][LibLinear][LibLinear][LibLinear][LibLinear][LibLinear][LibLinear][LibLinear][LibLinear][LibLinear][LibLinear][LibLinear][LibLinear][LibLinear][LibLinear][LibLinear][LibLinear][LibLinear][LibLinear][LibLinear][LibLinear][LibLinear][LibLinear][LibLinear][LibLinear][LibLinear][LibLinear][LibLinear][LibLinear][LibLinear][LibLinear][LibLinear][LibLinear][LibLinear][LibLinear][LibLinear][LibLinear][LibLinear][LibLinear][LibLinear][LibLinear][LibLinear][LibLinear][LibLinear][LibLinear][LibLinear][LibLinear][LibLinear][LibLinear][LibLinear][LibLinear][LibLinear][LibLinear][LibLinear][LibLinear][LibLinear][LibLinear][LibLinear][LibLinear][LibLinear][LibLinear][LibLinear][LibLinear][LibLinear][LibLinear][LibLinear][LibLinear][LibLinear][LibLinear][LibLinear][LibLinear][LibLinear][LibLinear][LibLinear][LibLinear][LibLinear][LibLinear][LibLinear][LibLinear][LibLinear][LibLinear][LibLinear][LibLinear][LibLinear][LibLinear][LibLinear][LibLinear][LibLinear][LibLinear][LibLinear][LibLinear][LibLinear][LibLinear][LibLinear][LibLinear][LibLinear][LibLinear][LibLinear][LibLinear][LibLinear][LibLinear][LibLinear][LibLinear][LibLinear][LibLinear][LibLinear][LibLinear][LibLinear][LibLinear][LibLinear][LibLinear]"
     ]
    },
    {
     "name": "stderr",
     "output_type": "stream",
     "text": [
      "/anaconda3/lib/python3.6/site-packages/sklearn/svm/base.py:898: ConvergenceWarning: Liblinear failed to converge, increase the number of iterations.\n",
      "  \"the number of iterations.\", ConvergenceWarning)\n"
     ]
    },
    {
     "name": "stdout",
     "output_type": "stream",
     "text": [
      "[LibLinear][LibLinear][LibLinear][LibLinear][LibLinear][LibLinear][LibLinear][LibLinear][LibLinear][LibLinear][LibLinear][LibLinear][LibLinear][LibLinear][LibLinear][LibLinear][LibLinear][LibLinear][LibLinear][LibLinear][LibLinear][LibLinear][LibLinear][LibLinear][LibLinear][LibLinear][LibLinear][LibLinear][LibLinear][LibLinear][LibLinear][LibLinear][LibLinear][LibLinear]"
     ]
    },
    {
     "name": "stderr",
     "output_type": "stream",
     "text": [
      "[Parallel(n_jobs=1)]: Done 540 out of 540 | elapsed:  3.5min finished\n"
     ]
    },
    {
     "name": "stdout",
     "output_type": "stream",
     "text": [
      "[LibLinear]"
     ]
    },
    {
     "data": {
      "text/plain": [
       "GridSearchCV(cv=None, error_score='raise',\n",
       "       estimator=Pipeline(memory=None,\n",
       "     steps=[('features', FeatureUnion(n_jobs=1,\n",
       "       transformer_list=[('selftext', Pipeline(memory=None,\n",
       "     steps=[('text', SampleExtractor(vars=['selftext'])), ('cv', CountVectorizer(analyzer='word', binary=False, decode_error='strict',\n",
       "        dtype=<class 'numpy.int64'>, encoding='utf-8', input='...ty='l2', random_state=None, solver='liblinear', tol=0.0001,\n",
       "          verbose=1, warm_start=False))]),\n",
       "       fit_params=None, iid=True, n_jobs=1,\n",
       "       param_grid={'logreg__C': (0.01, 0.2575, 0.505, 0.7525, 1.0), 'logreg__penalty': ('l1', 'l2'), 'features__selftext__cv__ngram_range': ((1, 1), (1, 2)), 'features__title__cv__ngram_range': ((1, 1), (1, 2), (1, 3)), 'features__flair_text__cv__ngram_range': ((1, 1), (1, 2), (1, 3))},\n",
       "       pre_dispatch='2*n_jobs', refit=True, return_train_score='warn',\n",
       "       scoring=None, verbose=1)"
      ]
     },
     "execution_count": 648,
     "metadata": {},
     "output_type": "execute_result"
    }
   ],
   "source": [
    "C_val4 = tuple(np.linspace(0.01, 1, 5))\n",
    "grid_params4_scale = {\n",
    "    'logreg__C': C_val4,\n",
    "    'logreg__penalty': ('l1', 'l2'),\n",
    "    'features__selftext__cv__ngram_range': ((1,1), (1,2)),\n",
    "    'features__title__cv__ngram_range': ((1,1),(1,2),(1,3)),\n",
    "    'features__flair_text__cv__ngram_range': ((1,1),(1,2),(1,3))\n",
    "}\n",
    "\n",
    "gs4_some_scale = GridSearchCV(pipe4_some_scale, grid_params4_scale, verbose=1)\n",
    "\n",
    "gs4_some_scale.fit(X4_train, y4_train)"
   ]
  },
  {
   "cell_type": "code",
   "execution_count": 649,
   "metadata": {},
   "outputs": [
    {
     "data": {
      "text/plain": [
       "0.8967168262653898"
      ]
     },
     "execution_count": 649,
     "metadata": {},
     "output_type": "execute_result"
    }
   ],
   "source": [
    "gs4_some_scale_scale.best_score_"
   ]
  },
  {
   "cell_type": "code",
   "execution_count": 650,
   "metadata": {},
   "outputs": [
    {
     "data": {
      "text/plain": [
       "{'features__flair_text__cv__ngram_range': (1, 1),\n",
       " 'features__selftext__cv__ngram_range': (1, 1),\n",
       " 'features__title__cv__ngram_range': (1, 1),\n",
       " 'logreg__C': 0.505,\n",
       " 'logreg__penalty': 'l2'}"
      ]
     },
     "execution_count": 650,
     "metadata": {},
     "output_type": "execute_result"
    }
   ],
   "source": [
    "gs4_some_scale.best_params_"
   ]
  },
  {
   "cell_type": "code",
   "execution_count": 651,
   "metadata": {},
   "outputs": [
    {
     "data": {
      "text/plain": [
       "0.9200819672131147"
      ]
     },
     "execution_count": 651,
     "metadata": {},
     "output_type": "execute_result"
    }
   ],
   "source": [
    "gs4_some_scale.score(X4_test, y4_test)"
   ]
  },
  {
   "cell_type": "code",
   "execution_count": null,
   "metadata": {},
   "outputs": [],
   "source": []
  },
  {
   "cell_type": "markdown",
   "metadata": {},
   "source": [
    "Again we have a slight improvement, but we still have room to grow. The last piece that we can include is the comments. This will result in a much larger model that will take significantly longer to fit, so first I'm going to try some bagging models using logistic regression, decision trees, and naive bayes"
   ]
  },
  {
   "cell_type": "markdown",
   "metadata": {},
   "source": [
    "### Bagging Models expanding upon Model 4"
   ]
  },
  {
   "cell_type": "code",
   "execution_count": 599,
   "metadata": {},
   "outputs": [],
   "source": [
    "pipe_bag = Pipeline([(\n",
    "    'features', FeatureUnion([\n",
    "        # Create pipeline for selftext column\n",
    "        ('selftext', Pipeline([\n",
    "\n",
    "            # Pull out just the selftext column\n",
    "            ('text', SampleExtractor(['selftext'])),\n",
    "\n",
    "            # Count vectorize just the selftext column\n",
    "            ('cv', CountVectorizer(stop_words='english')),\n",
    "\n",
    "            # Convert sparse matrix to dense matrix\n",
    "            ('dense', DenseTransformer())\n",
    "        ])),\n",
    "\n",
    "        # Create pipeline for title column and follow same steps as above\n",
    "        ('title', Pipeline([\n",
    "            ('text', SampleExtractor(['title'])),\n",
    "            ('cv', CountVectorizer(stop_words='english')),\n",
    "            ('dense', DenseTransformer())\n",
    "        ])),\n",
    "\n",
    "        # Create pipeline for flair_text column and follow same steps as above\n",
    "        ('flair_text', Pipeline([\n",
    "            ('text', SampleExtractor(['flair_text'])),\n",
    "            ('cv', CountVectorizer(stop_words='english')),\n",
    "            ('dense', DenseTransformer())\n",
    "        ])),\n",
    "\n",
    "        # Create pipeline for the remaining columns\n",
    "        ('remaining', Pipeline([\n",
    "            ('text', SampleExtractor(remainder_cols))\n",
    "        ])),\n",
    "        \n",
    "        ('scale', Pipeline([\n",
    "            ('text', SampleExtractor(scale_cols4)),\n",
    "            ('ss', StandardScaler())\n",
    "        ]))\n",
    "    ])),\n",
    "    ('bag', BaggingClassifier(DecisionTreeClassifier()))\n",
    "])\n",
    "\n",
    "bag_grid_params = {\n",
    "    'bag__base_estimator__criterion': ('gini', 'entropy'),\n",
    "    'bag__n_estimators': (10, 25, 50, 55, 65, 75),\n",
    "}\n",
    "gs_bag = GridSearchCV(pipe_bag, bag_grid_params, verbose=1)"
   ]
  },
  {
   "cell_type": "code",
   "execution_count": 600,
   "metadata": {},
   "outputs": [
    {
     "name": "stdout",
     "output_type": "stream",
     "text": [
      "Fitting 3 folds for each of 12 candidates, totalling 36 fits\n"
     ]
    },
    {
     "name": "stderr",
     "output_type": "stream",
     "text": [
      "[Parallel(n_jobs=1)]: Done  36 out of  36 | elapsed:  3.4min finished\n"
     ]
    },
    {
     "data": {
      "text/plain": [
       "GridSearchCV(cv=None, error_score='raise',\n",
       "       estimator=Pipeline(memory=None,\n",
       "     steps=[('features', FeatureUnion(n_jobs=1,\n",
       "       transformer_list=[('selftext', Pipeline(memory=None,\n",
       "     steps=[('text', SampleExtractor(vars=['selftext'])), ('cv', CountVectorizer(analyzer='word', binary=False, decode_error='strict',\n",
       "        dtype=<class 'numpy.int64'>, encoding='utf-8', input='...estimators=10, n_jobs=1, oob_score=False,\n",
       "         random_state=None, verbose=0, warm_start=False))]),\n",
       "       fit_params=None, iid=True, n_jobs=1,\n",
       "       param_grid={'bag__base_estimator__criterion': ('gini', 'entropy'), 'bag__n_estimators': (10, 25, 50, 55, 65, 75)},\n",
       "       pre_dispatch='2*n_jobs', refit=True, return_train_score='warn',\n",
       "       scoring=None, verbose=1)"
      ]
     },
     "execution_count": 600,
     "metadata": {},
     "output_type": "execute_result"
    }
   ],
   "source": [
    "gs_bag.fit(X4_train, y4_train)"
   ]
  },
  {
   "cell_type": "code",
   "execution_count": 601,
   "metadata": {},
   "outputs": [
    {
     "data": {
      "text/plain": [
       "0.9548563611491108"
      ]
     },
     "execution_count": 601,
     "metadata": {},
     "output_type": "execute_result"
    }
   ],
   "source": [
    "gs_bag.best_score_"
   ]
  },
  {
   "cell_type": "code",
   "execution_count": 602,
   "metadata": {},
   "outputs": [
    {
     "data": {
      "text/plain": [
       "{'bag__base_estimator__criterion': 'entropy', 'bag__n_estimators': 25}"
      ]
     },
     "execution_count": 602,
     "metadata": {},
     "output_type": "execute_result"
    }
   ],
   "source": [
    "gs_bag.best_params_"
   ]
  },
  {
   "cell_type": "code",
   "execution_count": 603,
   "metadata": {},
   "outputs": [
    {
     "data": {
      "text/plain": [
       "0.9986320109439124"
      ]
     },
     "execution_count": 603,
     "metadata": {},
     "output_type": "execute_result"
    }
   ],
   "source": [
    "gs_bag.score(X4_train, y4_train)"
   ]
  },
  {
   "cell_type": "code",
   "execution_count": 604,
   "metadata": {},
   "outputs": [
    {
     "data": {
      "text/plain": [
       "0.9344262295081968"
      ]
     },
     "execution_count": 604,
     "metadata": {},
     "output_type": "execute_result"
    }
   ],
   "source": [
    "gs_bag.score(X4_test, y4_test)"
   ]
  },
  {
   "cell_type": "code",
   "execution_count": null,
   "metadata": {},
   "outputs": [],
   "source": []
  },
  {
   "cell_type": "code",
   "execution_count": null,
   "metadata": {},
   "outputs": [],
   "source": []
  },
  {
   "cell_type": "markdown",
   "metadata": {},
   "source": [
    "### Model 5: Comments"
   ]
  },
  {
   "cell_type": "code",
   "execution_count": 605,
   "metadata": {},
   "outputs": [],
   "source": [
    "red_df['comments'] = red_df['comments'].map(lambda x: ' '.join(x))"
   ]
  },
  {
   "cell_type": "code",
   "execution_count": 615,
   "metadata": {},
   "outputs": [
    {
     "data": {
      "text/plain": [
       "str"
      ]
     },
     "execution_count": 615,
     "metadata": {},
     "output_type": "execute_result"
    }
   ],
   "source": [
    "type(red_df['comments'][0])"
   ]
  },
  {
   "cell_type": "code",
   "execution_count": 617,
   "metadata": {},
   "outputs": [],
   "source": [
    "X5 = X4.copy()\n",
    "X5['comments'] = red_df['comments']\n",
    "y5 = red_df['subreddit']\n",
    "\n",
    "X5_train, X5_test, y5_train, y5_test = train_test_split(X5, y5, random_state=42)"
   ]
  },
  {
   "cell_type": "code",
   "execution_count": 671,
   "metadata": {},
   "outputs": [],
   "source": [
    "pipe5 = Pipeline([(\n",
    "    'features', FeatureUnion([\n",
    "        # Create pipeline for selftext column\n",
    "        ('selftext', Pipeline([\n",
    "\n",
    "            # Pull out just the selftext column\n",
    "            ('text', SampleExtractor(['selftext'])),\n",
    "\n",
    "            # Count vectorize just the selftext column\n",
    "            ('cv', CountVectorizer(stop_words='english')),\n",
    "\n",
    "            # Convert sparse matrix to dense matrix\n",
    "            ('dense', DenseTransformer())\n",
    "        ])),\n",
    "\n",
    "        # Create pipeline for title column and follow same steps as above\n",
    "        ('title', Pipeline([\n",
    "            ('text', SampleExtractor(['title'])),\n",
    "            ('cv', CountVectorizer(stop_words='english')),\n",
    "            ('dense', DenseTransformer())\n",
    "        ])),\n",
    "\n",
    "        # Create pipeline for flair_text column and follow same steps as above\n",
    "        ('flair_text', Pipeline([\n",
    "            ('text', SampleExtractor(['flair_text'])),\n",
    "            ('cv', CountVectorizer(stop_words='english')),\n",
    "            ('dense', DenseTransformer())\n",
    "        ])),\n",
    "        \n",
    "        # Create pipeline for comments column\n",
    "        ('comments', Pipeline([\n",
    "            ('text', SampleExtractor(['comments'])),\n",
    "            ('cv', CountVectorizer(stop_words=stops, max_features=25000)),\n",
    "            ('dense', DenseTransformer())\n",
    "        ])),\n",
    "\n",
    "        # Create pipeline for the remaining columns\n",
    "        ('remaining', Pipeline([\n",
    "            ('text', SampleExtractor(remainder_cols))\n",
    "        ])),\n",
    "        \n",
    "        ('scale', Pipeline([\n",
    "            ('text', SampleExtractor(scale_cols4)),\n",
    "            ('ss', StandardScaler())\n",
    "        ]))\n",
    "    ])),\n",
    "    ('bag', BaggingClassifier(DecisionTreeClassifier(), n_estimators=25))\n",
    "])\n",
    "\n",
    "grid_params5 = {\n",
    "    'bag__base_estimator__max_depth': (10, 15)\n",
    "}\n",
    "gs5 = GridSearchCV(pipe5, grid_params5, verbose=1)"
   ]
  },
  {
   "cell_type": "code",
   "execution_count": 672,
   "metadata": {},
   "outputs": [
    {
     "name": "stdout",
     "output_type": "stream",
     "text": [
      "Fitting 3 folds for each of 2 candidates, totalling 6 fits\n"
     ]
    },
    {
     "name": "stderr",
     "output_type": "stream",
     "text": [
      "[Parallel(n_jobs=1)]: Done   6 out of   6 | elapsed:  3.3min finished\n"
     ]
    },
    {
     "data": {
      "text/plain": [
       "GridSearchCV(cv=None, error_score='raise',\n",
       "       estimator=Pipeline(memory=None,\n",
       "     steps=[('features', FeatureUnion(n_jobs=1,\n",
       "       transformer_list=[('selftext', Pipeline(memory=None,\n",
       "     steps=[('text', SampleExtractor(vars=['selftext'])), ('cv', CountVectorizer(analyzer='word', binary=False, decode_error='strict',\n",
       "        dtype=<class 'numpy.int64'>, encoding='utf-8', input='...estimators=25, n_jobs=1, oob_score=False,\n",
       "         random_state=None, verbose=0, warm_start=False))]),\n",
       "       fit_params=None, iid=True, n_jobs=1,\n",
       "       param_grid={'bag__base_estimator__max_depth': (10, 15)},\n",
       "       pre_dispatch='2*n_jobs', refit=True, return_train_score='warn',\n",
       "       scoring=None, verbose=1)"
      ]
     },
     "execution_count": 672,
     "metadata": {},
     "output_type": "execute_result"
    }
   ],
   "source": [
    "gs5.fit(X5_train, y5_train)"
   ]
  },
  {
   "cell_type": "code",
   "execution_count": 661,
   "metadata": {},
   "outputs": [
    {
     "data": {
      "text/plain": [
       "0.9822161422708618"
      ]
     },
     "execution_count": 661,
     "metadata": {},
     "output_type": "execute_result"
    }
   ],
   "source": [
    "gs5.best_score_"
   ]
  },
  {
   "cell_type": "code",
   "execution_count": 662,
   "metadata": {},
   "outputs": [
    {
     "data": {
      "text/plain": [
       "{'bag__n_estimators': 25}"
      ]
     },
     "execution_count": 662,
     "metadata": {},
     "output_type": "execute_result"
    }
   ],
   "source": [
    "gs5.best_params_"
   ]
  },
  {
   "cell_type": "code",
   "execution_count": 663,
   "metadata": {},
   "outputs": [
    {
     "data": {
      "text/plain": [
       "1.0"
      ]
     },
     "execution_count": 663,
     "metadata": {},
     "output_type": "execute_result"
    }
   ],
   "source": [
    "gs5.score(X5_train, y5_train)"
   ]
  },
  {
   "cell_type": "code",
   "execution_count": 664,
   "metadata": {},
   "outputs": [
    {
     "data": {
      "text/plain": [
       "0.9774590163934426"
      ]
     },
     "execution_count": 664,
     "metadata": {},
     "output_type": "execute_result"
    }
   ],
   "source": [
    "gs5.score(X5_test, y5_test)"
   ]
  },
  {
   "cell_type": "code",
   "execution_count": 641,
   "metadata": {},
   "outputs": [],
   "source": [
    "pipe5_logreg = Pipeline([(\n",
    "    'features', FeatureUnion([\n",
    "        # Create pipeline for selftext column\n",
    "        ('selftext', Pipeline([\n",
    "\n",
    "            # Pull out just the selftext column\n",
    "            ('text', SampleExtractor(['selftext'])),\n",
    "\n",
    "            # Count vectorize just the selftext column\n",
    "            ('cv', CountVectorizer(stop_words='english')),\n",
    "\n",
    "            # Convert sparse matrix to dense matrix\n",
    "            ('dense', DenseTransformer())\n",
    "        ])),\n",
    "\n",
    "        # Create pipeline for title column and follow same steps as above\n",
    "        ('title', Pipeline([\n",
    "            ('text', SampleExtractor(['title'])),\n",
    "            ('cv', CountVectorizer(stop_words='english')),\n",
    "            ('dense', DenseTransformer())\n",
    "        ])),\n",
    "\n",
    "        # Create pipeline for flair_text column and follow same steps as above\n",
    "        ('flair_text', Pipeline([\n",
    "            ('text', SampleExtractor(['flair_text'])),\n",
    "            ('cv', CountVectorizer(stop_words='english')),\n",
    "            ('dense', DenseTransformer())\n",
    "        ])),\n",
    "        \n",
    "        # Create pipeline for comments column\n",
    "        ('comments', Pipeline([\n",
    "            ('text', SampleExtractor(['comments'])),\n",
    "            ('cv', CountVectorizer(stop_words=stops)),\n",
    "            ('dense', DenseTransformer())\n",
    "        ])),\n",
    "\n",
    "        # Create pipeline for the remaining columns\n",
    "        ('remaining', Pipeline([\n",
    "            ('text', SampleExtractor(remainder_cols))\n",
    "        ])),\n",
    "        \n",
    "        ('scale', Pipeline([\n",
    "            ('text', SampleExtractor(scale_cols4)),\n",
    "            ('ss', StandardScaler())\n",
    "        ]))\n",
    "    ])),\n",
    "    ('logreg_bag', BaggingClassifier(base_estimator = LogisticRegression(verbose=1), verbose=1))\n",
    "])\n",
    "\n",
    "grid_params5_logreg = {\n",
    "    'features__comments__cv__max_features': (15000, 25000, 35000),\n",
    "    'features__comments__cv__ngram_range': ((1, 2), (1, 3)),\n",
    "    'logreg_bag__base_estimator__C': (0.05, 0.075),\n",
    "    'logreg_bag__base_estimator__penalty': ('l1', 'l2')\n",
    "}\n",
    "gs5_logreg = GridSearchCV(pipe5_logreg, grid_params5_logreg, verbose=1)"
   ]
  },
  {
   "cell_type": "code",
   "execution_count": 642,
   "metadata": {
    "collapsed": true
   },
   "outputs": [
    {
     "name": "stdout",
     "output_type": "stream",
     "text": [
      "Fitting 3 folds for each of 24 candidates, totalling 72 fits\n",
      "[LibLinear][LibLinear][LibLinear][LibLinear][LibLinear][LibLinear][LibLinear][LibLinear][LibLinear][LibLinear]"
     ]
    },
    {
     "name": "stderr",
     "output_type": "stream",
     "text": [
      "[Parallel(n_jobs=1)]: Done   1 out of   1 | elapsed:    5.3s finished\n",
      "[Parallel(n_jobs=1)]: Done   1 out of   1 | elapsed:    0.5s finished\n",
      "[Parallel(n_jobs=1)]: Done   1 out of   1 | elapsed:    2.5s finished\n"
     ]
    },
    {
     "name": "stdout",
     "output_type": "stream",
     "text": [
      "[LibLinear][LibLinear][LibLinear][LibLinear][LibLinear][LibLinear][LibLinear][LibLinear][LibLinear][LibLinear]"
     ]
    },
    {
     "name": "stderr",
     "output_type": "stream",
     "text": [
      "[Parallel(n_jobs=1)]: Done   1 out of   1 | elapsed:    5.2s finished\n",
      "[Parallel(n_jobs=1)]: Done   1 out of   1 | elapsed:    0.5s finished\n",
      "[Parallel(n_jobs=1)]: Done   1 out of   1 | elapsed:    2.5s finished\n"
     ]
    },
    {
     "name": "stdout",
     "output_type": "stream",
     "text": [
      "[LibLinear][LibLinear][LibLinear][LibLinear][LibLinear][LibLinear][LibLinear][LibLinear][LibLinear][LibLinear]"
     ]
    },
    {
     "name": "stderr",
     "output_type": "stream",
     "text": [
      "[Parallel(n_jobs=1)]: Done   1 out of   1 | elapsed:    5.3s finished\n",
      "[Parallel(n_jobs=1)]: Done   1 out of   1 | elapsed:    0.6s finished\n",
      "[Parallel(n_jobs=1)]: Done   1 out of   1 | elapsed:    2.5s finished\n"
     ]
    },
    {
     "name": "stdout",
     "output_type": "stream",
     "text": [
      "[LibLinear][LibLinear][LibLinear][LibLinear][LibLinear][LibLinear][LibLinear][LibLinear][LibLinear][LibLinear]"
     ]
    },
    {
     "name": "stderr",
     "output_type": "stream",
     "text": [
      "[Parallel(n_jobs=1)]: Done   1 out of   1 | elapsed:    6.3s finished\n",
      "[Parallel(n_jobs=1)]: Done   1 out of   1 | elapsed:    0.5s finished\n",
      "[Parallel(n_jobs=1)]: Done   1 out of   1 | elapsed:    2.6s finished\n"
     ]
    },
    {
     "name": "stdout",
     "output_type": "stream",
     "text": [
      "[LibLinear][LibLinear][LibLinear][LibLinear][LibLinear][LibLinear][LibLinear][LibLinear][LibLinear][LibLinear]"
     ]
    },
    {
     "name": "stderr",
     "output_type": "stream",
     "text": [
      "[Parallel(n_jobs=1)]: Done   1 out of   1 | elapsed:    6.0s finished\n",
      "[Parallel(n_jobs=1)]: Done   1 out of   1 | elapsed:    0.5s finished\n",
      "[Parallel(n_jobs=1)]: Done   1 out of   1 | elapsed:    2.5s finished\n"
     ]
    },
    {
     "name": "stdout",
     "output_type": "stream",
     "text": [
      "[LibLinear][LibLinear][LibLinear][LibLinear][LibLinear][LibLinear][LibLinear][LibLinear][LibLinear][LibLinear]"
     ]
    },
    {
     "name": "stderr",
     "output_type": "stream",
     "text": [
      "[Parallel(n_jobs=1)]: Done   1 out of   1 | elapsed:    6.1s finished\n",
      "[Parallel(n_jobs=1)]: Done   1 out of   1 | elapsed:    0.6s finished\n",
      "[Parallel(n_jobs=1)]: Done   1 out of   1 | elapsed:    2.5s finished\n"
     ]
    },
    {
     "name": "stdout",
     "output_type": "stream",
     "text": [
      "[LibLinear][LibLinear][LibLinear][LibLinear][LibLinear][LibLinear][LibLinear][LibLinear][LibLinear][LibLinear]"
     ]
    },
    {
     "name": "stderr",
     "output_type": "stream",
     "text": [
      "[Parallel(n_jobs=1)]: Done   1 out of   1 | elapsed:    5.3s finished\n",
      "[Parallel(n_jobs=1)]: Done   1 out of   1 | elapsed:    0.5s finished\n",
      "[Parallel(n_jobs=1)]: Done   1 out of   1 | elapsed:    2.6s finished\n"
     ]
    },
    {
     "name": "stdout",
     "output_type": "stream",
     "text": [
      "[LibLinear][LibLinear][LibLinear][LibLinear][LibLinear][LibLinear][LibLinear][LibLinear][LibLinear][LibLinear]"
     ]
    },
    {
     "name": "stderr",
     "output_type": "stream",
     "text": [
      "[Parallel(n_jobs=1)]: Done   1 out of   1 | elapsed:    5.1s finished\n",
      "[Parallel(n_jobs=1)]: Done   1 out of   1 | elapsed:    0.5s finished\n",
      "[Parallel(n_jobs=1)]: Done   1 out of   1 | elapsed:    2.5s finished\n"
     ]
    },
    {
     "name": "stdout",
     "output_type": "stream",
     "text": [
      "[LibLinear][LibLinear][LibLinear][LibLinear][LibLinear][LibLinear][LibLinear][LibLinear][LibLinear][LibLinear]"
     ]
    },
    {
     "name": "stderr",
     "output_type": "stream",
     "text": [
      "[Parallel(n_jobs=1)]: Done   1 out of   1 | elapsed:    5.3s finished\n",
      "[Parallel(n_jobs=1)]: Done   1 out of   1 | elapsed:    0.6s finished\n",
      "[Parallel(n_jobs=1)]: Done   1 out of   1 | elapsed:    2.5s finished\n"
     ]
    },
    {
     "name": "stdout",
     "output_type": "stream",
     "text": [
      "[LibLinear][LibLinear][LibLinear][LibLinear][LibLinear][LibLinear][LibLinear][LibLinear][LibLinear][LibLinear]"
     ]
    },
    {
     "name": "stderr",
     "output_type": "stream",
     "text": [
      "[Parallel(n_jobs=1)]: Done   1 out of   1 | elapsed:    6.2s finished\n",
      "[Parallel(n_jobs=1)]: Done   1 out of   1 | elapsed:    0.5s finished\n",
      "[Parallel(n_jobs=1)]: Done   1 out of   1 | elapsed:    2.6s finished\n"
     ]
    },
    {
     "name": "stdout",
     "output_type": "stream",
     "text": [
      "[LibLinear][LibLinear][LibLinear][LibLinear][LibLinear][LibLinear][LibLinear][LibLinear][LibLinear][LibLinear]"
     ]
    },
    {
     "name": "stderr",
     "output_type": "stream",
     "text": [
      "[Parallel(n_jobs=1)]: Done   1 out of   1 | elapsed:    6.0s finished\n",
      "[Parallel(n_jobs=1)]: Done   1 out of   1 | elapsed:    0.5s finished\n",
      "[Parallel(n_jobs=1)]: Done   1 out of   1 | elapsed:    2.5s finished\n"
     ]
    },
    {
     "name": "stdout",
     "output_type": "stream",
     "text": [
      "[LibLinear][LibLinear][LibLinear][LibLinear][LibLinear][LibLinear][LibLinear][LibLinear][LibLinear][LibLinear]"
     ]
    },
    {
     "name": "stderr",
     "output_type": "stream",
     "text": [
      "[Parallel(n_jobs=1)]: Done   1 out of   1 | elapsed:    6.0s finished\n",
      "[Parallel(n_jobs=1)]: Done   1 out of   1 | elapsed:    0.6s finished\n",
      "[Parallel(n_jobs=1)]: Done   1 out of   1 | elapsed:    2.5s finished\n"
     ]
    },
    {
     "name": "stdout",
     "output_type": "stream",
     "text": [
      "[LibLinear][LibLinear][LibLinear][LibLinear][LibLinear][LibLinear][LibLinear][LibLinear][LibLinear][LibLinear]"
     ]
    },
    {
     "name": "stderr",
     "output_type": "stream",
     "text": [
      "[Parallel(n_jobs=1)]: Done   1 out of   1 | elapsed:    5.3s finished\n",
      "[Parallel(n_jobs=1)]: Done   1 out of   1 | elapsed:    0.5s finished\n",
      "[Parallel(n_jobs=1)]: Done   1 out of   1 | elapsed:    2.6s finished\n"
     ]
    },
    {
     "name": "stdout",
     "output_type": "stream",
     "text": [
      "[LibLinear][LibLinear][LibLinear][LibLinear][LibLinear][LibLinear][LibLinear][LibLinear][LibLinear][LibLinear]"
     ]
    },
    {
     "name": "stderr",
     "output_type": "stream",
     "text": [
      "[Parallel(n_jobs=1)]: Done   1 out of   1 | elapsed:    5.4s finished\n",
      "[Parallel(n_jobs=1)]: Done   1 out of   1 | elapsed:    0.6s finished\n",
      "[Parallel(n_jobs=1)]: Done   1 out of   1 | elapsed:    2.5s finished\n"
     ]
    },
    {
     "name": "stdout",
     "output_type": "stream",
     "text": [
      "[LibLinear][LibLinear][LibLinear][LibLinear][LibLinear][LibLinear][LibLinear][LibLinear][LibLinear][LibLinear]"
     ]
    },
    {
     "name": "stderr",
     "output_type": "stream",
     "text": [
      "[Parallel(n_jobs=1)]: Done   1 out of   1 | elapsed:    5.3s finished\n",
      "[Parallel(n_jobs=1)]: Done   1 out of   1 | elapsed:    0.6s finished\n",
      "[Parallel(n_jobs=1)]: Done   1 out of   1 | elapsed:    2.5s finished\n"
     ]
    },
    {
     "name": "stdout",
     "output_type": "stream",
     "text": [
      "[LibLinear][LibLinear][LibLinear][LibLinear][LibLinear][LibLinear][LibLinear][LibLinear][LibLinear][LibLinear]"
     ]
    },
    {
     "name": "stderr",
     "output_type": "stream",
     "text": [
      "[Parallel(n_jobs=1)]: Done   1 out of   1 | elapsed:    6.2s finished\n",
      "[Parallel(n_jobs=1)]: Done   1 out of   1 | elapsed:    0.5s finished\n",
      "[Parallel(n_jobs=1)]: Done   1 out of   1 | elapsed:    2.6s finished\n"
     ]
    },
    {
     "name": "stdout",
     "output_type": "stream",
     "text": [
      "[LibLinear][LibLinear][LibLinear][LibLinear][LibLinear][LibLinear][LibLinear][LibLinear][LibLinear][LibLinear]"
     ]
    },
    {
     "name": "stderr",
     "output_type": "stream",
     "text": [
      "[Parallel(n_jobs=1)]: Done   1 out of   1 | elapsed:    5.9s finished\n",
      "[Parallel(n_jobs=1)]: Done   1 out of   1 | elapsed:    0.5s finished\n",
      "[Parallel(n_jobs=1)]: Done   1 out of   1 | elapsed:    2.5s finished\n"
     ]
    },
    {
     "name": "stdout",
     "output_type": "stream",
     "text": [
      "[LibLinear][LibLinear][LibLinear][LibLinear][LibLinear][LibLinear][LibLinear][LibLinear][LibLinear][LibLinear]"
     ]
    },
    {
     "name": "stderr",
     "output_type": "stream",
     "text": [
      "[Parallel(n_jobs=1)]: Done   1 out of   1 | elapsed:    6.1s finished\n",
      "[Parallel(n_jobs=1)]: Done   1 out of   1 | elapsed:    0.6s finished\n",
      "[Parallel(n_jobs=1)]: Done   1 out of   1 | elapsed:    2.5s finished\n"
     ]
    },
    {
     "name": "stdout",
     "output_type": "stream",
     "text": [
      "[LibLinear][LibLinear][LibLinear][LibLinear][LibLinear][LibLinear][LibLinear][LibLinear][LibLinear][LibLinear]"
     ]
    },
    {
     "name": "stderr",
     "output_type": "stream",
     "text": [
      "[Parallel(n_jobs=1)]: Done   1 out of   1 | elapsed:    5.3s finished\n",
      "[Parallel(n_jobs=1)]: Done   1 out of   1 | elapsed:    0.5s finished\n",
      "[Parallel(n_jobs=1)]: Done   1 out of   1 | elapsed:    2.8s finished\n"
     ]
    },
    {
     "name": "stdout",
     "output_type": "stream",
     "text": [
      "[LibLinear][LibLinear][LibLinear][LibLinear][LibLinear][LibLinear][LibLinear][LibLinear][LibLinear][LibLinear]"
     ]
    },
    {
     "name": "stderr",
     "output_type": "stream",
     "text": [
      "[Parallel(n_jobs=1)]: Done   1 out of   1 | elapsed:    5.2s finished\n",
      "[Parallel(n_jobs=1)]: Done   1 out of   1 | elapsed:    0.5s finished\n",
      "[Parallel(n_jobs=1)]: Done   1 out of   1 | elapsed:    2.5s finished\n"
     ]
    },
    {
     "name": "stdout",
     "output_type": "stream",
     "text": [
      "[LibLinear][LibLinear][LibLinear][LibLinear][LibLinear][LibLinear][LibLinear][LibLinear][LibLinear][LibLinear]"
     ]
    },
    {
     "name": "stderr",
     "output_type": "stream",
     "text": [
      "[Parallel(n_jobs=1)]: Done   1 out of   1 | elapsed:    5.2s finished\n",
      "[Parallel(n_jobs=1)]: Done   1 out of   1 | elapsed:    0.6s finished\n",
      "[Parallel(n_jobs=1)]: Done   1 out of   1 | elapsed:    2.7s finished\n"
     ]
    },
    {
     "name": "stdout",
     "output_type": "stream",
     "text": [
      "[LibLinear][LibLinear][LibLinear][LibLinear][LibLinear][LibLinear][LibLinear][LibLinear][LibLinear][LibLinear]"
     ]
    },
    {
     "name": "stderr",
     "output_type": "stream",
     "text": [
      "[Parallel(n_jobs=1)]: Done   1 out of   1 | elapsed:    6.1s finished\n",
      "[Parallel(n_jobs=1)]: Done   1 out of   1 | elapsed:    0.5s finished\n",
      "[Parallel(n_jobs=1)]: Done   1 out of   1 | elapsed:    2.7s finished\n"
     ]
    },
    {
     "name": "stdout",
     "output_type": "stream",
     "text": [
      "[LibLinear][LibLinear][LibLinear][LibLinear][LibLinear][LibLinear][LibLinear][LibLinear][LibLinear][LibLinear]"
     ]
    },
    {
     "name": "stderr",
     "output_type": "stream",
     "text": [
      "[Parallel(n_jobs=1)]: Done   1 out of   1 | elapsed:    5.9s finished\n",
      "[Parallel(n_jobs=1)]: Done   1 out of   1 | elapsed:    0.5s finished\n",
      "[Parallel(n_jobs=1)]: Done   1 out of   1 | elapsed:    2.5s finished\n"
     ]
    },
    {
     "name": "stdout",
     "output_type": "stream",
     "text": [
      "[LibLinear][LibLinear][LibLinear][LibLinear][LibLinear][LibLinear][LibLinear][LibLinear][LibLinear][LibLinear]"
     ]
    },
    {
     "name": "stderr",
     "output_type": "stream",
     "text": [
      "[Parallel(n_jobs=1)]: Done   1 out of   1 | elapsed:    6.0s finished\n",
      "[Parallel(n_jobs=1)]: Done   1 out of   1 | elapsed:    0.6s finished\n",
      "[Parallel(n_jobs=1)]: Done   1 out of   1 | elapsed:    2.5s finished\n"
     ]
    },
    {
     "name": "stdout",
     "output_type": "stream",
     "text": [
      "[LibLinear][LibLinear][LibLinear][LibLinear][LibLinear][LibLinear][LibLinear][LibLinear][LibLinear][LibLinear]"
     ]
    },
    {
     "name": "stderr",
     "output_type": "stream",
     "text": [
      "[Parallel(n_jobs=1)]: Done   1 out of   1 | elapsed:    8.0s finished\n",
      "[Parallel(n_jobs=1)]: Done   1 out of   1 | elapsed:    0.8s finished\n",
      "[Parallel(n_jobs=1)]: Done   1 out of   1 | elapsed:    4.0s finished\n"
     ]
    },
    {
     "name": "stdout",
     "output_type": "stream",
     "text": [
      "[LibLinear][LibLinear][LibLinear][LibLinear][LibLinear][LibLinear][LibLinear][LibLinear][LibLinear][LibLinear]"
     ]
    },
    {
     "name": "stderr",
     "output_type": "stream",
     "text": [
      "[Parallel(n_jobs=1)]: Done   1 out of   1 | elapsed:    7.9s finished\n",
      "[Parallel(n_jobs=1)]: Done   1 out of   1 | elapsed:    0.8s finished\n",
      "[Parallel(n_jobs=1)]: Done   1 out of   1 | elapsed:    3.8s finished\n"
     ]
    },
    {
     "name": "stdout",
     "output_type": "stream",
     "text": [
      "[LibLinear][LibLinear][LibLinear][LibLinear][LibLinear][LibLinear][LibLinear][LibLinear][LibLinear][LibLinear]"
     ]
    },
    {
     "name": "stderr",
     "output_type": "stream",
     "text": [
      "[Parallel(n_jobs=1)]: Done   1 out of   1 | elapsed:    8.2s finished\n",
      "[Parallel(n_jobs=1)]: Done   1 out of   1 | elapsed:    0.9s finished\n",
      "[Parallel(n_jobs=1)]: Done   1 out of   1 | elapsed:    3.8s finished\n"
     ]
    },
    {
     "name": "stdout",
     "output_type": "stream",
     "text": [
      "[LibLinear][LibLinear][LibLinear][LibLinear][LibLinear][LibLinear][LibLinear][LibLinear][LibLinear][LibLinear]"
     ]
    },
    {
     "name": "stderr",
     "output_type": "stream",
     "text": [
      "[Parallel(n_jobs=1)]: Done   1 out of   1 | elapsed:    9.1s finished\n",
      "[Parallel(n_jobs=1)]: Done   1 out of   1 | elapsed:    0.8s finished\n",
      "[Parallel(n_jobs=1)]: Done   1 out of   1 | elapsed:    4.0s finished\n"
     ]
    },
    {
     "name": "stdout",
     "output_type": "stream",
     "text": [
      "[LibLinear][LibLinear][LibLinear][LibLinear][LibLinear][LibLinear][LibLinear][LibLinear][LibLinear][LibLinear]"
     ]
    },
    {
     "name": "stderr",
     "output_type": "stream",
     "text": [
      "[Parallel(n_jobs=1)]: Done   1 out of   1 | elapsed:    8.7s finished\n",
      "[Parallel(n_jobs=1)]: Done   1 out of   1 | elapsed:    0.8s finished\n",
      "[Parallel(n_jobs=1)]: Done   1 out of   1 | elapsed:    3.8s finished\n"
     ]
    },
    {
     "name": "stdout",
     "output_type": "stream",
     "text": [
      "[LibLinear][LibLinear][LibLinear][LibLinear][LibLinear][LibLinear][LibLinear][LibLinear][LibLinear][LibLinear]"
     ]
    },
    {
     "name": "stderr",
     "output_type": "stream",
     "text": [
      "[Parallel(n_jobs=1)]: Done   1 out of   1 | elapsed:    9.2s finished\n",
      "[Parallel(n_jobs=1)]: Done   1 out of   1 | elapsed:    0.9s finished\n",
      "[Parallel(n_jobs=1)]: Done   1 out of   1 | elapsed:    3.8s finished\n"
     ]
    },
    {
     "name": "stdout",
     "output_type": "stream",
     "text": [
      "[LibLinear][LibLinear][LibLinear][LibLinear][LibLinear][LibLinear][LibLinear][LibLinear][LibLinear][LibLinear]"
     ]
    },
    {
     "name": "stderr",
     "output_type": "stream",
     "text": [
      "[Parallel(n_jobs=1)]: Done   1 out of   1 | elapsed:    8.1s finished\n",
      "[Parallel(n_jobs=1)]: Done   1 out of   1 | elapsed:    0.8s finished\n",
      "[Parallel(n_jobs=1)]: Done   1 out of   1 | elapsed:    4.0s finished\n"
     ]
    },
    {
     "name": "stdout",
     "output_type": "stream",
     "text": [
      "[LibLinear][LibLinear][LibLinear][LibLinear][LibLinear][LibLinear][LibLinear][LibLinear][LibLinear][LibLinear]"
     ]
    },
    {
     "name": "stderr",
     "output_type": "stream",
     "text": [
      "[Parallel(n_jobs=1)]: Done   1 out of   1 | elapsed:    7.9s finished\n",
      "[Parallel(n_jobs=1)]: Done   1 out of   1 | elapsed:    0.8s finished\n",
      "[Parallel(n_jobs=1)]: Done   1 out of   1 | elapsed:    3.8s finished\n"
     ]
    },
    {
     "name": "stdout",
     "output_type": "stream",
     "text": [
      "[LibLinear][LibLinear][LibLinear][LibLinear][LibLinear][LibLinear][LibLinear][LibLinear][LibLinear][LibLinear]"
     ]
    },
    {
     "name": "stderr",
     "output_type": "stream",
     "text": [
      "[Parallel(n_jobs=1)]: Done   1 out of   1 | elapsed:    8.2s finished\n",
      "[Parallel(n_jobs=1)]: Done   1 out of   1 | elapsed:    0.9s finished\n",
      "[Parallel(n_jobs=1)]: Done   1 out of   1 | elapsed:    3.8s finished\n"
     ]
    },
    {
     "name": "stdout",
     "output_type": "stream",
     "text": [
      "[LibLinear][LibLinear][LibLinear][LibLinear][LibLinear][LibLinear][LibLinear][LibLinear][LibLinear][LibLinear]"
     ]
    },
    {
     "name": "stderr",
     "output_type": "stream",
     "text": [
      "[Parallel(n_jobs=1)]: Done   1 out of   1 | elapsed:    9.1s finished\n",
      "[Parallel(n_jobs=1)]: Done   1 out of   1 | elapsed:    0.8s finished\n",
      "[Parallel(n_jobs=1)]: Done   1 out of   1 | elapsed:    4.0s finished\n"
     ]
    },
    {
     "name": "stdout",
     "output_type": "stream",
     "text": [
      "[LibLinear][LibLinear][LibLinear][LibLinear][LibLinear][LibLinear][LibLinear][LibLinear][LibLinear][LibLinear]"
     ]
    },
    {
     "name": "stderr",
     "output_type": "stream",
     "text": [
      "[Parallel(n_jobs=1)]: Done   1 out of   1 | elapsed:    8.8s finished\n",
      "[Parallel(n_jobs=1)]: Done   1 out of   1 | elapsed:    0.8s finished\n",
      "[Parallel(n_jobs=1)]: Done   1 out of   1 | elapsed:    3.8s finished\n"
     ]
    },
    {
     "name": "stdout",
     "output_type": "stream",
     "text": [
      "[LibLinear][LibLinear][LibLinear][LibLinear][LibLinear][LibLinear][LibLinear][LibLinear][LibLinear][LibLinear]"
     ]
    },
    {
     "name": "stderr",
     "output_type": "stream",
     "text": [
      "[Parallel(n_jobs=1)]: Done   1 out of   1 | elapsed:    9.3s finished\n",
      "[Parallel(n_jobs=1)]: Done   1 out of   1 | elapsed:    0.9s finished\n",
      "[Parallel(n_jobs=1)]: Done   1 out of   1 | elapsed:    3.8s finished\n"
     ]
    },
    {
     "name": "stdout",
     "output_type": "stream",
     "text": [
      "[LibLinear][LibLinear][LibLinear][LibLinear][LibLinear][LibLinear][LibLinear][LibLinear][LibLinear][LibLinear]"
     ]
    },
    {
     "name": "stderr",
     "output_type": "stream",
     "text": [
      "[Parallel(n_jobs=1)]: Done   1 out of   1 | elapsed:    8.1s finished\n",
      "[Parallel(n_jobs=1)]: Done   1 out of   1 | elapsed:    0.8s finished\n",
      "[Parallel(n_jobs=1)]: Done   1 out of   1 | elapsed:    4.0s finished\n"
     ]
    },
    {
     "name": "stdout",
     "output_type": "stream",
     "text": [
      "[LibLinear][LibLinear][LibLinear][LibLinear][LibLinear][LibLinear][LibLinear][LibLinear][LibLinear][LibLinear]"
     ]
    },
    {
     "name": "stderr",
     "output_type": "stream",
     "text": [
      "[Parallel(n_jobs=1)]: Done   1 out of   1 | elapsed:    7.9s finished\n",
      "[Parallel(n_jobs=1)]: Done   1 out of   1 | elapsed:    0.8s finished\n",
      "[Parallel(n_jobs=1)]: Done   1 out of   1 | elapsed:    3.8s finished\n"
     ]
    },
    {
     "name": "stdout",
     "output_type": "stream",
     "text": [
      "[LibLinear][LibLinear][LibLinear][LibLinear][LibLinear][LibLinear][LibLinear][LibLinear][LibLinear][LibLinear]"
     ]
    },
    {
     "name": "stderr",
     "output_type": "stream",
     "text": [
      "[Parallel(n_jobs=1)]: Done   1 out of   1 | elapsed:    8.3s finished\n",
      "[Parallel(n_jobs=1)]: Done   1 out of   1 | elapsed:    0.9s finished\n",
      "[Parallel(n_jobs=1)]: Done   1 out of   1 | elapsed:    3.8s finished\n"
     ]
    },
    {
     "name": "stdout",
     "output_type": "stream",
     "text": [
      "[LibLinear][LibLinear][LibLinear][LibLinear][LibLinear][LibLinear][LibLinear][LibLinear][LibLinear][LibLinear]"
     ]
    },
    {
     "name": "stderr",
     "output_type": "stream",
     "text": [
      "[Parallel(n_jobs=1)]: Done   1 out of   1 | elapsed:    9.0s finished\n",
      "[Parallel(n_jobs=1)]: Done   1 out of   1 | elapsed:    0.8s finished\n",
      "[Parallel(n_jobs=1)]: Done   1 out of   1 | elapsed:    3.9s finished\n"
     ]
    },
    {
     "name": "stdout",
     "output_type": "stream",
     "text": [
      "[LibLinear][LibLinear][LibLinear][LibLinear][LibLinear][LibLinear][LibLinear][LibLinear][LibLinear][LibLinear]"
     ]
    },
    {
     "name": "stderr",
     "output_type": "stream",
     "text": [
      "[Parallel(n_jobs=1)]: Done   1 out of   1 | elapsed:    8.7s finished\n",
      "[Parallel(n_jobs=1)]: Done   1 out of   1 | elapsed:    0.8s finished\n",
      "[Parallel(n_jobs=1)]: Done   1 out of   1 | elapsed:    3.8s finished\n"
     ]
    },
    {
     "name": "stdout",
     "output_type": "stream",
     "text": [
      "[LibLinear][LibLinear][LibLinear][LibLinear][LibLinear][LibLinear][LibLinear][LibLinear][LibLinear][LibLinear]"
     ]
    },
    {
     "name": "stderr",
     "output_type": "stream",
     "text": [
      "[Parallel(n_jobs=1)]: Done   1 out of   1 | elapsed:    9.2s finished\n",
      "[Parallel(n_jobs=1)]: Done   1 out of   1 | elapsed:    0.9s finished\n",
      "[Parallel(n_jobs=1)]: Done   1 out of   1 | elapsed:    3.8s finished\n"
     ]
    },
    {
     "name": "stdout",
     "output_type": "stream",
     "text": [
      "[LibLinear][LibLinear][LibLinear][LibLinear][LibLinear][LibLinear][LibLinear][LibLinear][LibLinear][LibLinear]"
     ]
    },
    {
     "name": "stderr",
     "output_type": "stream",
     "text": [
      "[Parallel(n_jobs=1)]: Done   1 out of   1 | elapsed:    8.1s finished\n",
      "[Parallel(n_jobs=1)]: Done   1 out of   1 | elapsed:    0.8s finished\n",
      "[Parallel(n_jobs=1)]: Done   1 out of   1 | elapsed:    4.0s finished\n"
     ]
    },
    {
     "name": "stdout",
     "output_type": "stream",
     "text": [
      "[LibLinear][LibLinear][LibLinear][LibLinear][LibLinear][LibLinear][LibLinear][LibLinear][LibLinear][LibLinear]"
     ]
    },
    {
     "name": "stderr",
     "output_type": "stream",
     "text": [
      "[Parallel(n_jobs=1)]: Done   1 out of   1 | elapsed:    7.9s finished\n",
      "[Parallel(n_jobs=1)]: Done   1 out of   1 | elapsed:    0.8s finished\n",
      "[Parallel(n_jobs=1)]: Done   1 out of   1 | elapsed:    3.7s finished\n"
     ]
    },
    {
     "name": "stdout",
     "output_type": "stream",
     "text": [
      "[LibLinear][LibLinear][LibLinear][LibLinear][LibLinear][LibLinear][LibLinear][LibLinear][LibLinear][LibLinear]"
     ]
    },
    {
     "name": "stderr",
     "output_type": "stream",
     "text": [
      "[Parallel(n_jobs=1)]: Done   1 out of   1 | elapsed:    8.2s finished\n",
      "[Parallel(n_jobs=1)]: Done   1 out of   1 | elapsed:    0.9s finished\n",
      "[Parallel(n_jobs=1)]: Done   1 out of   1 | elapsed:    3.8s finished\n"
     ]
    },
    {
     "name": "stdout",
     "output_type": "stream",
     "text": [
      "[LibLinear][LibLinear][LibLinear][LibLinear][LibLinear][LibLinear][LibLinear][LibLinear][LibLinear][LibLinear]"
     ]
    },
    {
     "name": "stderr",
     "output_type": "stream",
     "text": [
      "[Parallel(n_jobs=1)]: Done   1 out of   1 | elapsed:    9.3s finished\n",
      "[Parallel(n_jobs=1)]: Done   1 out of   1 | elapsed:    0.8s finished\n",
      "[Parallel(n_jobs=1)]: Done   1 out of   1 | elapsed:    3.9s finished\n"
     ]
    },
    {
     "name": "stdout",
     "output_type": "stream",
     "text": [
      "[LibLinear][LibLinear][LibLinear][LibLinear][LibLinear][LibLinear][LibLinear][LibLinear][LibLinear][LibLinear]"
     ]
    },
    {
     "name": "stderr",
     "output_type": "stream",
     "text": [
      "[Parallel(n_jobs=1)]: Done   1 out of   1 | elapsed:    8.8s finished\n",
      "[Parallel(n_jobs=1)]: Done   1 out of   1 | elapsed:    0.8s finished\n",
      "[Parallel(n_jobs=1)]: Done   1 out of   1 | elapsed:    3.7s finished\n"
     ]
    },
    {
     "name": "stdout",
     "output_type": "stream",
     "text": [
      "[LibLinear][LibLinear][LibLinear][LibLinear][LibLinear][LibLinear][LibLinear][LibLinear][LibLinear][LibLinear]"
     ]
    },
    {
     "name": "stderr",
     "output_type": "stream",
     "text": [
      "[Parallel(n_jobs=1)]: Done   1 out of   1 | elapsed:    9.2s finished\n",
      "[Parallel(n_jobs=1)]: Done   1 out of   1 | elapsed:    0.9s finished\n",
      "[Parallel(n_jobs=1)]: Done   1 out of   1 | elapsed:    3.8s finished\n"
     ]
    },
    {
     "name": "stdout",
     "output_type": "stream",
     "text": [
      "[LibLinear][LibLinear][LibLinear][LibLinear][LibLinear][LibLinear][LibLinear][LibLinear][LibLinear][LibLinear]"
     ]
    },
    {
     "name": "stderr",
     "output_type": "stream",
     "text": [
      "[Parallel(n_jobs=1)]: Done   1 out of   1 | elapsed:   11.2s finished\n",
      "[Parallel(n_jobs=1)]: Done   1 out of   1 | elapsed:    2.2s finished\n",
      "[Parallel(n_jobs=1)]: Done   1 out of   1 | elapsed:    5.2s finished\n"
     ]
    },
    {
     "name": "stdout",
     "output_type": "stream",
     "text": [
      "[LibLinear][LibLinear][LibLinear][LibLinear][LibLinear][LibLinear][LibLinear][LibLinear][LibLinear][LibLinear]"
     ]
    },
    {
     "name": "stderr",
     "output_type": "stream",
     "text": [
      "[Parallel(n_jobs=1)]: Done   1 out of   1 | elapsed:   11.0s finished\n",
      "[Parallel(n_jobs=1)]: Done   1 out of   1 | elapsed:    2.2s finished\n",
      "[Parallel(n_jobs=1)]: Done   1 out of   1 | elapsed:    5.1s finished\n"
     ]
    },
    {
     "name": "stdout",
     "output_type": "stream",
     "text": [
      "[LibLinear][LibLinear][LibLinear][LibLinear][LibLinear][LibLinear][LibLinear][LibLinear][LibLinear][LibLinear]"
     ]
    },
    {
     "name": "stderr",
     "output_type": "stream",
     "text": [
      "[Parallel(n_jobs=1)]: Done   1 out of   1 | elapsed:   11.4s finished\n",
      "[Parallel(n_jobs=1)]: Done   1 out of   1 | elapsed:    2.2s finished\n",
      "[Parallel(n_jobs=1)]: Done   1 out of   1 | elapsed:    5.1s finished\n"
     ]
    },
    {
     "name": "stdout",
     "output_type": "stream",
     "text": [
      "[LibLinear][LibLinear][LibLinear][LibLinear][LibLinear][LibLinear][LibLinear][LibLinear][LibLinear][LibLinear]"
     ]
    },
    {
     "name": "stderr",
     "output_type": "stream",
     "text": [
      "[Parallel(n_jobs=1)]: Done   1 out of   1 | elapsed:   12.1s finished\n",
      "[Parallel(n_jobs=1)]: Done   1 out of   1 | elapsed:    2.3s finished\n",
      "[Parallel(n_jobs=1)]: Done   1 out of   1 | elapsed:    5.1s finished\n"
     ]
    },
    {
     "name": "stdout",
     "output_type": "stream",
     "text": [
      "[LibLinear][LibLinear][LibLinear][LibLinear][LibLinear][LibLinear][LibLinear][LibLinear][LibLinear][LibLinear]"
     ]
    },
    {
     "name": "stderr",
     "output_type": "stream",
     "text": [
      "[Parallel(n_jobs=1)]: Done   1 out of   1 | elapsed:   11.9s finished\n",
      "[Parallel(n_jobs=1)]: Done   1 out of   1 | elapsed:    2.2s finished\n",
      "[Parallel(n_jobs=1)]: Done   1 out of   1 | elapsed:    5.0s finished\n"
     ]
    },
    {
     "name": "stdout",
     "output_type": "stream",
     "text": [
      "[LibLinear][LibLinear][LibLinear][LibLinear][LibLinear][LibLinear][LibLinear][LibLinear][LibLinear][LibLinear]"
     ]
    },
    {
     "name": "stderr",
     "output_type": "stream",
     "text": [
      "[Parallel(n_jobs=1)]: Done   1 out of   1 | elapsed:   12.4s finished\n",
      "[Parallel(n_jobs=1)]: Done   1 out of   1 | elapsed:    2.2s finished\n",
      "[Parallel(n_jobs=1)]: Done   1 out of   1 | elapsed:    5.1s finished\n"
     ]
    },
    {
     "name": "stdout",
     "output_type": "stream",
     "text": [
      "[LibLinear][LibLinear][LibLinear][LibLinear][LibLinear][LibLinear][LibLinear][LibLinear][LibLinear][LibLinear]"
     ]
    },
    {
     "name": "stderr",
     "output_type": "stream",
     "text": [
      "[Parallel(n_jobs=1)]: Done   1 out of   1 | elapsed:   11.3s finished\n",
      "[Parallel(n_jobs=1)]: Done   1 out of   1 | elapsed:    2.3s finished\n",
      "[Parallel(n_jobs=1)]: Done   1 out of   1 | elapsed:    5.2s finished\n"
     ]
    },
    {
     "name": "stdout",
     "output_type": "stream",
     "text": [
      "[LibLinear][LibLinear][LibLinear][LibLinear][LibLinear][LibLinear][LibLinear][LibLinear][LibLinear][LibLinear]"
     ]
    },
    {
     "name": "stderr",
     "output_type": "stream",
     "text": [
      "[Parallel(n_jobs=1)]: Done   1 out of   1 | elapsed:   11.0s finished\n",
      "[Parallel(n_jobs=1)]: Done   1 out of   1 | elapsed:    2.2s finished\n",
      "[Parallel(n_jobs=1)]: Done   1 out of   1 | elapsed:    5.1s finished\n"
     ]
    },
    {
     "name": "stdout",
     "output_type": "stream",
     "text": [
      "[LibLinear][LibLinear][LibLinear][LibLinear][LibLinear][LibLinear][LibLinear][LibLinear][LibLinear][LibLinear]"
     ]
    },
    {
     "name": "stderr",
     "output_type": "stream",
     "text": [
      "[Parallel(n_jobs=1)]: Done   1 out of   1 | elapsed:   11.3s finished\n",
      "[Parallel(n_jobs=1)]: Done   1 out of   1 | elapsed:    2.2s finished\n",
      "[Parallel(n_jobs=1)]: Done   1 out of   1 | elapsed:    5.1s finished\n"
     ]
    },
    {
     "name": "stdout",
     "output_type": "stream",
     "text": [
      "[LibLinear][LibLinear][LibLinear][LibLinear][LibLinear][LibLinear][LibLinear][LibLinear][LibLinear][LibLinear]"
     ]
    },
    {
     "name": "stderr",
     "output_type": "stream",
     "text": [
      "[Parallel(n_jobs=1)]: Done   1 out of   1 | elapsed:   13.8s finished\n",
      "[Parallel(n_jobs=1)]: Done   1 out of   1 | elapsed:    2.6s finished\n",
      "[Parallel(n_jobs=1)]: Done   1 out of   1 | elapsed:    6.1s finished\n"
     ]
    },
    {
     "name": "stdout",
     "output_type": "stream",
     "text": [
      "[LibLinear][LibLinear][LibLinear][LibLinear][LibLinear][LibLinear][LibLinear][LibLinear][LibLinear][LibLinear]"
     ]
    },
    {
     "name": "stderr",
     "output_type": "stream",
     "text": [
      "[Parallel(n_jobs=1)]: Done   1 out of   1 | elapsed:   13.4s finished\n",
      "[Parallel(n_jobs=1)]: Done   1 out of   1 | elapsed:    2.4s finished\n",
      "[Parallel(n_jobs=1)]: Done   1 out of   1 | elapsed:    5.3s finished\n"
     ]
    },
    {
     "name": "stdout",
     "output_type": "stream",
     "text": [
      "[LibLinear][LibLinear][LibLinear][LibLinear][LibLinear][LibLinear][LibLinear][LibLinear][LibLinear][LibLinear]"
     ]
    },
    {
     "name": "stderr",
     "output_type": "stream",
     "text": [
      "[Parallel(n_jobs=1)]: Done   1 out of   1 | elapsed:   13.9s finished\n",
      "[Parallel(n_jobs=1)]: Done   1 out of   1 | elapsed:    2.3s finished\n",
      "[Parallel(n_jobs=1)]: Done   1 out of   1 | elapsed:    5.7s finished\n"
     ]
    },
    {
     "name": "stdout",
     "output_type": "stream",
     "text": [
      "[LibLinear][LibLinear][LibLinear][LibLinear][LibLinear][LibLinear][LibLinear][LibLinear][LibLinear][LibLinear]"
     ]
    },
    {
     "name": "stderr",
     "output_type": "stream",
     "text": [
      "[Parallel(n_jobs=1)]: Done   1 out of   1 | elapsed:   13.4s finished\n",
      "[Parallel(n_jobs=1)]: Done   1 out of   1 | elapsed:    2.6s finished\n",
      "[Parallel(n_jobs=1)]: Done   1 out of   1 | elapsed:    5.2s finished\n"
     ]
    },
    {
     "name": "stdout",
     "output_type": "stream",
     "text": [
      "[LibLinear][LibLinear][LibLinear][LibLinear][LibLinear][LibLinear][LibLinear][LibLinear][LibLinear][LibLinear]"
     ]
    },
    {
     "name": "stderr",
     "output_type": "stream",
     "text": [
      "[Parallel(n_jobs=1)]: Done   1 out of   1 | elapsed:   11.3s finished\n",
      "[Parallel(n_jobs=1)]: Done   1 out of   1 | elapsed:    2.2s finished\n",
      "[Parallel(n_jobs=1)]: Done   1 out of   1 | elapsed:    5.2s finished\n"
     ]
    },
    {
     "name": "stdout",
     "output_type": "stream",
     "text": [
      "[LibLinear][LibLinear][LibLinear][LibLinear][LibLinear][LibLinear][LibLinear][LibLinear][LibLinear][LibLinear]"
     ]
    },
    {
     "name": "stderr",
     "output_type": "stream",
     "text": [
      "[Parallel(n_jobs=1)]: Done   1 out of   1 | elapsed:   11.9s finished\n",
      "[Parallel(n_jobs=1)]: Done   1 out of   1 | elapsed:    2.2s finished\n",
      "[Parallel(n_jobs=1)]: Done   1 out of   1 | elapsed:    5.1s finished\n"
     ]
    },
    {
     "name": "stdout",
     "output_type": "stream",
     "text": [
      "[LibLinear][LibLinear][LibLinear][LibLinear][LibLinear][LibLinear][LibLinear][LibLinear][LibLinear][LibLinear]"
     ]
    },
    {
     "name": "stderr",
     "output_type": "stream",
     "text": [
      "[Parallel(n_jobs=1)]: Done   1 out of   1 | elapsed:   12.4s finished\n",
      "[Parallel(n_jobs=1)]: Done   1 out of   1 | elapsed:    2.2s finished\n",
      "[Parallel(n_jobs=1)]: Done   1 out of   1 | elapsed:    5.2s finished\n"
     ]
    },
    {
     "name": "stdout",
     "output_type": "stream",
     "text": [
      "[LibLinear][LibLinear][LibLinear][LibLinear][LibLinear][LibLinear][LibLinear][LibLinear][LibLinear][LibLinear]"
     ]
    },
    {
     "name": "stderr",
     "output_type": "stream",
     "text": [
      "[Parallel(n_jobs=1)]: Done   1 out of   1 | elapsed:   12.0s finished\n",
      "[Parallel(n_jobs=1)]: Done   1 out of   1 | elapsed:    2.2s finished\n",
      "[Parallel(n_jobs=1)]: Done   1 out of   1 | elapsed:    5.4s finished\n"
     ]
    },
    {
     "name": "stdout",
     "output_type": "stream",
     "text": [
      "[LibLinear][LibLinear][LibLinear][LibLinear][LibLinear][LibLinear][LibLinear][LibLinear][LibLinear][LibLinear]"
     ]
    },
    {
     "name": "stderr",
     "output_type": "stream",
     "text": [
      "[Parallel(n_jobs=1)]: Done   1 out of   1 | elapsed:   12.6s finished\n",
      "[Parallel(n_jobs=1)]: Done   1 out of   1 | elapsed:    2.3s finished\n",
      "[Parallel(n_jobs=1)]: Done   1 out of   1 | elapsed:    5.1s finished\n"
     ]
    },
    {
     "name": "stdout",
     "output_type": "stream",
     "text": [
      "[LibLinear][LibLinear][LibLinear][LibLinear][LibLinear][LibLinear][LibLinear][LibLinear][LibLinear][LibLinear]"
     ]
    },
    {
     "name": "stderr",
     "output_type": "stream",
     "text": [
      "[Parallel(n_jobs=1)]: Done   1 out of   1 | elapsed:   11.2s finished\n",
      "[Parallel(n_jobs=1)]: Done   1 out of   1 | elapsed:    2.2s finished\n",
      "[Parallel(n_jobs=1)]: Done   1 out of   1 | elapsed:    5.2s finished\n"
     ]
    },
    {
     "name": "stdout",
     "output_type": "stream",
     "text": [
      "[LibLinear][LibLinear][LibLinear][LibLinear][LibLinear][LibLinear][LibLinear][LibLinear][LibLinear][LibLinear]"
     ]
    },
    {
     "name": "stderr",
     "output_type": "stream",
     "text": [
      "[Parallel(n_jobs=1)]: Done   1 out of   1 | elapsed:   11.1s finished\n",
      "[Parallel(n_jobs=1)]: Done   1 out of   1 | elapsed:    2.2s finished\n",
      "[Parallel(n_jobs=1)]: Done   1 out of   1 | elapsed:    5.1s finished\n"
     ]
    },
    {
     "name": "stdout",
     "output_type": "stream",
     "text": [
      "[LibLinear][LibLinear][LibLinear][LibLinear][LibLinear][LibLinear][LibLinear][LibLinear][LibLinear][LibLinear]"
     ]
    },
    {
     "name": "stderr",
     "output_type": "stream",
     "text": [
      "[Parallel(n_jobs=1)]: Done   1 out of   1 | elapsed:   13.4s finished\n",
      "[Parallel(n_jobs=1)]: Done   1 out of   1 | elapsed:    2.3s finished\n",
      "[Parallel(n_jobs=1)]: Done   1 out of   1 | elapsed:    5.2s finished\n"
     ]
    },
    {
     "name": "stdout",
     "output_type": "stream",
     "text": [
      "[LibLinear][LibLinear][LibLinear][LibLinear][LibLinear][LibLinear][LibLinear][LibLinear][LibLinear][LibLinear]"
     ]
    },
    {
     "name": "stderr",
     "output_type": "stream",
     "text": [
      "[Parallel(n_jobs=1)]: Done   1 out of   1 | elapsed:   12.3s finished\n",
      "[Parallel(n_jobs=1)]: Done   1 out of   1 | elapsed:    2.3s finished\n",
      "[Parallel(n_jobs=1)]: Done   1 out of   1 | elapsed:    5.2s finished\n"
     ]
    },
    {
     "name": "stdout",
     "output_type": "stream",
     "text": [
      "[LibLinear][LibLinear][LibLinear][LibLinear][LibLinear][LibLinear][LibLinear][LibLinear][LibLinear][LibLinear]"
     ]
    },
    {
     "name": "stderr",
     "output_type": "stream",
     "text": [
      "[Parallel(n_jobs=1)]: Done   1 out of   1 | elapsed:   12.0s finished\n",
      "[Parallel(n_jobs=1)]: Done   1 out of   1 | elapsed:    2.2s finished\n",
      "[Parallel(n_jobs=1)]: Done   1 out of   1 | elapsed:    5.1s finished\n"
     ]
    },
    {
     "name": "stdout",
     "output_type": "stream",
     "text": [
      "[LibLinear][LibLinear][LibLinear][LibLinear][LibLinear][LibLinear][LibLinear][LibLinear][LibLinear][LibLinear]"
     ]
    },
    {
     "name": "stderr",
     "output_type": "stream",
     "text": [
      "[Parallel(n_jobs=1)]: Done   1 out of   1 | elapsed:   12.6s finished\n",
      "[Parallel(n_jobs=1)]: Done   1 out of   1 | elapsed:    2.2s finished\n",
      "[Parallel(n_jobs=1)]: Done   1 out of   1 | elapsed:    5.1s finished\n",
      "[Parallel(n_jobs=1)]: Done  72 out of  72 | elapsed: 27.6min finished\n"
     ]
    },
    {
     "name": "stdout",
     "output_type": "stream",
     "text": [
      "[LibLinear][LibLinear][LibLinear][LibLinear][LibLinear][LibLinear][LibLinear][LibLinear][LibLinear][LibLinear]"
     ]
    },
    {
     "name": "stderr",
     "output_type": "stream",
     "text": [
      "[Parallel(n_jobs=1)]: Done   1 out of   1 | elapsed:   15.6s finished\n"
     ]
    },
    {
     "data": {
      "text/plain": [
       "GridSearchCV(cv=None, error_score='raise',\n",
       "       estimator=Pipeline(memory=None,\n",
       "     steps=[('features', FeatureUnion(n_jobs=1,\n",
       "       transformer_list=[('selftext', Pipeline(memory=None,\n",
       "     steps=[('text', SampleExtractor(vars=['selftext'])), ('cv', CountVectorizer(analyzer='word', binary=False, decode_error='strict',\n",
       "        dtype=<class 'numpy.int64'>, encoding='utf-8', input='...estimators=10, n_jobs=1, oob_score=False,\n",
       "         random_state=None, verbose=1, warm_start=False))]),\n",
       "       fit_params=None, iid=True, n_jobs=1,\n",
       "       param_grid={'features__comments__cv__max_features': (15000, 25000, 35000), 'features__comments__cv__ngram_range': ((1, 2), (1, 3)), 'logreg_bag__base_estimator__C': (0.05, 0.075), 'logreg_bag__base_estimator__penalty': ('l1', 'l2')},\n",
       "       pre_dispatch='2*n_jobs', refit=True, return_train_score='warn',\n",
       "       scoring=None, verbose=1)"
      ]
     },
     "execution_count": 642,
     "metadata": {},
     "output_type": "execute_result"
    }
   ],
   "source": [
    "gs5_logreg.fit(X5_train, y5_train)"
   ]
  },
  {
   "cell_type": "code",
   "execution_count": 643,
   "metadata": {},
   "outputs": [
    {
     "data": {
      "text/plain": [
       "0.9740082079343365"
      ]
     },
     "execution_count": 643,
     "metadata": {},
     "output_type": "execute_result"
    }
   ],
   "source": [
    "gs5_logreg.best_score_"
   ]
  },
  {
   "cell_type": "code",
   "execution_count": 644,
   "metadata": {},
   "outputs": [
    {
     "data": {
      "text/plain": [
       "{'features__comments__cv__max_features': 25000,\n",
       " 'features__comments__cv__ngram_range': (1, 3),\n",
       " 'logreg_bag__base_estimator__C': 0.05,\n",
       " 'logreg_bag__base_estimator__penalty': 'l2'}"
      ]
     },
     "execution_count": 644,
     "metadata": {},
     "output_type": "execute_result"
    }
   ],
   "source": [
    "gs5_logreg.best_params_"
   ]
  },
  {
   "cell_type": "code",
   "execution_count": 645,
   "metadata": {},
   "outputs": [
    {
     "name": "stderr",
     "output_type": "stream",
     "text": [
      "[Parallel(n_jobs=1)]: Done   1 out of   1 | elapsed:    0.9s finished\n"
     ]
    },
    {
     "data": {
      "text/plain": [
       "0.9713114754098361"
      ]
     },
     "execution_count": 645,
     "metadata": {},
     "output_type": "execute_result"
    }
   ],
   "source": [
    "gs5_logreg.score(X5_test, y5_test)"
   ]
  },
  {
   "cell_type": "code",
   "execution_count": null,
   "metadata": {},
   "outputs": [],
   "source": []
  },
  {
   "cell_type": "code",
   "execution_count": null,
   "metadata": {},
   "outputs": [],
   "source": []
  },
  {
   "cell_type": "code",
   "execution_count": 629,
   "metadata": {},
   "outputs": [
    {
     "data": {
      "text/plain": [
       "{'logreg_bag__base_estimator__C': 0.01,\n",
       " 'logreg_bag__base_estimator__penalty': 'l2'}"
      ]
     },
     "execution_count": 629,
     "metadata": {},
     "output_type": "execute_result"
    }
   ],
   "source": [
    "gs5_logreg.best_params_"
   ]
  },
  {
   "cell_type": "code",
   "execution_count": 630,
   "metadata": {},
   "outputs": [
    {
     "data": {
      "text/plain": [
       "0.9774590163934426"
      ]
     },
     "execution_count": 630,
     "metadata": {},
     "output_type": "execute_result"
    }
   ],
   "source": [
    "gs5_logreg.score(X5_test, y5_test)"
   ]
  },
  {
   "cell_type": "code",
   "execution_count": null,
   "metadata": {},
   "outputs": [],
   "source": []
  },
  {
   "cell_type": "markdown",
   "metadata": {},
   "source": [
    "#### Comments Only Based Models"
   ]
  },
  {
   "cell_type": "code",
   "execution_count": 693,
   "metadata": {},
   "outputs": [],
   "source": [
    "X_com = red_df['comments']\n",
    "y_com = red_df['subreddit']"
   ]
  },
  {
   "cell_type": "code",
   "execution_count": 694,
   "metadata": {},
   "outputs": [],
   "source": [
    "X_com_train, X_com_test, y_com_train, y_com_test = train_test_split(X_com, y_com, random_state=8)"
   ]
  },
  {
   "cell_type": "code",
   "execution_count": 695,
   "metadata": {},
   "outputs": [
    {
     "data": {
      "text/plain": [
       "CountVectorizer(analyzer='word', binary=False, decode_error='strict',\n",
       "        dtype=<class 'numpy.int64'>, encoding='utf-8', input='content',\n",
       "        lowercase=True, max_df=1.0, max_features=None, min_df=1,\n",
       "        ngram_range=(1, 1), preprocessor=None, stop_words=None,\n",
       "        strip_accents=None, token_pattern='(?u)\\\\b\\\\w\\\\w+\\\\b',\n",
       "        tokenizer=None, vocabulary=None)"
      ]
     },
     "execution_count": 695,
     "metadata": {},
     "output_type": "execute_result"
    }
   ],
   "source": [
    "num_finder_cv = CountVectorizer()\n",
    "num_finder_cv.fit(X_com_train)"
   ]
  },
  {
   "cell_type": "code",
   "execution_count": 696,
   "metadata": {},
   "outputs": [
    {
     "data": {
      "text/plain": [
       "2442"
      ]
     },
     "execution_count": 696,
     "metadata": {},
     "output_type": "execute_result"
    }
   ],
   "source": [
    "for col in num_finder_cv.get_feature_names():\n",
    "    if col.isnumeric():\n",
    "        stops.add(col)\n",
    "len(stops)"
   ]
  },
  {
   "cell_type": "code",
   "execution_count": 697,
   "metadata": {},
   "outputs": [
    {
     "data": {
      "text/plain": [
       "56635"
      ]
     },
     "execution_count": 697,
     "metadata": {},
     "output_type": "execute_result"
    }
   ],
   "source": [
    "len(num_finder_cv.get_feature_names())"
   ]
  },
  {
   "cell_type": "code",
   "execution_count": 698,
   "metadata": {},
   "outputs": [],
   "source": [
    "steps = [('vect', CountVectorizer(stop_words = stops)),\n",
    "         ('nb', MultinomialNB())]\n",
    "\n",
    "pipe = Pipeline(steps)\n",
    "\n",
    "grid_params = {\n",
    "    'vect__max_features': (15000, 25000, 35000),\n",
    "    'vect__ngram_range': ((1, 1), (1, 2), (1, 3)),\n",
    "    'vect__token_pattern': ('r\\\\/\\\\w+|[a-zA-Z]+|[\\\\d\\\\.\\\\,]+|[\\\\.\\\\?\\\\!\\\\,]+\\\\S', '(?u)\\\\b\\\\w\\\\w+\\\\b')\n",
    "}\n",
    "\n",
    "grid_4 = GridSearchCV(pipe, grid_params, verbose=1)"
   ]
  },
  {
   "cell_type": "code",
   "execution_count": 699,
   "metadata": {},
   "outputs": [
    {
     "name": "stdout",
     "output_type": "stream",
     "text": [
      "Fitting 3 folds for each of 18 candidates, totalling 54 fits\n"
     ]
    },
    {
     "name": "stderr",
     "output_type": "stream",
     "text": [
      "[Parallel(n_jobs=1)]: Done  54 out of  54 | elapsed: 38.5min finished\n"
     ]
    },
    {
     "data": {
      "text/plain": [
       "GridSearchCV(cv=None, error_score='raise',\n",
       "       estimator=Pipeline(memory=None,\n",
       "     steps=[('vect', CountVectorizer(analyzer='word', binary=False, decode_error='strict',\n",
       "        dtype=<class 'numpy.int64'>, encoding='utf-8', input='content',\n",
       "        lowercase=True, max_df=1.0, max_features=None, min_df=1,\n",
       "        ngram_range=(1, 1), preprocessor=None,\n",
       "        stop_words={'even', '1...kenizer=None, vocabulary=None)), ('nb', MultinomialNB(alpha=1.0, class_prior=None, fit_prior=True))]),\n",
       "       fit_params=None, iid=True, n_jobs=1,\n",
       "       param_grid={'vect__max_features': (15000, 25000, 35000), 'vect__ngram_range': ((1, 1), (1, 2), (1, 3)), 'vect__token_pattern': ('r\\\\/\\\\w+|[a-zA-Z]+|[\\\\d\\\\.\\\\,]+|[\\\\.\\\\?\\\\!\\\\,]+\\\\S', '(?u)\\\\b\\\\w\\\\w+\\\\b')},\n",
       "       pre_dispatch='2*n_jobs', refit=True, return_train_score='warn',\n",
       "       scoring=None, verbose=1)"
      ]
     },
     "execution_count": 699,
     "metadata": {},
     "output_type": "execute_result"
    }
   ],
   "source": [
    "grid_4.fit(X_com_train, y_com_train)"
   ]
  },
  {
   "cell_type": "code",
   "execution_count": 700,
   "metadata": {},
   "outputs": [
    {
     "data": {
      "text/plain": [
       "0.9233926128590971"
      ]
     },
     "execution_count": 700,
     "metadata": {},
     "output_type": "execute_result"
    }
   ],
   "source": [
    "grid_4.best_score_"
   ]
  },
  {
   "cell_type": "code",
   "execution_count": 701,
   "metadata": {},
   "outputs": [
    {
     "data": {
      "text/plain": [
       "{'vect__max_features': 15000,\n",
       " 'vect__ngram_range': (1, 3),\n",
       " 'vect__token_pattern': 'r\\\\/\\\\w+|[a-zA-Z]+|[\\\\d\\\\.\\\\,]+|[\\\\.\\\\?\\\\!\\\\,]+\\\\S'}"
      ]
     },
     "execution_count": 701,
     "metadata": {},
     "output_type": "execute_result"
    }
   ],
   "source": [
    "grid_4.best_params_"
   ]
  },
  {
   "cell_type": "code",
   "execution_count": 702,
   "metadata": {},
   "outputs": [
    {
     "data": {
      "text/plain": [
       "0.944672131147541"
      ]
     },
     "execution_count": 702,
     "metadata": {},
     "output_type": "execute_result"
    }
   ],
   "source": [
    "grid_4.score(X_com_test, y_com_test)"
   ]
  },
  {
   "cell_type": "code",
   "execution_count": 706,
   "metadata": {},
   "outputs": [],
   "source": [
    "steps = [('vect', CountVectorizer(stop_words=stops)),\n",
    "         ('logreg', LogisticRegression())]\n",
    "\n",
    "pipe = Pipeline(steps)\n",
    "\n",
    "grid_params = {\n",
    "    'vect__max_features': (10000, 25000),\n",
    "    'vect__ngram_range': ((1, 2), (1, 3)),\n",
    "    'vect__token_pattern': ('r\\\\/\\\\w+|[a-zA-Z]+|[\\\\d\\\\.\\\\,]+|[\\\\.\\\\?\\\\!\\\\,]+\\\\S', '(?u)\\\\b\\\\w\\\\w+\\\\b'),\n",
    "    'logreg__C': (0.1, 0.5)\n",
    "}\n",
    "\n",
    "grid_5 = GridSearchCV(pipe, grid_params, verbose=1)"
   ]
  },
  {
   "cell_type": "code",
   "execution_count": 707,
   "metadata": {
    "scrolled": true
   },
   "outputs": [
    {
     "name": "stdout",
     "output_type": "stream",
     "text": [
      "Fitting 3 folds for each of 16 candidates, totalling 48 fits\n"
     ]
    },
    {
     "name": "stderr",
     "output_type": "stream",
     "text": [
      "[Parallel(n_jobs=1)]: Done  48 out of  48 | elapsed:  7.7min finished\n"
     ]
    },
    {
     "data": {
      "text/plain": [
       "GridSearchCV(cv=None, error_score='raise',\n",
       "       estimator=Pipeline(memory=None,\n",
       "     steps=[('vect', CountVectorizer(analyzer='word', binary=False, decode_error='strict',\n",
       "        dtype=<class 'numpy.int64'>, encoding='utf-8', input='content',\n",
       "        lowercase=True, max_df=1.0, max_features=None, min_df=1,\n",
       "        ngram_range=(1, 1), preprocessor=None,\n",
       "        stop_words={'even', '1...ty='l2', random_state=None, solver='liblinear', tol=0.0001,\n",
       "          verbose=0, warm_start=False))]),\n",
       "       fit_params=None, iid=True, n_jobs=1,\n",
       "       param_grid={'vect__max_features': (10000, 25000), 'vect__ngram_range': ((1, 2), (1, 3)), 'vect__token_pattern': ('r\\\\/\\\\w+|[a-zA-Z]+|[\\\\d\\\\.\\\\,]+|[\\\\.\\\\?\\\\!\\\\,]+\\\\S', '(?u)\\\\b\\\\w\\\\w+\\\\b'), 'logreg__C': (0.1, 0.5)},\n",
       "       pre_dispatch='2*n_jobs', refit=True, return_train_score='warn',\n",
       "       scoring=None, verbose=1)"
      ]
     },
     "execution_count": 707,
     "metadata": {},
     "output_type": "execute_result"
    }
   ],
   "source": [
    "grid_5.fit(X_com_train, y_com_train)"
   ]
  },
  {
   "cell_type": "code",
   "execution_count": 708,
   "metadata": {},
   "outputs": [
    {
     "data": {
      "text/plain": [
       "0.9746922024623803"
      ]
     },
     "execution_count": 708,
     "metadata": {},
     "output_type": "execute_result"
    }
   ],
   "source": [
    "grid_5.best_score_"
   ]
  },
  {
   "cell_type": "code",
   "execution_count": 709,
   "metadata": {},
   "outputs": [
    {
     "data": {
      "text/plain": [
       "{'logreg__C': 0.1,\n",
       " 'vect__max_features': 10000,\n",
       " 'vect__ngram_range': (1, 2),\n",
       " 'vect__token_pattern': 'r\\\\/\\\\w+|[a-zA-Z]+|[\\\\d\\\\.\\\\,]+|[\\\\.\\\\?\\\\!\\\\,]+\\\\S'}"
      ]
     },
     "execution_count": 709,
     "metadata": {},
     "output_type": "execute_result"
    }
   ],
   "source": [
    "grid_5.best_params_"
   ]
  },
  {
   "cell_type": "code",
   "execution_count": 710,
   "metadata": {},
   "outputs": [
    {
     "data": {
      "text/plain": [
       "0.9672131147540983"
      ]
     },
     "execution_count": 710,
     "metadata": {},
     "output_type": "execute_result"
    }
   ],
   "source": [
    "grid_5.score(X_com_test, y_com_test)"
   ]
  },
  {
   "cell_type": "markdown",
   "metadata": {},
   "source": [
    "So predicting based just off of title and self-text is quite difficult to actually do. Even with tweaking hyperparameters, trying different tokenizers, the best accuracy I could get on the testing set was 75%. When I used the comments based model, my accuracy greatly increased. The maximum accuracy score jumped up to 97.7%, which is extremely accurate."
   ]
  },
  {
   "cell_type": "code",
   "execution_count": 711,
   "metadata": {
    "scrolled": true
   },
   "outputs": [
    {
     "data": {
      "text/plain": [
       "array([[-0.13697669],\n",
       "       [-0.00076557],\n",
       "       [-0.004454  ],\n",
       "       ...,\n",
       "       [ 0.00288545],\n",
       "       [-0.0022731 ],\n",
       "       [-0.0016054 ]])"
      ]
     },
     "execution_count": 711,
     "metadata": {},
     "output_type": "execute_result"
    }
   ],
   "source": [
    "grid_5.best_estimator_.get_params()['steps'][1][1].coef_.T"
   ]
  },
  {
   "cell_type": "code",
   "execution_count": 908,
   "metadata": {},
   "outputs": [],
   "source": [
    "coefficients = pd.DataFrame(data=grid_5.best_estimator_.get_params()['steps'][1][1].coef_.T,\n",
    "                            index = grid_5.best_estimator_.get_params()['steps'][0][1].get_feature_names())\n",
    "coefficients.head()\n",
    "coefficients.columns=['Coefficient']\n",
    "coefficients['abs'] = abs(coefficients['Coefficient'])\n",
    "coefficients['sign'] = coefficients['Coefficient'] > 0\n",
    "coefficients.to_csv('./Assets/coefficients.csv')"
   ]
  },
  {
   "cell_type": "code",
   "execution_count": 907,
   "metadata": {},
   "outputs": [
    {
     "data": {
      "text/html": [
       "<div>\n",
       "<style scoped>\n",
       "    .dataframe tbody tr th:only-of-type {\n",
       "        vertical-align: middle;\n",
       "    }\n",
       "\n",
       "    .dataframe tbody tr th {\n",
       "        vertical-align: top;\n",
       "    }\n",
       "\n",
       "    .dataframe thead th {\n",
       "        text-align: right;\n",
       "    }\n",
       "</style>\n",
       "<table border=\"1\" class=\"dataframe\">\n",
       "  <thead>\n",
       "    <tr style=\"text-align: right;\">\n",
       "      <th></th>\n",
       "      <th>Coefficient</th>\n",
       "      <th>abs</th>\n",
       "      <th>sign</th>\n",
       "    </tr>\n",
       "  </thead>\n",
       "  <tbody>\n",
       "    <tr>\n",
       "      <th>kek</th>\n",
       "      <td>-0.270937</td>\n",
       "      <td>0.270937</td>\n",
       "      <td>False</td>\n",
       "    </tr>\n",
       "    <tr>\n",
       "      <th>media</th>\n",
       "      <td>-0.268474</td>\n",
       "      <td>0.268474</td>\n",
       "      <td>False</td>\n",
       "    </tr>\n",
       "    <tr>\n",
       "      <th>liberals</th>\n",
       "      <td>-0.260590</td>\n",
       "      <td>0.260590</td>\n",
       "      <td>False</td>\n",
       "    </tr>\n",
       "    <tr>\n",
       "      <th>mueller</th>\n",
       "      <td>0.255132</td>\n",
       "      <td>0.255132</td>\n",
       "      <td>True</td>\n",
       "    </tr>\n",
       "    <tr>\n",
       "      <th>left</th>\n",
       "      <td>-0.250680</td>\n",
       "      <td>0.250680</td>\n",
       "      <td>False</td>\n",
       "    </tr>\n",
       "    <tr>\n",
       "      <th>hillary</th>\n",
       "      <td>-0.239570</td>\n",
       "      <td>0.239570</td>\n",
       "      <td>False</td>\n",
       "    </tr>\n",
       "    <tr>\n",
       "      <th>cnn</th>\n",
       "      <td>-0.234417</td>\n",
       "      <td>0.234417</td>\n",
       "      <td>False</td>\n",
       "    </tr>\n",
       "    <tr>\n",
       "      <th>trump</th>\n",
       "      <td>0.222023</td>\n",
       "      <td>0.222023</td>\n",
       "      <td>True</td>\n",
       "    </tr>\n",
       "    <tr>\n",
       "      <th>republicans</th>\n",
       "      <td>0.219221</td>\n",
       "      <td>0.219221</td>\n",
       "      <td>True</td>\n",
       "    </tr>\n",
       "    <tr>\n",
       "      <th>love</th>\n",
       "      <td>-0.198342</td>\n",
       "      <td>0.198342</td>\n",
       "      <td>False</td>\n",
       "    </tr>\n",
       "    <tr>\n",
       "      <th>https</th>\n",
       "      <td>0.196423</td>\n",
       "      <td>0.196423</td>\n",
       "      <td>True</td>\n",
       "    </tr>\n",
       "    <tr>\n",
       "      <th>republican</th>\n",
       "      <td>0.191249</td>\n",
       "      <td>0.191249</td>\n",
       "      <td>True</td>\n",
       "    </tr>\n",
       "    <tr>\n",
       "      <th>sub</th>\n",
       "      <td>0.178761</td>\n",
       "      <td>0.178761</td>\n",
       "      <td>True</td>\n",
       "    </tr>\n",
       "    <tr>\n",
       "      <th>geotus</th>\n",
       "      <td>-0.173902</td>\n",
       "      <td>0.173902</td>\n",
       "      <td>False</td>\n",
       "    </tr>\n",
       "    <tr>\n",
       "      <th>guilty</th>\n",
       "      <td>0.167608</td>\n",
       "      <td>0.167608</td>\n",
       "      <td>True</td>\n",
       "    </tr>\n",
       "    <tr>\n",
       "      <th>maga</th>\n",
       "      <td>-0.164972</td>\n",
       "      <td>0.164972</td>\n",
       "      <td>False</td>\n",
       "    </tr>\n",
       "    <tr>\n",
       "      <th>removed</th>\n",
       "      <td>-0.164494</td>\n",
       "      <td>0.164494</td>\n",
       "      <td>False</td>\n",
       "    </tr>\n",
       "    <tr>\n",
       "      <th>gop</th>\n",
       "      <td>0.164102</td>\n",
       "      <td>0.164102</td>\n",
       "      <td>True</td>\n",
       "    </tr>\n",
       "    <tr>\n",
       "      <th>muh</th>\n",
       "      <td>-0.155946</td>\n",
       "      <td>0.155946</td>\n",
       "      <td>False</td>\n",
       "    </tr>\n",
       "    <tr>\n",
       "      <th>administration</th>\n",
       "      <td>0.153353</td>\n",
       "      <td>0.153353</td>\n",
       "      <td>True</td>\n",
       "    </tr>\n",
       "    <tr>\n",
       "      <th>hope</th>\n",
       "      <td>0.151132</td>\n",
       "      <td>0.151132</td>\n",
       "      <td>True</td>\n",
       "    </tr>\n",
       "    <tr>\n",
       "      <th>years</th>\n",
       "      <td>-0.149461</td>\n",
       "      <td>0.149461</td>\n",
       "      <td>False</td>\n",
       "    </tr>\n",
       "    <tr>\n",
       "      <th>liberal</th>\n",
       "      <td>-0.145608</td>\n",
       "      <td>0.145608</td>\n",
       "      <td>False</td>\n",
       "    </tr>\n",
       "    <tr>\n",
       "      <th>msm</th>\n",
       "      <td>-0.144774</td>\n",
       "      <td>0.144774</td>\n",
       "      <td>False</td>\n",
       "    </tr>\n",
       "    <tr>\n",
       "      <th>bernie</th>\n",
       "      <td>-0.144729</td>\n",
       "      <td>0.144729</td>\n",
       "      <td>False</td>\n",
       "    </tr>\n",
       "    <tr>\n",
       "      <th>podesta</th>\n",
       "      <td>-0.144260</td>\n",
       "      <td>0.144260</td>\n",
       "      <td>False</td>\n",
       "    </tr>\n",
       "    <tr>\n",
       "      <th>fox</th>\n",
       "      <td>0.143517</td>\n",
       "      <td>0.143517</td>\n",
       "      <td>True</td>\n",
       "    </tr>\n",
       "    <tr>\n",
       "      <th>president trump</th>\n",
       "      <td>-0.143340</td>\n",
       "      <td>0.143340</td>\n",
       "      <td>False</td>\n",
       "    </tr>\n",
       "    <tr>\n",
       "      <th>swamp</th>\n",
       "      <td>-0.141474</td>\n",
       "      <td>0.141474</td>\n",
       "      <td>False</td>\n",
       "    </tr>\n",
       "    <tr>\n",
       "      <th>pedes</th>\n",
       "      <td>-0.137908</td>\n",
       "      <td>0.137908</td>\n",
       "      <td>False</td>\n",
       "    </tr>\n",
       "    <tr>\n",
       "      <th>dems</th>\n",
       "      <td>-0.136993</td>\n",
       "      <td>0.136993</td>\n",
       "      <td>False</td>\n",
       "    </tr>\n",
       "    <tr>\n",
       "      <th>!!</th>\n",
       "      <td>-0.136977</td>\n",
       "      <td>0.136977</td>\n",
       "      <td>False</td>\n",
       "    </tr>\n",
       "    <tr>\n",
       "      <th>supporters</th>\n",
       "      <td>0.135833</td>\n",
       "      <td>0.135833</td>\n",
       "      <td>True</td>\n",
       "    </tr>\n",
       "    <tr>\n",
       "      <th>cohen</th>\n",
       "      <td>0.132501</td>\n",
       "      <td>0.132501</td>\n",
       "      <td>True</td>\n",
       "    </tr>\n",
       "    <tr>\n",
       "      <th>post</th>\n",
       "      <td>-0.129367</td>\n",
       "      <td>0.129367</td>\n",
       "      <td>False</td>\n",
       "    </tr>\n",
       "    <tr>\n",
       "      <th>comments</th>\n",
       "      <td>-0.128210</td>\n",
       "      <td>0.128210</td>\n",
       "      <td>False</td>\n",
       "    </tr>\n",
       "    <tr>\n",
       "      <th>based</th>\n",
       "      <td>-0.125095</td>\n",
       "      <td>0.125095</td>\n",
       "      <td>False</td>\n",
       "    </tr>\n",
       "    <tr>\n",
       "      <th>white house</th>\n",
       "      <td>0.119213</td>\n",
       "      <td>0.119213</td>\n",
       "      <td>True</td>\n",
       "    </tr>\n",
       "    <tr>\n",
       "      <th>spez</th>\n",
       "      <td>-0.118551</td>\n",
       "      <td>0.118551</td>\n",
       "      <td>False</td>\n",
       "    </tr>\n",
       "    <tr>\n",
       "      <th>president</th>\n",
       "      <td>-0.118131</td>\n",
       "      <td>0.118131</td>\n",
       "      <td>False</td>\n",
       "    </tr>\n",
       "    <tr>\n",
       "      <th>draft</th>\n",
       "      <td>0.116804</td>\n",
       "      <td>0.116804</td>\n",
       "      <td>True</td>\n",
       "    </tr>\n",
       "    <tr>\n",
       "      <th>spicy</th>\n",
       "      <td>-0.116691</td>\n",
       "      <td>0.116691</td>\n",
       "      <td>False</td>\n",
       "    </tr>\n",
       "    <tr>\n",
       "      <th>cuck</th>\n",
       "      <td>-0.115854</td>\n",
       "      <td>0.115854</td>\n",
       "      <td>False</td>\n",
       "    </tr>\n",
       "    <tr>\n",
       "      <th>office</th>\n",
       "      <td>0.114546</td>\n",
       "      <td>0.114546</td>\n",
       "      <td>True</td>\n",
       "    </tr>\n",
       "    <tr>\n",
       "      <th>putin</th>\n",
       "      <td>0.114323</td>\n",
       "      <td>0.114323</td>\n",
       "      <td>True</td>\n",
       "    </tr>\n",
       "    <tr>\n",
       "      <th>needs</th>\n",
       "      <td>-0.112284</td>\n",
       "      <td>0.112284</td>\n",
       "      <td>False</td>\n",
       "    </tr>\n",
       "    <tr>\n",
       "      <th>archive</th>\n",
       "      <td>-0.112027</td>\n",
       "      <td>0.112027</td>\n",
       "      <td>False</td>\n",
       "    </tr>\n",
       "    <tr>\n",
       "      <th>edit</th>\n",
       "      <td>0.111618</td>\n",
       "      <td>0.111618</td>\n",
       "      <td>True</td>\n",
       "    </tr>\n",
       "    <tr>\n",
       "      <th>redacted</th>\n",
       "      <td>-0.111399</td>\n",
       "      <td>0.111399</td>\n",
       "      <td>False</td>\n",
       "    </tr>\n",
       "    <tr>\n",
       "      <th>pede</th>\n",
       "      <td>-0.111394</td>\n",
       "      <td>0.111394</td>\n",
       "      <td>False</td>\n",
       "    </tr>\n",
       "  </tbody>\n",
       "</table>\n",
       "</div>"
      ],
      "text/plain": [
       "                 Coefficient       abs   sign\n",
       "kek                -0.270937  0.270937  False\n",
       "media              -0.268474  0.268474  False\n",
       "liberals           -0.260590  0.260590  False\n",
       "mueller             0.255132  0.255132   True\n",
       "left               -0.250680  0.250680  False\n",
       "hillary            -0.239570  0.239570  False\n",
       "cnn                -0.234417  0.234417  False\n",
       "trump               0.222023  0.222023   True\n",
       "republicans         0.219221  0.219221   True\n",
       "love               -0.198342  0.198342  False\n",
       "https               0.196423  0.196423   True\n",
       "republican          0.191249  0.191249   True\n",
       "sub                 0.178761  0.178761   True\n",
       "geotus             -0.173902  0.173902  False\n",
       "guilty              0.167608  0.167608   True\n",
       "maga               -0.164972  0.164972  False\n",
       "removed            -0.164494  0.164494  False\n",
       "gop                 0.164102  0.164102   True\n",
       "muh                -0.155946  0.155946  False\n",
       "administration      0.153353  0.153353   True\n",
       "hope                0.151132  0.151132   True\n",
       "years              -0.149461  0.149461  False\n",
       "liberal            -0.145608  0.145608  False\n",
       "msm                -0.144774  0.144774  False\n",
       "bernie             -0.144729  0.144729  False\n",
       "podesta            -0.144260  0.144260  False\n",
       "fox                 0.143517  0.143517   True\n",
       "president trump    -0.143340  0.143340  False\n",
       "swamp              -0.141474  0.141474  False\n",
       "pedes              -0.137908  0.137908  False\n",
       "dems               -0.136993  0.136993  False\n",
       "!!                 -0.136977  0.136977  False\n",
       "supporters          0.135833  0.135833   True\n",
       "cohen               0.132501  0.132501   True\n",
       "post               -0.129367  0.129367  False\n",
       "comments           -0.128210  0.128210  False\n",
       "based              -0.125095  0.125095  False\n",
       "white house         0.119213  0.119213   True\n",
       "spez               -0.118551  0.118551  False\n",
       "president          -0.118131  0.118131  False\n",
       "draft               0.116804  0.116804   True\n",
       "spicy              -0.116691  0.116691  False\n",
       "cuck               -0.115854  0.115854  False\n",
       "office              0.114546  0.114546   True\n",
       "putin               0.114323  0.114323   True\n",
       "needs              -0.112284  0.112284  False\n",
       "archive            -0.112027  0.112027  False\n",
       "edit                0.111618  0.111618   True\n",
       "redacted           -0.111399  0.111399  False\n",
       "pede               -0.111394  0.111394  False"
      ]
     },
     "execution_count": 907,
     "metadata": {},
     "output_type": "execute_result"
    }
   ],
   "source": [
    "coefficients.sort_values('abs', ascending=False).head(50)"
   ]
  },
  {
   "cell_type": "code",
   "execution_count": 911,
   "metadata": {
    "scrolled": true
   },
   "outputs": [
    {
     "data": {
      "text/html": [
       "<div>\n",
       "<style scoped>\n",
       "    .dataframe tbody tr th:only-of-type {\n",
       "        vertical-align: middle;\n",
       "    }\n",
       "\n",
       "    .dataframe tbody tr th {\n",
       "        vertical-align: top;\n",
       "    }\n",
       "\n",
       "    .dataframe thead th {\n",
       "        text-align: right;\n",
       "    }\n",
       "</style>\n",
       "<table border=\"1\" class=\"dataframe\">\n",
       "  <thead>\n",
       "    <tr style=\"text-align: right;\">\n",
       "      <th></th>\n",
       "      <th>Coefficient</th>\n",
       "      <th>abs</th>\n",
       "      <th>sign</th>\n",
       "    </tr>\n",
       "  </thead>\n",
       "  <tbody>\n",
       "    <tr>\n",
       "      <th>kek</th>\n",
       "      <td>-0.270937</td>\n",
       "      <td>0.270937</td>\n",
       "      <td>False</td>\n",
       "    </tr>\n",
       "    <tr>\n",
       "      <th>media</th>\n",
       "      <td>-0.268474</td>\n",
       "      <td>0.268474</td>\n",
       "      <td>False</td>\n",
       "    </tr>\n",
       "    <tr>\n",
       "      <th>liberals</th>\n",
       "      <td>-0.260590</td>\n",
       "      <td>0.260590</td>\n",
       "      <td>False</td>\n",
       "    </tr>\n",
       "    <tr>\n",
       "      <th>left</th>\n",
       "      <td>-0.250680</td>\n",
       "      <td>0.250680</td>\n",
       "      <td>False</td>\n",
       "    </tr>\n",
       "    <tr>\n",
       "      <th>hillary</th>\n",
       "      <td>-0.239570</td>\n",
       "      <td>0.239570</td>\n",
       "      <td>False</td>\n",
       "    </tr>\n",
       "    <tr>\n",
       "      <th>cnn</th>\n",
       "      <td>-0.234417</td>\n",
       "      <td>0.234417</td>\n",
       "      <td>False</td>\n",
       "    </tr>\n",
       "    <tr>\n",
       "      <th>love</th>\n",
       "      <td>-0.198342</td>\n",
       "      <td>0.198342</td>\n",
       "      <td>False</td>\n",
       "    </tr>\n",
       "    <tr>\n",
       "      <th>geotus</th>\n",
       "      <td>-0.173902</td>\n",
       "      <td>0.173902</td>\n",
       "      <td>False</td>\n",
       "    </tr>\n",
       "    <tr>\n",
       "      <th>maga</th>\n",
       "      <td>-0.164972</td>\n",
       "      <td>0.164972</td>\n",
       "      <td>False</td>\n",
       "    </tr>\n",
       "    <tr>\n",
       "      <th>removed</th>\n",
       "      <td>-0.164494</td>\n",
       "      <td>0.164494</td>\n",
       "      <td>False</td>\n",
       "    </tr>\n",
       "    <tr>\n",
       "      <th>muh</th>\n",
       "      <td>-0.155946</td>\n",
       "      <td>0.155946</td>\n",
       "      <td>False</td>\n",
       "    </tr>\n",
       "    <tr>\n",
       "      <th>years</th>\n",
       "      <td>-0.149461</td>\n",
       "      <td>0.149461</td>\n",
       "      <td>False</td>\n",
       "    </tr>\n",
       "    <tr>\n",
       "      <th>liberal</th>\n",
       "      <td>-0.145608</td>\n",
       "      <td>0.145608</td>\n",
       "      <td>False</td>\n",
       "    </tr>\n",
       "    <tr>\n",
       "      <th>msm</th>\n",
       "      <td>-0.144774</td>\n",
       "      <td>0.144774</td>\n",
       "      <td>False</td>\n",
       "    </tr>\n",
       "    <tr>\n",
       "      <th>bernie</th>\n",
       "      <td>-0.144729</td>\n",
       "      <td>0.144729</td>\n",
       "      <td>False</td>\n",
       "    </tr>\n",
       "    <tr>\n",
       "      <th>podesta</th>\n",
       "      <td>-0.144260</td>\n",
       "      <td>0.144260</td>\n",
       "      <td>False</td>\n",
       "    </tr>\n",
       "    <tr>\n",
       "      <th>president trump</th>\n",
       "      <td>-0.143340</td>\n",
       "      <td>0.143340</td>\n",
       "      <td>False</td>\n",
       "    </tr>\n",
       "    <tr>\n",
       "      <th>swamp</th>\n",
       "      <td>-0.141474</td>\n",
       "      <td>0.141474</td>\n",
       "      <td>False</td>\n",
       "    </tr>\n",
       "    <tr>\n",
       "      <th>pedes</th>\n",
       "      <td>-0.137908</td>\n",
       "      <td>0.137908</td>\n",
       "      <td>False</td>\n",
       "    </tr>\n",
       "    <tr>\n",
       "      <th>dems</th>\n",
       "      <td>-0.136993</td>\n",
       "      <td>0.136993</td>\n",
       "      <td>False</td>\n",
       "    </tr>\n",
       "    <tr>\n",
       "      <th>!!</th>\n",
       "      <td>-0.136977</td>\n",
       "      <td>0.136977</td>\n",
       "      <td>False</td>\n",
       "    </tr>\n",
       "    <tr>\n",
       "      <th>post</th>\n",
       "      <td>-0.129367</td>\n",
       "      <td>0.129367</td>\n",
       "      <td>False</td>\n",
       "    </tr>\n",
       "    <tr>\n",
       "      <th>comments</th>\n",
       "      <td>-0.128210</td>\n",
       "      <td>0.128210</td>\n",
       "      <td>False</td>\n",
       "    </tr>\n",
       "    <tr>\n",
       "      <th>based</th>\n",
       "      <td>-0.125095</td>\n",
       "      <td>0.125095</td>\n",
       "      <td>False</td>\n",
       "    </tr>\n",
       "    <tr>\n",
       "      <th>spez</th>\n",
       "      <td>-0.118551</td>\n",
       "      <td>0.118551</td>\n",
       "      <td>False</td>\n",
       "    </tr>\n",
       "  </tbody>\n",
       "</table>\n",
       "</div>"
      ],
      "text/plain": [
       "                 Coefficient       abs   sign\n",
       "kek                -0.270937  0.270937  False\n",
       "media              -0.268474  0.268474  False\n",
       "liberals           -0.260590  0.260590  False\n",
       "left               -0.250680  0.250680  False\n",
       "hillary            -0.239570  0.239570  False\n",
       "cnn                -0.234417  0.234417  False\n",
       "love               -0.198342  0.198342  False\n",
       "geotus             -0.173902  0.173902  False\n",
       "maga               -0.164972  0.164972  False\n",
       "removed            -0.164494  0.164494  False\n",
       "muh                -0.155946  0.155946  False\n",
       "years              -0.149461  0.149461  False\n",
       "liberal            -0.145608  0.145608  False\n",
       "msm                -0.144774  0.144774  False\n",
       "bernie             -0.144729  0.144729  False\n",
       "podesta            -0.144260  0.144260  False\n",
       "president trump    -0.143340  0.143340  False\n",
       "swamp              -0.141474  0.141474  False\n",
       "pedes              -0.137908  0.137908  False\n",
       "dems               -0.136993  0.136993  False\n",
       "!!                 -0.136977  0.136977  False\n",
       "post               -0.129367  0.129367  False\n",
       "comments           -0.128210  0.128210  False\n",
       "based              -0.125095  0.125095  False\n",
       "spez               -0.118551  0.118551  False"
      ]
     },
     "execution_count": 911,
     "metadata": {},
     "output_type": "execute_result"
    }
   ],
   "source": [
    "coefficients[coefficients['sign']==False].sort_values('abs', ascending=False).head(25)"
   ]
  },
  {
   "cell_type": "code",
   "execution_count": 928,
   "metadata": {},
   "outputs": [
    {
     "data": {
      "text/html": [
       "<div>\n",
       "<style scoped>\n",
       "    .dataframe tbody tr th:only-of-type {\n",
       "        vertical-align: middle;\n",
       "    }\n",
       "\n",
       "    .dataframe tbody tr th {\n",
       "        vertical-align: top;\n",
       "    }\n",
       "\n",
       "    .dataframe thead th {\n",
       "        text-align: right;\n",
       "    }\n",
       "</style>\n",
       "<table border=\"1\" class=\"dataframe\">\n",
       "  <thead>\n",
       "    <tr style=\"text-align: right;\">\n",
       "      <th></th>\n",
       "      <th>Coefficient</th>\n",
       "      <th>abs</th>\n",
       "      <th>sign</th>\n",
       "    </tr>\n",
       "  </thead>\n",
       "  <tbody>\n",
       "    <tr>\n",
       "      <th>mueller</th>\n",
       "      <td>0.255132</td>\n",
       "      <td>0.255132</td>\n",
       "      <td>True</td>\n",
       "    </tr>\n",
       "    <tr>\n",
       "      <th>trump</th>\n",
       "      <td>0.222023</td>\n",
       "      <td>0.222023</td>\n",
       "      <td>True</td>\n",
       "    </tr>\n",
       "    <tr>\n",
       "      <th>republicans</th>\n",
       "      <td>0.219221</td>\n",
       "      <td>0.219221</td>\n",
       "      <td>True</td>\n",
       "    </tr>\n",
       "    <tr>\n",
       "      <th>https</th>\n",
       "      <td>0.196423</td>\n",
       "      <td>0.196423</td>\n",
       "      <td>True</td>\n",
       "    </tr>\n",
       "    <tr>\n",
       "      <th>republican</th>\n",
       "      <td>0.191249</td>\n",
       "      <td>0.191249</td>\n",
       "      <td>True</td>\n",
       "    </tr>\n",
       "    <tr>\n",
       "      <th>sub</th>\n",
       "      <td>0.178761</td>\n",
       "      <td>0.178761</td>\n",
       "      <td>True</td>\n",
       "    </tr>\n",
       "    <tr>\n",
       "      <th>guilty</th>\n",
       "      <td>0.167608</td>\n",
       "      <td>0.167608</td>\n",
       "      <td>True</td>\n",
       "    </tr>\n",
       "    <tr>\n",
       "      <th>gop</th>\n",
       "      <td>0.164102</td>\n",
       "      <td>0.164102</td>\n",
       "      <td>True</td>\n",
       "    </tr>\n",
       "    <tr>\n",
       "      <th>administration</th>\n",
       "      <td>0.153353</td>\n",
       "      <td>0.153353</td>\n",
       "      <td>True</td>\n",
       "    </tr>\n",
       "    <tr>\n",
       "      <th>hope</th>\n",
       "      <td>0.151132</td>\n",
       "      <td>0.151132</td>\n",
       "      <td>True</td>\n",
       "    </tr>\n",
       "    <tr>\n",
       "      <th>fox</th>\n",
       "      <td>0.143517</td>\n",
       "      <td>0.143517</td>\n",
       "      <td>True</td>\n",
       "    </tr>\n",
       "    <tr>\n",
       "      <th>supporters</th>\n",
       "      <td>0.135833</td>\n",
       "      <td>0.135833</td>\n",
       "      <td>True</td>\n",
       "    </tr>\n",
       "    <tr>\n",
       "      <th>cohen</th>\n",
       "      <td>0.132501</td>\n",
       "      <td>0.132501</td>\n",
       "      <td>True</td>\n",
       "    </tr>\n",
       "    <tr>\n",
       "      <th>white house</th>\n",
       "      <td>0.119213</td>\n",
       "      <td>0.119213</td>\n",
       "      <td>True</td>\n",
       "    </tr>\n",
       "    <tr>\n",
       "      <th>draft</th>\n",
       "      <td>0.116804</td>\n",
       "      <td>0.116804</td>\n",
       "      <td>True</td>\n",
       "    </tr>\n",
       "    <tr>\n",
       "      <th>office</th>\n",
       "      <td>0.114546</td>\n",
       "      <td>0.114546</td>\n",
       "      <td>True</td>\n",
       "    </tr>\n",
       "    <tr>\n",
       "      <th>putin</th>\n",
       "      <td>0.114323</td>\n",
       "      <td>0.114323</td>\n",
       "      <td>True</td>\n",
       "    </tr>\n",
       "    <tr>\n",
       "      <th>edit</th>\n",
       "      <td>0.111618</td>\n",
       "      <td>0.111618</td>\n",
       "      <td>True</td>\n",
       "    </tr>\n",
       "    <tr>\n",
       "      <th>robert</th>\n",
       "      <td>0.109766</td>\n",
       "      <td>0.109766</td>\n",
       "      <td>True</td>\n",
       "    </tr>\n",
       "    <tr>\n",
       "      <th>justice</th>\n",
       "      <td>0.108287</td>\n",
       "      <td>0.108287</td>\n",
       "      <td>True</td>\n",
       "    </tr>\n",
       "    <tr>\n",
       "      <th>donnie</th>\n",
       "      <td>0.103060</td>\n",
       "      <td>0.103060</td>\n",
       "      <td>True</td>\n",
       "    </tr>\n",
       "    <tr>\n",
       "      <th>american</th>\n",
       "      <td>0.103038</td>\n",
       "      <td>0.103038</td>\n",
       "      <td>True</td>\n",
       "    </tr>\n",
       "    <tr>\n",
       "      <th>emails</th>\n",
       "      <td>0.102886</td>\n",
       "      <td>0.102886</td>\n",
       "      <td>True</td>\n",
       "    </tr>\n",
       "    <tr>\n",
       "      <th>national</th>\n",
       "      <td>0.101725</td>\n",
       "      <td>0.101725</td>\n",
       "      <td>True</td>\n",
       "    </tr>\n",
       "    <tr>\n",
       "      <th>war</th>\n",
       "      <td>0.097178</td>\n",
       "      <td>0.097178</td>\n",
       "      <td>True</td>\n",
       "    </tr>\n",
       "  </tbody>\n",
       "</table>\n",
       "</div>"
      ],
      "text/plain": [
       "                Coefficient       abs  sign\n",
       "mueller            0.255132  0.255132  True\n",
       "trump              0.222023  0.222023  True\n",
       "republicans        0.219221  0.219221  True\n",
       "https              0.196423  0.196423  True\n",
       "republican         0.191249  0.191249  True\n",
       "sub                0.178761  0.178761  True\n",
       "guilty             0.167608  0.167608  True\n",
       "gop                0.164102  0.164102  True\n",
       "administration     0.153353  0.153353  True\n",
       "hope               0.151132  0.151132  True\n",
       "fox                0.143517  0.143517  True\n",
       "supporters         0.135833  0.135833  True\n",
       "cohen              0.132501  0.132501  True\n",
       "white house        0.119213  0.119213  True\n",
       "draft              0.116804  0.116804  True\n",
       "office             0.114546  0.114546  True\n",
       "putin              0.114323  0.114323  True\n",
       "edit               0.111618  0.111618  True\n",
       "robert             0.109766  0.109766  True\n",
       "justice            0.108287  0.108287  True\n",
       "donnie             0.103060  0.103060  True\n",
       "american           0.103038  0.103038  True\n",
       "emails             0.102886  0.102886  True\n",
       "national           0.101725  0.101725  True\n",
       "war                0.097178  0.097178  True"
      ]
     },
     "execution_count": 928,
     "metadata": {},
     "output_type": "execute_result"
    }
   ],
   "source": [
    "coefficients[coefficients['sign']==True].sort_values('abs', ascending=False).head(25)"
   ]
  },
  {
   "cell_type": "code",
   "execution_count": 938,
   "metadata": {},
   "outputs": [
    {
     "data": {
      "text/html": [
       "<div>\n",
       "<style scoped>\n",
       "    .dataframe tbody tr th:only-of-type {\n",
       "        vertical-align: middle;\n",
       "    }\n",
       "\n",
       "    .dataframe tbody tr th {\n",
       "        vertical-align: top;\n",
       "    }\n",
       "\n",
       "    .dataframe thead th {\n",
       "        text-align: right;\n",
       "    }\n",
       "</style>\n",
       "<table border=\"1\" class=\"dataframe\">\n",
       "  <thead>\n",
       "    <tr style=\"text-align: right;\">\n",
       "      <th></th>\n",
       "      <th>Coefficient</th>\n",
       "      <th>abs</th>\n",
       "      <th>sign</th>\n",
       "    </tr>\n",
       "  </thead>\n",
       "  <tbody>\n",
       "    <tr>\n",
       "      <th>!!</th>\n",
       "      <td>-0.136977</td>\n",
       "      <td>0.136977</td>\n",
       "      <td>False</td>\n",
       "    </tr>\n",
       "    <tr>\n",
       "      <th>!! love</th>\n",
       "      <td>-0.000766</td>\n",
       "      <td>0.000766</td>\n",
       "      <td>False</td>\n",
       "    </tr>\n",
       "    <tr>\n",
       "      <th>!! trump</th>\n",
       "      <td>-0.004454</td>\n",
       "      <td>0.004454</td>\n",
       "      <td>False</td>\n",
       "    </tr>\n",
       "    <tr>\n",
       "      <th>!!!</th>\n",
       "      <td>-0.085022</td>\n",
       "      <td>0.085022</td>\n",
       "      <td>False</td>\n",
       "    </tr>\n",
       "    <tr>\n",
       "      <th>!!!!</th>\n",
       "      <td>-0.109888</td>\n",
       "      <td>0.109888</td>\n",
       "      <td>False</td>\n",
       "    </tr>\n",
       "    <tr>\n",
       "      <th>!!!!!</th>\n",
       "      <td>-0.036153</td>\n",
       "      <td>0.036153</td>\n",
       "      <td>False</td>\n",
       "    </tr>\n",
       "    <tr>\n",
       "      <th>!!!!!!</th>\n",
       "      <td>-0.008279</td>\n",
       "      <td>0.008279</td>\n",
       "      <td>False</td>\n",
       "    </tr>\n",
       "    <tr>\n",
       "      <th>!!!!!!!</th>\n",
       "      <td>-0.015263</td>\n",
       "      <td>0.015263</td>\n",
       "      <td>False</td>\n",
       "    </tr>\n",
       "    <tr>\n",
       "      <th>!!!!!!!!</th>\n",
       "      <td>-0.000702</td>\n",
       "      <td>0.000702</td>\n",
       "      <td>False</td>\n",
       "    </tr>\n",
       "    <tr>\n",
       "      <th>!!!\"</th>\n",
       "      <td>-0.005621</td>\n",
       "      <td>0.005621</td>\n",
       "      <td>False</td>\n",
       "    </tr>\n",
       "    <tr>\n",
       "      <th>!!\"</th>\n",
       "      <td>-0.005057</td>\n",
       "      <td>0.005057</td>\n",
       "      <td>False</td>\n",
       "    </tr>\n",
       "    <tr>\n",
       "      <th>!!*</th>\n",
       "      <td>-0.007349</td>\n",
       "      <td>0.007349</td>\n",
       "      <td>False</td>\n",
       "    </tr>\n",
       "    <tr>\n",
       "      <th>!*</th>\n",
       "      <td>-0.054517</td>\n",
       "      <td>0.054517</td>\n",
       "      <td>False</td>\n",
       "    </tr>\n",
       "    <tr>\n",
       "      <th>!1</th>\n",
       "      <td>-0.005408</td>\n",
       "      <td>0.005408</td>\n",
       "      <td>False</td>\n",
       "    </tr>\n",
       "    <tr>\n",
       "      <th>!?</th>\n",
       "      <td>-0.022744</td>\n",
       "      <td>0.022744</td>\n",
       "      <td>False</td>\n",
       "    </tr>\n",
       "    <tr>\n",
       "      <th>!]</th>\n",
       "      <td>-0.007444</td>\n",
       "      <td>0.007444</td>\n",
       "      <td>False</td>\n",
       "    </tr>\n",
       "    <tr>\n",
       "      <th>!] https</th>\n",
       "      <td>-0.003943</td>\n",
       "      <td>0.003943</td>\n",
       "      <td>False</td>\n",
       "    </tr>\n",
       "    <tr>\n",
       "      <th>, .</th>\n",
       "      <td>-0.028012</td>\n",
       "      <td>0.028012</td>\n",
       "      <td>False</td>\n",
       "    </tr>\n",
       "    <tr>\n",
       "      <th>, ...</th>\n",
       "      <td>-0.007545</td>\n",
       "      <td>0.007545</td>\n",
       "      <td>False</td>\n",
       "    </tr>\n",
       "    <tr>\n",
       "      <th>, 1</th>\n",
       "      <td>-0.008731</td>\n",
       "      <td>0.008731</td>\n",
       "      <td>False</td>\n",
       "    </tr>\n",
       "    <tr>\n",
       "      <th>, 3</th>\n",
       "      <td>-0.005730</td>\n",
       "      <td>0.005730</td>\n",
       "      <td>False</td>\n",
       "    </tr>\n",
       "    <tr>\n",
       "      <th>, 4</th>\n",
       "      <td>-0.000323</td>\n",
       "      <td>0.000323</td>\n",
       "      <td>False</td>\n",
       "    </tr>\n",
       "    <tr>\n",
       "      <th>, 5</th>\n",
       "      <td>-0.003774</td>\n",
       "      <td>0.003774</td>\n",
       "      <td>False</td>\n",
       "    </tr>\n",
       "    <tr>\n",
       "      <th>, according</th>\n",
       "      <td>-0.005970</td>\n",
       "      <td>0.005970</td>\n",
       "      <td>False</td>\n",
       "    </tr>\n",
       "    <tr>\n",
       "      <th>, amazing</th>\n",
       "      <td>-0.001247</td>\n",
       "      <td>0.001247</td>\n",
       "      <td>False</td>\n",
       "    </tr>\n",
       "  </tbody>\n",
       "</table>\n",
       "</div>"
      ],
      "text/plain": [
       "             Coefficient       abs   sign\n",
       "!!             -0.136977  0.136977  False\n",
       "!! love        -0.000766  0.000766  False\n",
       "!! trump       -0.004454  0.004454  False\n",
       "!!!            -0.085022  0.085022  False\n",
       "!!!!           -0.109888  0.109888  False\n",
       "!!!!!          -0.036153  0.036153  False\n",
       "!!!!!!         -0.008279  0.008279  False\n",
       "!!!!!!!        -0.015263  0.015263  False\n",
       "!!!!!!!!       -0.000702  0.000702  False\n",
       "!!!\"           -0.005621  0.005621  False\n",
       "!!\"            -0.005057  0.005057  False\n",
       "!!*            -0.007349  0.007349  False\n",
       "!*             -0.054517  0.054517  False\n",
       "!1             -0.005408  0.005408  False\n",
       "!?             -0.022744  0.022744  False\n",
       "!]             -0.007444  0.007444  False\n",
       "!] https       -0.003943  0.003943  False\n",
       ", .            -0.028012  0.028012  False\n",
       ", ...          -0.007545  0.007545  False\n",
       ", 1            -0.008731  0.008731  False\n",
       ", 3            -0.005730  0.005730  False\n",
       ", 4            -0.000323  0.000323  False\n",
       ", 5            -0.003774  0.003774  False\n",
       ", according    -0.005970  0.005970  False\n",
       ", amazing      -0.001247  0.001247  False"
      ]
     },
     "execution_count": 938,
     "metadata": {},
     "output_type": "execute_result"
    }
   ],
   "source": [
    "coefficients[coefficients['sign']==False].head(25)"
   ]
  },
  {
   "cell_type": "markdown",
   "metadata": {
    "focus": false,
    "id": "04563b69-f7b6-466f-9d65-fc62c9ddee6a"
   },
   "source": [
    "## Predicting subreddit using Random Forests + Another Classifier"
   ]
  },
  {
   "cell_type": "code",
   "execution_count": 381,
   "metadata": {},
   "outputs": [],
   "source": [
    "# Import Random Forest Classifier\n",
    "from sklearn.ensemble import RandomForestClassifier"
   ]
  },
  {
   "cell_type": "code",
   "execution_count": 416,
   "metadata": {
    "focus": false,
    "id": "588f9845-6143-4bcc-bfd1-85d45b79303d"
   },
   "outputs": [],
   "source": [
    "# Instantiate random forest model\n",
    "rf = RandomForestClassifier(n_estimators=100, max_features=100)"
   ]
  },
  {
   "cell_type": "code",
   "execution_count": 417,
   "metadata": {
    "focus": false,
    "id": "588f9845-6143-4bcc-bfd1-85d45b79303d"
   },
   "outputs": [],
   "source": [
    "# Instantiate second random forest model\n",
    "rf_t = RandomForestClassifier()"
   ]
  },
  {
   "cell_type": "code",
   "execution_count": 418,
   "metadata": {},
   "outputs": [
    {
     "name": "stdout",
     "output_type": "stream",
     "text": [
      "[0.69877049 0.6550308  0.72895277]\n",
      "0.6942513548995186\n"
     ]
    }
   ],
   "source": [
    "# find cross-val scores for rf model based on titles\n",
    "rf_score = cross_val_score(rf, X_train_cvect, y_train)\n",
    "print(rf_score)\n",
    "print(rf_score.mean())"
   ]
  },
  {
   "cell_type": "code",
   "execution_count": 419,
   "metadata": {},
   "outputs": [
    {
     "data": {
      "text/plain": [
       "0.7336065573770492"
      ]
     },
     "execution_count": 419,
     "metadata": {},
     "output_type": "execute_result"
    }
   ],
   "source": [
    "rf.fit(X_train_cvect, y_train)\n",
    "rf.score(X_test_cvect, y_test)"
   ]
  },
  {
   "cell_type": "code",
   "execution_count": 420,
   "metadata": {},
   "outputs": [
    {
     "data": {
      "text/plain": [
       "0.9993160054719562"
      ]
     },
     "execution_count": 420,
     "metadata": {},
     "output_type": "execute_result"
    }
   ],
   "source": [
    "rf.score(X_train_cvect, y_train)"
   ]
  },
  {
   "cell_type": "code",
   "execution_count": 392,
   "metadata": {},
   "outputs": [
    {
     "name": "stdout",
     "output_type": "stream",
     "text": [
      "[0.6557377  0.61601643 0.69199179]\n",
      "0.6545819728234646\n"
     ]
    }
   ],
   "source": [
    "# find cross-val scores for rf model based on titles\n",
    "rf_t_score = cross_val_score(rf, X_train_tvect, y_train)\n",
    "print(rf_t_score)\n",
    "print(rf_t_score.mean())"
   ]
  },
  {
   "cell_type": "code",
   "execution_count": 388,
   "metadata": {
    "scrolled": true
   },
   "outputs": [
    {
     "data": {
      "text/plain": [
       "0.680327868852459"
      ]
     },
     "execution_count": 388,
     "metadata": {},
     "output_type": "execute_result"
    }
   ],
   "source": [
    "rf_t.fit(X_train_tvect, y_train)\n",
    "rf_t.score(X_test_tvect, y_test)"
   ]
  },
  {
   "cell_type": "code",
   "execution_count": 504,
   "metadata": {},
   "outputs": [
    {
     "data": {
      "text/plain": [
       "5753"
      ]
     },
     "execution_count": 504,
     "metadata": {},
     "output_type": "execute_result"
    }
   ],
   "source": [
    "cv = CountVectorizer()\n",
    "cv.fit(X_train)\n",
    "numeric_cols = [col for col in cv.get_feature_names() if col.isnumeric()]\n",
    "len(cv.get_feature_names())"
   ]
  },
  {
   "cell_type": "code",
   "execution_count": 502,
   "metadata": {},
   "outputs": [],
   "source": [
    "from nltk.corpus import stopwords"
   ]
  },
  {
   "cell_type": "code",
   "execution_count": 513,
   "metadata": {},
   "outputs": [],
   "source": [
    "stops = list(stopwords.words('english'))\n",
    "stops.extend(numeric_cols)"
   ]
  },
  {
   "cell_type": "code",
   "execution_count": 514,
   "metadata": {},
   "outputs": [],
   "source": [
    "rf_steps = [('vect', CountVectorizer()),\n",
    "            ('rf', RandomForestClassifier())]\n",
    "\n",
    "rf_pipe = Pipeline(rf_steps)\n",
    "\n",
    "rf_params = {\n",
    "    'vect__stop_words': ('english', stops, None),\n",
    "    'vect__ngram_range': ((1, 1), (1, 2), (1, 3), (1, 4)),\n",
    "    'vect__max_features': (1000, 2500, None),\n",
    "    'rf__n_estimators': (5, 10, 15)\n",
    "}\n",
    "\n",
    "rfgs = GridSearchCV(rf_pipe, rf_params, verbose=1)"
   ]
  },
  {
   "cell_type": "code",
   "execution_count": 517,
   "metadata": {},
   "outputs": [
    {
     "data": {
      "text/plain": [
       "Index(['archived', 'author', 'author_flair_text', 'comments', 'domain',\n",
       "       'downs', 'gilded', 'id', 'is_reddit_media_domain', 'is_self',\n",
       "       'is_video', 'link_flair_text', 'name', 'num_comments', 'num_crossposts',\n",
       "       'post_hint', 'score', 'selftext', 'send_replies', 'subreddit', 'title',\n",
       "       'ups', 'url'],\n",
       "      dtype='object')"
      ]
     },
     "execution_count": 517,
     "metadata": {},
     "output_type": "execute_result"
    }
   ],
   "source": [
    "red_df.columns"
   ]
  },
  {
   "cell_type": "code",
   "execution_count": 515,
   "metadata": {},
   "outputs": [
    {
     "name": "stdout",
     "output_type": "stream",
     "text": [
      "Fitting 3 folds for each of 108 candidates, totalling 324 fits\n"
     ]
    },
    {
     "name": "stderr",
     "output_type": "stream",
     "text": [
      "[Parallel(n_jobs=1)]: Done 324 out of 324 | elapsed:   54.5s finished\n"
     ]
    },
    {
     "data": {
      "text/plain": [
       "GridSearchCV(cv=None, error_score='raise',\n",
       "       estimator=Pipeline(memory=None,\n",
       "     steps=[('vect', CountVectorizer(analyzer='word', binary=False, decode_error='strict',\n",
       "        dtype=<class 'numpy.int64'>, encoding='utf-8', input='content',\n",
       "        lowercase=True, max_df=1.0, max_features=None, min_df=1,\n",
       "        ngram_range=(1, 1), preprocessor=None, stop_words=None,\n",
       "        strip...n_jobs=1,\n",
       "            oob_score=False, random_state=None, verbose=0,\n",
       "            warm_start=False))]),\n",
       "       fit_params=None, iid=True, n_jobs=1,\n",
       "       param_grid={'vect__stop_words': ('english', ['i', 'me', 'my', 'myself', 'we', 'our', 'ours', 'ourselves', 'you', \"you're\", \"you've\", \"you'll\", \"you'd\", 'your', 'yours', 'yourself', 'yourselves', 'he', 'him', 'his', 'himself', 'she', \"she's\", 'her', 'hers', 'herself', 'it', \"it's\", 'its', 'itself', '... (1, 2), (1, 3), (1, 4)), 'vect__max_features': (1000, 2500, None), 'rf__n_estimators': (5, 10, 15)},\n",
       "       pre_dispatch='2*n_jobs', refit=True, return_train_score='warn',\n",
       "       scoring=None, verbose=1)"
      ]
     },
     "execution_count": 515,
     "metadata": {},
     "output_type": "execute_result"
    }
   ],
   "source": [
    "rfgs.fit(X_train, y_train)"
   ]
  },
  {
   "cell_type": "code",
   "execution_count": 507,
   "metadata": {},
   "outputs": [
    {
     "data": {
      "text/plain": [
       "0.7004103967168263"
      ]
     },
     "execution_count": 507,
     "metadata": {},
     "output_type": "execute_result"
    }
   ],
   "source": [
    "rfgs.best_score_"
   ]
  },
  {
   "cell_type": "code",
   "execution_count": 509,
   "metadata": {},
   "outputs": [
    {
     "data": {
      "text/plain": [
       "0.6823770491803278"
      ]
     },
     "execution_count": 509,
     "metadata": {},
     "output_type": "execute_result"
    }
   ],
   "source": [
    "rfgs.score(X_test, y_test)"
   ]
  },
  {
   "cell_type": "code",
   "execution_count": 484,
   "metadata": {},
   "outputs": [],
   "source": [
    "rf_comments = RandomForestClassifier()"
   ]
  },
  {
   "cell_type": "code",
   "execution_count": 495,
   "metadata": {},
   "outputs": [],
   "source": [
    "steps = [('vect', CountVectorizer()),\n",
    "         ('rf', RandomForestClassifier())]\n",
    "\n",
    "pipe = Pipeline(steps)\n",
    "\n",
    "grid_params = {\n",
    "    'vect__max_features': (17500, 22500),\n",
    "    'vect__ngram_range': ((1, 1), (1, 2)),\n",
    "    'rf__n_estimators': [50, 60, 70],\n",
    "    'vect__stop_words': ('english', None)\n",
    "}\n",
    "\n",
    "grid_6 = GridSearchCV(pipe, grid_params, verbose=1)"
   ]
  },
  {
   "cell_type": "code",
   "execution_count": 496,
   "metadata": {},
   "outputs": [
    {
     "name": "stdout",
     "output_type": "stream",
     "text": [
      "Fitting 3 folds for each of 24 candidates, totalling 72 fits\n"
     ]
    },
    {
     "name": "stderr",
     "output_type": "stream",
     "text": [
      "[Parallel(n_jobs=1)]: Done  72 out of  72 | elapsed:  6.6min finished\n"
     ]
    },
    {
     "data": {
      "text/plain": [
       "GridSearchCV(cv=None, error_score='raise',\n",
       "       estimator=Pipeline(memory=None,\n",
       "     steps=[('vect', CountVectorizer(analyzer='word', binary=False, decode_error='strict',\n",
       "        dtype=<class 'numpy.int64'>, encoding='utf-8', input='content',\n",
       "        lowercase=True, max_df=1.0, max_features=None, min_df=1,\n",
       "        ngram_range=(1, 1), preprocessor=None, stop_words=None,\n",
       "        strip...n_jobs=1,\n",
       "            oob_score=False, random_state=None, verbose=0,\n",
       "            warm_start=False))]),\n",
       "       fit_params=None, iid=True, n_jobs=1,\n",
       "       param_grid={'vect__max_features': (17500, 22500), 'vect__ngram_range': ((1, 1), (1, 2)), 'rf__n_estimators': [50, 60, 70], 'vect__stop_words': ('english', None)},\n",
       "       pre_dispatch='2*n_jobs', refit=True, return_train_score='warn',\n",
       "       scoring=None, verbose=1)"
      ]
     },
     "execution_count": 496,
     "metadata": {},
     "output_type": "execute_result"
    }
   ],
   "source": [
    "grid_6.fit(X_com_train, y_com_train)"
   ]
  },
  {
   "cell_type": "code",
   "execution_count": 497,
   "metadata": {},
   "outputs": [
    {
     "data": {
      "text/plain": [
       "0.9110807113543091"
      ]
     },
     "execution_count": 497,
     "metadata": {},
     "output_type": "execute_result"
    }
   ],
   "source": [
    "grid_6.best_score_"
   ]
  },
  {
   "cell_type": "code",
   "execution_count": 499,
   "metadata": {},
   "outputs": [
    {
     "data": {
      "text/plain": [
       "{'rf__n_estimators': 50,\n",
       " 'vect__max_features': 17500,\n",
       " 'vect__ngram_range': (1, 2),\n",
       " 'vect__stop_words': 'english'}"
      ]
     },
     "execution_count": 499,
     "metadata": {},
     "output_type": "execute_result"
    }
   ],
   "source": [
    "grid_6.best_params_"
   ]
  },
  {
   "cell_type": "code",
   "execution_count": 489,
   "metadata": {},
   "outputs": [
    {
     "data": {
      "text/plain": [
       "0.8954918032786885"
      ]
     },
     "execution_count": 489,
     "metadata": {},
     "output_type": "execute_result"
    }
   ],
   "source": [
    "grid_6.score(X_com_test, y_com_test)"
   ]
  },
  {
   "cell_type": "markdown",
   "metadata": {},
   "source": [
    "#### Repeat the model-building process using a different classifier (e.g. `MultinomialNB`, `LogisticRegression`, etc)"
   ]
  },
  {
   "cell_type": "code",
   "execution_count": 913,
   "metadata": {},
   "outputs": [],
   "source": [
    "from sklearn.ensemble import AdaBoostClassifier"
   ]
  },
  {
   "cell_type": "code",
   "execution_count": 914,
   "metadata": {},
   "outputs": [],
   "source": [
    "ada = AdaBoostClassifier()"
   ]
  },
  {
   "cell_type": "code",
   "execution_count": 915,
   "metadata": {},
   "outputs": [],
   "source": [
    "ada_params = {\n",
    "    'n_estimators': [95, 100, 105, 110],\n",
    "    'learning_rate': [0.65, 0.7, 0.75]\n",
    "}\n",
    "ada_grid = GridSearchCV(ada, param_grid = ada_params)"
   ]
  },
  {
   "cell_type": "code",
   "execution_count": 917,
   "metadata": {},
   "outputs": [],
   "source": [
    "X7 = red_df['title'] + ' ' + red_df['selftext']\n",
    "y7 = red_df['subreddit']\n",
    "\n",
    "X7_train, X7_test, y7_train, y7_test = train_test_split(X7, y7, random_state=42)"
   ]
  },
  {
   "cell_type": "code",
   "execution_count": 918,
   "metadata": {},
   "outputs": [],
   "source": [
    "cvect7 = CountVectorizer(stop_words='english')\n",
    "X7_train_cvect = cvect7.fit_transform(X7_train)\n",
    "X7_test_cvect = cvect7.transform(X7_test)"
   ]
  },
  {
   "cell_type": "code",
   "execution_count": 919,
   "metadata": {},
   "outputs": [
    {
     "data": {
      "text/plain": [
       "GridSearchCV(cv=None, error_score='raise',\n",
       "       estimator=AdaBoostClassifier(algorithm='SAMME.R', base_estimator=None,\n",
       "          learning_rate=1.0, n_estimators=50, random_state=None),\n",
       "       fit_params=None, iid=True, n_jobs=1,\n",
       "       param_grid={'n_estimators': [95, 100, 105, 110], 'learning_rate': [0.65, 0.7, 0.75]},\n",
       "       pre_dispatch='2*n_jobs', refit=True, return_train_score='warn',\n",
       "       scoring=None, verbose=0)"
      ]
     },
     "execution_count": 919,
     "metadata": {},
     "output_type": "execute_result"
    }
   ],
   "source": [
    "ada_grid.fit(X7_train_cvect, y7_train)"
   ]
  },
  {
   "cell_type": "code",
   "execution_count": 920,
   "metadata": {},
   "outputs": [
    {
     "data": {
      "text/plain": [
       "0.6764705882352942"
      ]
     },
     "execution_count": 920,
     "metadata": {},
     "output_type": "execute_result"
    }
   ],
   "source": [
    "ada_grid.best_score_"
   ]
  },
  {
   "cell_type": "code",
   "execution_count": 921,
   "metadata": {},
   "outputs": [
    {
     "data": {
      "text/plain": [
       "{'learning_rate': 0.65, 'n_estimators': 95}"
      ]
     },
     "execution_count": 921,
     "metadata": {},
     "output_type": "execute_result"
    }
   ],
   "source": [
    "ada_grid.best_params_"
   ]
  },
  {
   "cell_type": "markdown",
   "metadata": {},
   "source": [
    "The AdaBoost classifier performed poorly on the title and selftext data. It is possible that just this information alone was not robust enough to develop a strong model. Below I will try to use this same classifier with the comments data"
   ]
  },
  {
   "cell_type": "code",
   "execution_count": 922,
   "metadata": {},
   "outputs": [],
   "source": [
    "steps = [('vect', CountVectorizer()),\n",
    "         ('ada', AdaBoostClassifier())]\n",
    "\n",
    "pipe = Pipeline(steps)\n",
    "\n",
    "grid_params = {\n",
    "    'vect__max_features': (17500, 22500),\n",
    "    'vect__ngram_range': ((1, 1), (1, 2)),\n",
    "    'ada__learning_rate': [0.85, 0.95],\n",
    "    'ada__n_estimators': [55, 65],\n",
    "    'vect__stop_words': ('english', None)\n",
    "}\n",
    "\n",
    "grid_6 = GridSearchCV(pipe, grid_params, verbose=1)"
   ]
  },
  {
   "cell_type": "code",
   "execution_count": 923,
   "metadata": {},
   "outputs": [
    {
     "name": "stdout",
     "output_type": "stream",
     "text": [
      "Fitting 3 folds for each of 32 candidates, totalling 96 fits\n"
     ]
    },
    {
     "name": "stderr",
     "output_type": "stream",
     "text": [
      "[Parallel(n_jobs=1)]: Done  96 out of  96 | elapsed: 10.5min finished\n"
     ]
    },
    {
     "data": {
      "text/plain": [
       "GridSearchCV(cv=None, error_score='raise',\n",
       "       estimator=Pipeline(memory=None,\n",
       "     steps=[('vect', CountVectorizer(analyzer='word', binary=False, decode_error='strict',\n",
       "        dtype=<class 'numpy.int64'>, encoding='utf-8', input='content',\n",
       "        lowercase=True, max_df=1.0, max_features=None, min_df=1,\n",
       "        ngram_range=(1, 1), preprocessor=None, stop_words=None,\n",
       "        strip...m='SAMME.R', base_estimator=None,\n",
       "          learning_rate=1.0, n_estimators=50, random_state=None))]),\n",
       "       fit_params=None, iid=True, n_jobs=1,\n",
       "       param_grid={'vect__max_features': (17500, 22500), 'vect__ngram_range': ((1, 1), (1, 2)), 'ada__learning_rate': [0.85, 0.95], 'ada__n_estimators': [55, 65], 'vect__stop_words': ('english', None)},\n",
       "       pre_dispatch='2*n_jobs', refit=True, return_train_score='warn',\n",
       "       scoring=None, verbose=1)"
      ]
     },
     "execution_count": 923,
     "metadata": {},
     "output_type": "execute_result"
    }
   ],
   "source": [
    "grid_6.fit(X_com_train, y_com_train)"
   ]
  },
  {
   "cell_type": "code",
   "execution_count": 479,
   "metadata": {},
   "outputs": [
    {
     "data": {
      "text/plain": [
       "0.9829001367989056"
      ]
     },
     "execution_count": 479,
     "metadata": {},
     "output_type": "execute_result"
    }
   ],
   "source": [
    "grid_6.best_score_"
   ]
  },
  {
   "cell_type": "code",
   "execution_count": 480,
   "metadata": {},
   "outputs": [
    {
     "data": {
      "text/plain": [
       "{'ada__learning_rate': 0.95,\n",
       " 'ada__n_estimators': 65,\n",
       " 'vect__max_features': 17500,\n",
       " 'vect__ngram_range': (1, 2),\n",
       " 'vect__stop_words': None}"
      ]
     },
     "execution_count": 480,
     "metadata": {},
     "output_type": "execute_result"
    }
   ],
   "source": [
    "grid_6.best_params_"
   ]
  },
  {
   "cell_type": "code",
   "execution_count": 475,
   "metadata": {
    "scrolled": true
   },
   "outputs": [
    {
     "data": {
      "text/plain": [
       "0.9808481532147743"
      ]
     },
     "execution_count": 475,
     "metadata": {},
     "output_type": "execute_result"
    }
   ],
   "source": [
    "grid_6.best_score_"
   ]
  },
  {
   "cell_type": "code",
   "execution_count": 476,
   "metadata": {},
   "outputs": [
    {
     "data": {
      "text/plain": [
       "{'ada__learning_rate': 0.9,\n",
       " 'ada__n_estimators': 60,\n",
       " 'vect__max_features': 20000,\n",
       " 'vect__ngram_range': (1, 2),\n",
       " 'vect__stop_words': None,\n",
       " 'vect__tokenizer': None}"
      ]
     },
     "execution_count": 476,
     "metadata": {},
     "output_type": "execute_result"
    }
   ],
   "source": [
    "grid_6.best_params_"
   ]
  },
  {
   "cell_type": "code",
   "execution_count": 482,
   "metadata": {
    "scrolled": false
   },
   "outputs": [
    {
     "data": {
      "text/plain": [
       "0.9938524590163934"
      ]
     },
     "execution_count": 482,
     "metadata": {},
     "output_type": "execute_result"
    }
   ],
   "source": [
    "grid_6.score(X_com_test, y_com_test)"
   ]
  },
  {
   "cell_type": "code",
   "execution_count": 935,
   "metadata": {},
   "outputs": [],
   "source": [
    "feat_importances = pd.DataFrame(grid_6.best_estimator_.steps[1][1].feature_importances_, columns=['importance'],\n",
    "                                index=grid_6.best_estimator_.steps[0][1].get_feature_names())"
   ]
  },
  {
   "cell_type": "code",
   "execution_count": 937,
   "metadata": {},
   "outputs": [
    {
     "data": {
      "text/html": [
       "<div>\n",
       "<style scoped>\n",
       "    .dataframe tbody tr th:only-of-type {\n",
       "        vertical-align: middle;\n",
       "    }\n",
       "\n",
       "    .dataframe tbody tr th {\n",
       "        vertical-align: top;\n",
       "    }\n",
       "\n",
       "    .dataframe thead th {\n",
       "        text-align: right;\n",
       "    }\n",
       "</style>\n",
       "<table border=\"1\" class=\"dataframe\">\n",
       "  <thead>\n",
       "    <tr style=\"text-align: right;\">\n",
       "      <th></th>\n",
       "      <th>importance</th>\n",
       "    </tr>\n",
       "  </thead>\n",
       "  <tbody>\n",
       "    <tr>\n",
       "      <th>mueller</th>\n",
       "      <td>0.090909</td>\n",
       "    </tr>\n",
       "    <tr>\n",
       "      <th>kek</th>\n",
       "      <td>0.036364</td>\n",
       "    </tr>\n",
       "    <tr>\n",
       "      <th>trump</th>\n",
       "      <td>0.036364</td>\n",
       "    </tr>\n",
       "    <tr>\n",
       "      <th>republican</th>\n",
       "      <td>0.036364</td>\n",
       "    </tr>\n",
       "    <tr>\n",
       "      <th>left</th>\n",
       "      <td>0.036364</td>\n",
       "    </tr>\n",
       "    <tr>\n",
       "      <th>god</th>\n",
       "      <td>0.018182</td>\n",
       "    </tr>\n",
       "    <tr>\n",
       "      <th>fox</th>\n",
       "      <td>0.018182</td>\n",
       "    </tr>\n",
       "    <tr>\n",
       "      <th>corruption</th>\n",
       "      <td>0.018182</td>\n",
       "    </tr>\n",
       "    <tr>\n",
       "      <th>media</th>\n",
       "      <td>0.018182</td>\n",
       "    </tr>\n",
       "    <tr>\n",
       "      <th>shills</th>\n",
       "      <td>0.018182</td>\n",
       "    </tr>\n",
       "    <tr>\n",
       "      <th>sister</th>\n",
       "      <td>0.018182</td>\n",
       "    </tr>\n",
       "    <tr>\n",
       "      <th>removed</th>\n",
       "      <td>0.018182</td>\n",
       "    </tr>\n",
       "    <tr>\n",
       "      <th>opinion</th>\n",
       "      <td>0.018182</td>\n",
       "    </tr>\n",
       "    <tr>\n",
       "      <th>supporters</th>\n",
       "      <td>0.018182</td>\n",
       "    </tr>\n",
       "    <tr>\n",
       "      <th>years</th>\n",
       "      <td>0.018182</td>\n",
       "    </tr>\n",
       "    <tr>\n",
       "      <th>geotus</th>\n",
       "      <td>0.018182</td>\n",
       "    </tr>\n",
       "    <tr>\n",
       "      <th>putin</th>\n",
       "      <td>0.018182</td>\n",
       "    </tr>\n",
       "    <tr>\n",
       "      <th>watch</th>\n",
       "      <td>0.018182</td>\n",
       "    </tr>\n",
       "    <tr>\n",
       "      <th>don</th>\n",
       "      <td>0.018182</td>\n",
       "    </tr>\n",
       "    <tr>\n",
       "      <th>dems</th>\n",
       "      <td>0.018182</td>\n",
       "    </tr>\n",
       "  </tbody>\n",
       "</table>\n",
       "</div>"
      ],
      "text/plain": [
       "            importance\n",
       "mueller       0.090909\n",
       "kek           0.036364\n",
       "trump         0.036364\n",
       "republican    0.036364\n",
       "left          0.036364\n",
       "god           0.018182\n",
       "fox           0.018182\n",
       "corruption    0.018182\n",
       "media         0.018182\n",
       "shills        0.018182\n",
       "sister        0.018182\n",
       "removed       0.018182\n",
       "opinion       0.018182\n",
       "supporters    0.018182\n",
       "years         0.018182\n",
       "geotus        0.018182\n",
       "putin         0.018182\n",
       "watch         0.018182\n",
       "don           0.018182\n",
       "dems          0.018182"
      ]
     },
     "execution_count": 937,
     "metadata": {},
     "output_type": "execute_result"
    }
   ],
   "source": [
    "feat_importances.sort_values('importance', ascending=False).head(20)"
   ]
  }
 ],
 "metadata": {
  "anaconda-cloud": {},
  "kernelspec": {
   "display_name": "Python 3",
   "language": "python",
   "name": "python3"
  },
  "language_info": {
   "codemirror_mode": {
    "name": "ipython",
    "version": 3
   },
   "file_extension": ".py",
   "mimetype": "text/x-python",
   "name": "python",
   "nbconvert_exporter": "python",
   "pygments_lexer": "ipython3",
   "version": "3.6.5"
  },
  "varInspector": {
   "cols": {
    "lenName": 16,
    "lenType": 16,
    "lenVar": 40
   },
   "kernels_config": {
    "python": {
     "delete_cmd_postfix": "",
     "delete_cmd_prefix": "del ",
     "library": "var_list.py",
     "varRefreshCmd": "print(var_dic_list())"
    },
    "r": {
     "delete_cmd_postfix": ") ",
     "delete_cmd_prefix": "rm(",
     "library": "var_list.r",
     "varRefreshCmd": "cat(var_dic_list()) "
    }
   },
   "types_to_exclude": [
    "module",
    "function",
    "builtin_function_or_method",
    "instance",
    "_Feature"
   ],
   "window_display": false
  }
 },
 "nbformat": 4,
 "nbformat_minor": 1
}
